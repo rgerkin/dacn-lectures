{
 "cells": [
  {
   "cell_type": "markdown",
   "metadata": {
    "slideshow": {
     "slide_type": "slide"
    }
   },
   "source": [
    "# Random Forest Regression in Neuroscience"
   ]
  },
  {
   "cell_type": "code",
   "execution_count": 18,
   "metadata": {
    "slideshow": {
     "slide_type": "skip"
    }
   },
   "outputs": [],
   "source": [
    "%matplotlib inline\n",
    "import matplotlib.pyplot as plt\n",
    "import numpy as np\n",
    "import pandas as pd\n",
    "from sklearn.ensemble import RandomForestRegressor\n",
    "from sklearn.linear_model import LinearRegression,Lasso\n",
    "from sklearn.model_selection import cross_val_score, cross_val_predict,ShuffleSplit\n",
    "from scipy.stats import pearsonr\n",
    "from fancyimpute import KNN"
   ]
  },
  {
   "cell_type": "code",
   "execution_count": 4,
   "metadata": {
    "slideshow": {
     "slide_type": "skip"
    }
   },
   "outputs": [],
   "source": [
    "plt.rcParams.update({'font.size':16,'figure.figsize':(12,8)})"
   ]
  },
  {
   "cell_type": "markdown",
   "metadata": {
    "slideshow": {
     "slide_type": "slide"
    }
   },
   "source": [
    "## Loading data from NeuroElectro"
   ]
  },
  {
   "cell_type": "code",
   "execution_count": 5,
   "metadata": {
    "slideshow": {
     "slide_type": "fragment"
    }
   },
   "outputs": [
    {
     "data": {
      "text/html": [
       "<div>\n",
       "<style scoped>\n",
       "    .dataframe tbody tr th:only-of-type {\n",
       "        vertical-align: middle;\n",
       "    }\n",
       "\n",
       "    .dataframe tbody tr th {\n",
       "        vertical-align: top;\n",
       "    }\n",
       "\n",
       "    .dataframe thead th {\n",
       "        text-align: right;\n",
       "    }\n",
       "</style>\n",
       "<table border=\"1\" class=\"dataframe\">\n",
       "  <thead>\n",
       "    <tr style=\"text-align: right;\">\n",
       "      <th></th>\n",
       "      <th>Title</th>\n",
       "      <th>Pmid</th>\n",
       "      <th>PubYear</th>\n",
       "      <th>LastAuthor</th>\n",
       "      <th>ArticleID</th>\n",
       "      <th>TableID</th>\n",
       "      <th>NeuronName</th>\n",
       "      <th>NeuronLongName</th>\n",
       "      <th>NeuronPrefName</th>\n",
       "      <th>NeuroNERAnnots</th>\n",
       "      <th>...</th>\n",
       "      <th>sahpvolt_err</th>\n",
       "      <th>sahpvolt_n</th>\n",
       "      <th>sahpvolt_sd</th>\n",
       "      <th>sahpvolt_note</th>\n",
       "      <th>mahpvolt</th>\n",
       "      <th>mahpvolt_raw</th>\n",
       "      <th>mahpvolt_err</th>\n",
       "      <th>mahpvolt_n</th>\n",
       "      <th>mahpvolt_sd</th>\n",
       "      <th>mahpvolt_note</th>\n",
       "    </tr>\n",
       "    <tr>\n",
       "      <th>Index</th>\n",
       "      <th></th>\n",
       "      <th></th>\n",
       "      <th></th>\n",
       "      <th></th>\n",
       "      <th></th>\n",
       "      <th></th>\n",
       "      <th></th>\n",
       "      <th></th>\n",
       "      <th></th>\n",
       "      <th></th>\n",
       "      <th></th>\n",
       "      <th></th>\n",
       "      <th></th>\n",
       "      <th></th>\n",
       "      <th></th>\n",
       "      <th></th>\n",
       "      <th></th>\n",
       "      <th></th>\n",
       "      <th></th>\n",
       "      <th></th>\n",
       "      <th></th>\n",
       "    </tr>\n",
       "  </thead>\n",
       "  <tbody>\n",
       "    <tr>\n",
       "      <th>150</th>\n",
       "      <td>Cell type-specific effects of adenosine on cor...</td>\n",
       "      <td>24108800</td>\n",
       "      <td>2015</td>\n",
       "      <td>Feldmeyer D</td>\n",
       "      <td>88449</td>\n",
       "      <td>35984.0</td>\n",
       "      <td>Neocortex basket cell</td>\n",
       "      <td>medial prefrontal cortex fast spiking interne...</td>\n",
       "      <td>medial prefrontal cortex fast spiking interne...</td>\n",
       "      <td>[ABA_REGION:714, HBP_EPHYS:0000080, HBP_EPHYS_...</td>\n",
       "      <td>...</td>\n",
       "      <td>NaN</td>\n",
       "      <td>NaN</td>\n",
       "      <td>NaN</td>\n",
       "      <td>NaN</td>\n",
       "      <td>NaN</td>\n",
       "      <td>NaN</td>\n",
       "      <td>NaN</td>\n",
       "      <td>NaN</td>\n",
       "      <td>NaN</td>\n",
       "      <td>NaN</td>\n",
       "    </tr>\n",
       "    <tr>\n",
       "      <th>149</th>\n",
       "      <td>Cell type-specific effects of adenosine on cor...</td>\n",
       "      <td>24108800</td>\n",
       "      <td>2015</td>\n",
       "      <td>Feldmeyer D</td>\n",
       "      <td>88449</td>\n",
       "      <td>35984.0</td>\n",
       "      <td>Neocortex Martinotti cell</td>\n",
       "      <td>medial prefrontal cortex low-threshold spiking...</td>\n",
       "      <td>medial prefrontal cortex low-threshold spiking...</td>\n",
       "      <td>[ABA_REGION:714, HBP_EPHYS:0000110, HBP_EPHYS_...</td>\n",
       "      <td>...</td>\n",
       "      <td>NaN</td>\n",
       "      <td>NaN</td>\n",
       "      <td>NaN</td>\n",
       "      <td>NaN</td>\n",
       "      <td>NaN</td>\n",
       "      <td>NaN</td>\n",
       "      <td>NaN</td>\n",
       "      <td>NaN</td>\n",
       "      <td>NaN</td>\n",
       "      <td>NaN</td>\n",
       "    </tr>\n",
       "    <tr>\n",
       "      <th>151</th>\n",
       "      <td>Cell type-specific effects of adenosine on cor...</td>\n",
       "      <td>24108800</td>\n",
       "      <td>2015</td>\n",
       "      <td>Feldmeyer D</td>\n",
       "      <td>88449</td>\n",
       "      <td>35984.0</td>\n",
       "      <td>Neocortex basket cell</td>\n",
       "      <td>somatosensory cortex fast-firing interneuron</td>\n",
       "      <td>somatosensory cortex fast-firing interneuron</td>\n",
       "      <td>[ABA_REGION:453, HBP_EPHYS:0000080, HBP_EPHYS_...</td>\n",
       "      <td>...</td>\n",
       "      <td>NaN</td>\n",
       "      <td>NaN</td>\n",
       "      <td>NaN</td>\n",
       "      <td>NaN</td>\n",
       "      <td>NaN</td>\n",
       "      <td>NaN</td>\n",
       "      <td>NaN</td>\n",
       "      <td>NaN</td>\n",
       "      <td>NaN</td>\n",
       "      <td>NaN</td>\n",
       "    </tr>\n",
       "  </tbody>\n",
       "</table>\n",
       "<p>3 rows × 352 columns</p>\n",
       "</div>"
      ],
      "text/plain": [
       "                                                   Title      Pmid  PubYear  \\\n",
       "Index                                                                         \n",
       "150    Cell type-specific effects of adenosine on cor...  24108800     2015   \n",
       "149    Cell type-specific effects of adenosine on cor...  24108800     2015   \n",
       "151    Cell type-specific effects of adenosine on cor...  24108800     2015   \n",
       "\n",
       "        LastAuthor  ArticleID  TableID                 NeuronName  \\\n",
       "Index                                                               \n",
       "150    Feldmeyer D      88449  35984.0      Neocortex basket cell   \n",
       "149    Feldmeyer D      88449  35984.0  Neocortex Martinotti cell   \n",
       "151    Feldmeyer D      88449  35984.0      Neocortex basket cell   \n",
       "\n",
       "                                          NeuronLongName  \\\n",
       "Index                                                      \n",
       "150     medial prefrontal cortex fast spiking interne...   \n",
       "149    medial prefrontal cortex low-threshold spiking...   \n",
       "151         somatosensory cortex fast-firing interneuron   \n",
       "\n",
       "                                          NeuronPrefName  \\\n",
       "Index                                                      \n",
       "150     medial prefrontal cortex fast spiking interne...   \n",
       "149    medial prefrontal cortex low-threshold spiking...   \n",
       "151         somatosensory cortex fast-firing interneuron   \n",
       "\n",
       "                                          NeuroNERAnnots      ...        \\\n",
       "Index                                                         ...         \n",
       "150    [ABA_REGION:714, HBP_EPHYS:0000080, HBP_EPHYS_...      ...         \n",
       "149    [ABA_REGION:714, HBP_EPHYS:0000110, HBP_EPHYS_...      ...         \n",
       "151    [ABA_REGION:453, HBP_EPHYS:0000080, HBP_EPHYS_...      ...         \n",
       "\n",
       "      sahpvolt_err  sahpvolt_n sahpvolt_sd sahpvolt_note mahpvolt  \\\n",
       "Index                                                               \n",
       "150            NaN         NaN         NaN           NaN      NaN   \n",
       "149            NaN         NaN         NaN           NaN      NaN   \n",
       "151            NaN         NaN         NaN           NaN      NaN   \n",
       "\n",
       "      mahpvolt_raw mahpvolt_err  mahpvolt_n  mahpvolt_sd  mahpvolt_note  \n",
       "Index                                                                    \n",
       "150            NaN          NaN         NaN          NaN            NaN  \n",
       "149            NaN          NaN         NaN          NaN            NaN  \n",
       "151            NaN          NaN         NaN          NaN            NaN  \n",
       "\n",
       "[3 rows x 352 columns]"
      ]
     },
     "execution_count": 5,
     "metadata": {},
     "output_type": "execute_result"
    }
   ],
   "source": [
    "df = pd.read_csv('data/article_ephys_metadata_curated.csv',delimiter='\\t').set_index('Index')\n",
    "df.head(3)"
   ]
  },
  {
   "cell_type": "markdown",
   "metadata": {
    "slideshow": {
     "slide_type": "slide"
    }
   },
   "source": [
    "## To make this easier, let's restruct the data to only that from one cell type"
   ]
  },
  {
   "cell_type": "code",
   "execution_count": 6,
   "metadata": {
    "slideshow": {
     "slide_type": "fragment"
    }
   },
   "outputs": [
    {
     "data": {
      "text/html": [
       "<div>\n",
       "<style scoped>\n",
       "    .dataframe tbody tr th:only-of-type {\n",
       "        vertical-align: middle;\n",
       "    }\n",
       "\n",
       "    .dataframe tbody tr th {\n",
       "        vertical-align: top;\n",
       "    }\n",
       "\n",
       "    .dataframe thead th {\n",
       "        text-align: right;\n",
       "    }\n",
       "</style>\n",
       "<table border=\"1\" class=\"dataframe\">\n",
       "  <thead>\n",
       "    <tr style=\"text-align: right;\">\n",
       "      <th></th>\n",
       "      <th>Title</th>\n",
       "      <th>Pmid</th>\n",
       "      <th>PubYear</th>\n",
       "      <th>LastAuthor</th>\n",
       "      <th>ArticleID</th>\n",
       "      <th>TableID</th>\n",
       "      <th>NeuronName</th>\n",
       "      <th>NeuronLongName</th>\n",
       "      <th>NeuronPrefName</th>\n",
       "      <th>NeuroNERAnnots</th>\n",
       "      <th>...</th>\n",
       "      <th>sahpvolt_err</th>\n",
       "      <th>sahpvolt_n</th>\n",
       "      <th>sahpvolt_sd</th>\n",
       "      <th>sahpvolt_note</th>\n",
       "      <th>mahpvolt</th>\n",
       "      <th>mahpvolt_raw</th>\n",
       "      <th>mahpvolt_err</th>\n",
       "      <th>mahpvolt_n</th>\n",
       "      <th>mahpvolt_sd</th>\n",
       "      <th>mahpvolt_note</th>\n",
       "    </tr>\n",
       "    <tr>\n",
       "      <th>Index</th>\n",
       "      <th></th>\n",
       "      <th></th>\n",
       "      <th></th>\n",
       "      <th></th>\n",
       "      <th></th>\n",
       "      <th></th>\n",
       "      <th></th>\n",
       "      <th></th>\n",
       "      <th></th>\n",
       "      <th></th>\n",
       "      <th></th>\n",
       "      <th></th>\n",
       "      <th></th>\n",
       "      <th></th>\n",
       "      <th></th>\n",
       "      <th></th>\n",
       "      <th></th>\n",
       "      <th></th>\n",
       "      <th></th>\n",
       "      <th></th>\n",
       "      <th></th>\n",
       "    </tr>\n",
       "  </thead>\n",
       "  <tbody>\n",
       "    <tr>\n",
       "      <th>721</th>\n",
       "      <td>Hippocampal function is compromised in an anim...</td>\n",
       "      <td>25795599</td>\n",
       "      <td>2015</td>\n",
       "      <td>Manahan-Vaughan D</td>\n",
       "      <td>92518</td>\n",
       "      <td>47576.0</td>\n",
       "      <td>Hippocampus CA1 pyramidal cell</td>\n",
       "      <td>Hippocampus CA1 stratum radiatum pyramidal imm...</td>\n",
       "      <td>Hippocampus CA1 stratum radiatum pyramidal imm...</td>\n",
       "      <td>[ABA_REGION:382, UNKN_REGION:1407, HBP_MORPHOL...</td>\n",
       "      <td>...</td>\n",
       "      <td>NaN</td>\n",
       "      <td>NaN</td>\n",
       "      <td>NaN</td>\n",
       "      <td>NaN</td>\n",
       "      <td>NaN</td>\n",
       "      <td>NaN</td>\n",
       "      <td>NaN</td>\n",
       "      <td>NaN</td>\n",
       "      <td>NaN</td>\n",
       "      <td>NaN</td>\n",
       "    </tr>\n",
       "    <tr>\n",
       "      <th>722</th>\n",
       "      <td>Hippocampal function is compromised in an anim...</td>\n",
       "      <td>25795599</td>\n",
       "      <td>2015</td>\n",
       "      <td>Manahan-Vaughan D</td>\n",
       "      <td>92518</td>\n",
       "      <td>47576.0</td>\n",
       "      <td>Hippocampus CA1 pyramidal cell</td>\n",
       "      <td>Hippocampus CA1 stratum radiatum pyramidal imm...</td>\n",
       "      <td>Hippocampus CA1 stratum radiatum pyramidal imm...</td>\n",
       "      <td>[ABA_REGION:382, UNKN_REGION:1407, HBP_MORPHOL...</td>\n",
       "      <td>...</td>\n",
       "      <td>NaN</td>\n",
       "      <td>NaN</td>\n",
       "      <td>NaN</td>\n",
       "      <td>NaN</td>\n",
       "      <td>NaN</td>\n",
       "      <td>NaN</td>\n",
       "      <td>NaN</td>\n",
       "      <td>NaN</td>\n",
       "      <td>NaN</td>\n",
       "      <td>NaN</td>\n",
       "    </tr>\n",
       "    <tr>\n",
       "      <th>1371</th>\n",
       "      <td>Tau-dependent Kv4.2 depletion and dendritic hy...</td>\n",
       "      <td>25878292</td>\n",
       "      <td>2015</td>\n",
       "      <td>Roberson ED</td>\n",
       "      <td>92084</td>\n",
       "      <td>46519.0</td>\n",
       "      <td>Hippocampus CA1 pyramidal cell</td>\n",
       "      <td>NaN</td>\n",
       "      <td>Hippocampus CA1 pyramidal cell</td>\n",
       "      <td>[ABA_REGION:382, HBP_MORPHOLOGY:0000001, Neuro...</td>\n",
       "      <td>...</td>\n",
       "      <td>NaN</td>\n",
       "      <td>NaN</td>\n",
       "      <td>NaN</td>\n",
       "      <td>NaN</td>\n",
       "      <td>NaN</td>\n",
       "      <td>NaN</td>\n",
       "      <td>NaN</td>\n",
       "      <td>NaN</td>\n",
       "      <td>NaN</td>\n",
       "      <td>NaN</td>\n",
       "    </tr>\n",
       "    <tr>\n",
       "      <th>1202</th>\n",
       "      <td>Reversal of Aging-Related Neuronal Ca2+ Dysreg...</td>\n",
       "      <td>26224869</td>\n",
       "      <td>2015</td>\n",
       "      <td>Landfield PW</td>\n",
       "      <td>92396</td>\n",
       "      <td>47312.0</td>\n",
       "      <td>Hippocampus CA1 pyramidal cell</td>\n",
       "      <td>NaN</td>\n",
       "      <td>Hippocampus CA1 pyramidal cell</td>\n",
       "      <td>[ABA_REGION:382, HBP_MORPHOLOGY:0000001, Neuro...</td>\n",
       "      <td>...</td>\n",
       "      <td>NaN</td>\n",
       "      <td>NaN</td>\n",
       "      <td>NaN</td>\n",
       "      <td>NaN</td>\n",
       "      <td>NaN</td>\n",
       "      <td>NaN</td>\n",
       "      <td>NaN</td>\n",
       "      <td>NaN</td>\n",
       "      <td>NaN</td>\n",
       "      <td>NaN</td>\n",
       "    </tr>\n",
       "    <tr>\n",
       "      <th>1203</th>\n",
       "      <td>Reversal of Aging-Related Neuronal Ca2+ Dysreg...</td>\n",
       "      <td>26224869</td>\n",
       "      <td>2015</td>\n",
       "      <td>Landfield PW</td>\n",
       "      <td>92396</td>\n",
       "      <td>47312.0</td>\n",
       "      <td>Hippocampus CA1 pyramidal cell</td>\n",
       "      <td>NaN</td>\n",
       "      <td>Hippocampus CA1 pyramidal cell</td>\n",
       "      <td>[ABA_REGION:382, HBP_MORPHOLOGY:0000001, Neuro...</td>\n",
       "      <td>...</td>\n",
       "      <td>NaN</td>\n",
       "      <td>NaN</td>\n",
       "      <td>NaN</td>\n",
       "      <td>NaN</td>\n",
       "      <td>NaN</td>\n",
       "      <td>NaN</td>\n",
       "      <td>NaN</td>\n",
       "      <td>NaN</td>\n",
       "      <td>NaN</td>\n",
       "      <td>NaN</td>\n",
       "    </tr>\n",
       "  </tbody>\n",
       "</table>\n",
       "<p>5 rows × 352 columns</p>\n",
       "</div>"
      ],
      "text/plain": [
       "                                                   Title      Pmid  PubYear  \\\n",
       "Index                                                                         \n",
       "721    Hippocampal function is compromised in an anim...  25795599     2015   \n",
       "722    Hippocampal function is compromised in an anim...  25795599     2015   \n",
       "1371   Tau-dependent Kv4.2 depletion and dendritic hy...  25878292     2015   \n",
       "1202   Reversal of Aging-Related Neuronal Ca2+ Dysreg...  26224869     2015   \n",
       "1203   Reversal of Aging-Related Neuronal Ca2+ Dysreg...  26224869     2015   \n",
       "\n",
       "              LastAuthor  ArticleID  TableID                      NeuronName  \\\n",
       "Index                                                                          \n",
       "721    Manahan-Vaughan D      92518  47576.0  Hippocampus CA1 pyramidal cell   \n",
       "722    Manahan-Vaughan D      92518  47576.0  Hippocampus CA1 pyramidal cell   \n",
       "1371         Roberson ED      92084  46519.0  Hippocampus CA1 pyramidal cell   \n",
       "1202        Landfield PW      92396  47312.0  Hippocampus CA1 pyramidal cell   \n",
       "1203        Landfield PW      92396  47312.0  Hippocampus CA1 pyramidal cell   \n",
       "\n",
       "                                          NeuronLongName  \\\n",
       "Index                                                      \n",
       "721    Hippocampus CA1 stratum radiatum pyramidal imm...   \n",
       "722    Hippocampus CA1 stratum radiatum pyramidal imm...   \n",
       "1371                                                 NaN   \n",
       "1202                                                 NaN   \n",
       "1203                                                 NaN   \n",
       "\n",
       "                                          NeuronPrefName  \\\n",
       "Index                                                      \n",
       "721    Hippocampus CA1 stratum radiatum pyramidal imm...   \n",
       "722    Hippocampus CA1 stratum radiatum pyramidal imm...   \n",
       "1371                      Hippocampus CA1 pyramidal cell   \n",
       "1202                      Hippocampus CA1 pyramidal cell   \n",
       "1203                      Hippocampus CA1 pyramidal cell   \n",
       "\n",
       "                                          NeuroNERAnnots      ...        \\\n",
       "Index                                                         ...         \n",
       "721    [ABA_REGION:382, UNKN_REGION:1407, HBP_MORPHOL...      ...         \n",
       "722    [ABA_REGION:382, UNKN_REGION:1407, HBP_MORPHOL...      ...         \n",
       "1371   [ABA_REGION:382, HBP_MORPHOLOGY:0000001, Neuro...      ...         \n",
       "1202   [ABA_REGION:382, HBP_MORPHOLOGY:0000001, Neuro...      ...         \n",
       "1203   [ABA_REGION:382, HBP_MORPHOLOGY:0000001, Neuro...      ...         \n",
       "\n",
       "      sahpvolt_err  sahpvolt_n sahpvolt_sd sahpvolt_note mahpvolt  \\\n",
       "Index                                                               \n",
       "721            NaN         NaN         NaN           NaN      NaN   \n",
       "722            NaN         NaN         NaN           NaN      NaN   \n",
       "1371           NaN         NaN         NaN           NaN      NaN   \n",
       "1202           NaN         NaN         NaN           NaN      NaN   \n",
       "1203           NaN         NaN         NaN           NaN      NaN   \n",
       "\n",
       "      mahpvolt_raw mahpvolt_err  mahpvolt_n  mahpvolt_sd  mahpvolt_note  \n",
       "Index                                                                    \n",
       "721            NaN          NaN         NaN          NaN            NaN  \n",
       "722            NaN          NaN         NaN          NaN            NaN  \n",
       "1371           NaN          NaN         NaN          NaN            NaN  \n",
       "1202           NaN          NaN         NaN          NaN            NaN  \n",
       "1203           NaN          NaN         NaN          NaN            NaN  \n",
       "\n",
       "[5 rows x 352 columns]"
      ]
     },
     "execution_count": 6,
     "metadata": {},
     "output_type": "execute_result"
    }
   ],
   "source": [
    "df = df[df['NeuronName'].isin(['Hippocampus CA1 pyramidal cell'])]\n",
    "df.head()"
   ]
  },
  {
   "cell_type": "markdown",
   "metadata": {
    "slideshow": {
     "slide_type": "slide"
    }
   },
   "source": [
    "## There are so many variables to choose from!  "
   ]
  },
  {
   "cell_type": "code",
   "execution_count": 7,
   "metadata": {
    "slideshow": {
     "slide_type": "fragment"
    }
   },
   "outputs": [
    {
     "name": "stdout",
     "output_type": "stream",
     "text": [
      "['Title', 'Pmid', 'PubYear', 'LastAuthor', 'ArticleID', 'TableID', 'NeuronName', 'NeuronLongName', 'NeuronPrefName', 'NeuroNERAnnots', 'BrainRegion', 'MetadataCurated', 'Species', 'Strain', 'ElectrodeType', 'PrepType', 'JxnPotential', 'JxnOffset', 'RecTemp', 'AnimalAge', 'AnimalWeight', 'FlagSoln', 'ExternalSolution', 'ExternalSolution_conf', 'external_0_Mg', 'external_0_Ca', 'external_0_Na', 'external_0_Cl', 'external_0_K', 'external_0_pH', 'InternalSolution', 'InternalSolution_conf', 'internal_0_Mg', 'internal_0_Ca', 'internal_0_Na', 'internal_0_Cl', 'internal_0_K', 'internal_0_pH', 'MetadataNote', 'TableNote', 'rin', 'rin_raw', 'rin_err', 'rin_n', 'rin_sd', 'rin_note', 'rmp', 'rmp_raw', 'rmp_err', 'rmp_n', 'rmp_sd', 'rmp_note', 'apthr', 'apthr_raw', 'apthr_err', 'apthr_n', 'apthr_sd', 'apthr_note', 'apamp', 'apamp_raw', 'apamp_err', 'apamp_n', 'apamp_sd', 'apamp_note', 'aphw', 'aphw_raw', 'aphw_err', 'aphw_n', 'aphw_sd', 'aphw_note', 'tau', 'tau_raw', 'tau_err', 'tau_n', 'tau_sd', 'tau_note', 'ahpamp', 'ahpamp_raw', 'ahpamp_err', 'ahpamp_n', 'ahpamp_sd', 'ahpamp_note', 'cap', 'cap_raw', 'cap_err', 'cap_n', 'cap_sd', 'cap_note', 'apwidth', 'apwidth_raw', 'apwidth_err', 'apwidth_n', 'apwidth_sd', 'apwidth_note', 'apfreq', 'apfreq_raw', 'apfreq_err', 'apfreq_n', 'apfreq_sd', 'apfreq_note', 'rheo', 'rheo_raw', 'rheo_err', 'rheo_n', 'rheo_sd', 'rheo_note', 'ahpdur', 'ahpdur_raw', 'ahpdur_err', 'ahpdur_n', 'ahpdur_sd', 'ahpdur_note', 'sagratio', 'sagratio_raw', 'sagratio_err', 'sagratio_n', 'sagratio_sd', 'sagratio_note', 'maxfreq', 'maxfreq_raw', 'maxfreq_err', 'maxfreq_n', 'maxfreq_sd', 'maxfreq_note', 'apriseslope', 'apriseslope_raw', 'apriseslope_err', 'apriseslope_n', 'apriseslope_sd', 'apriseslope_note', 'fahpamp', 'fahpamp_raw', 'fahpamp_err', 'fahpamp_n', 'fahpamp_sd', 'fahpamp_note', 'spontfreq', 'spontfreq_raw', 'spontfreq_err', 'spontfreq_n', 'spontfreq_sd', 'spontfreq_note', 'appeak', 'appeak_raw', 'appeak_err', 'appeak_n', 'appeak_sd', 'appeak_note', 'apriset', 'apriset_raw', 'apriset_err', 'apriset_n', 'apriset_sd', 'apriset_note', 'apdecayslope', 'apdecayslope_raw', 'apdecayslope_err', 'apdecayslope_n', 'apdecayslope_sd', 'apdecayslope_note', 'apdelay', 'apdelay_raw', 'apdelay_err', 'apdelay_n', 'apdelay_sd', 'apdelay_note', 'fislope', 'fislope_raw', 'fislope_err', 'fislope_n', 'fislope_sd', 'fislope_note', 'adratio', 'adratio_raw', 'adratio_err', 'adratio_n', 'adratio_sd', 'adratio_note', 'apamprest', 'apamprest_raw', 'apamprest_err', 'apamprest_n', 'apamprest_sd', 'apamprest_note', 'other', 'other_raw', 'other_err', 'other_n', 'other_sd', 'other_note', 'sagamp', 'sagamp_raw', 'sagamp_err', 'sagamp_n', 'sagamp_sd', 'sagamp_note', 'sahpamp', 'sahpamp_raw', 'sahpamp_err', 'sahpamp_n', 'sahpamp_sd', 'sahpamp_note', 'apdecayt', 'apdecayt_raw', 'apdecayt_err', 'apdecayt_n', 'apdecayt_sd', 'apdecayt_note', 'accres', 'accres_raw', 'accres_err', 'accres_n', 'accres_sd', 'accres_note', 'adratioinv', 'adratioinv_raw', 'adratioinv_err', 'adratioinv_n', 'adratioinv_sd', 'adratioinv_note', 'adpamp', 'adpamp_raw', 'adpamp_err', 'adpamp_n', 'adpamp_sd', 'adpamp_note', 'ahpamprest', 'ahpamprest_raw', 'ahpamprest_err', 'ahpamprest_n', 'ahpamprest_sd', 'ahpamprest_note', 'mahpamp', 'mahpamp_raw', 'mahpamp_err', 'mahpamp_n', 'mahpamp_sd', 'mahpamp_note', 'fahpdur', 'fahpdur_raw', 'fahpdur_err', 'fahpdur_n', 'fahpdur_sd', 'fahpdur_note', 'ahpvolt', 'ahpvolt_raw', 'ahpvolt_err', 'ahpvolt_n', 'ahpvolt_sd', 'ahpvolt_note', 'sahpdur', 'sahpdur_raw', 'sahpdur_err', 'sahpdur_n', 'sahpdur_sd', 'sahpdur_note', 'celldiam', 'celldiam_raw', 'celldiam_err', 'celldiam_n', 'celldiam_sd', 'celldiam_note', 'adpctother', 'adpctother_raw', 'adpctother_err', 'adpctother_n', 'adpctother_sd', 'adpctother_note', 'adpct', 'adpct_raw', 'adpct_err', 'adpct_n', 'adpct_sd', 'adpct_note', 'adpctminus', 'adpctminus_raw', 'adpctminus_err', 'adpctminus_n', 'adpctminus_sd', 'adpctminus_note', 'surfarea', 'surfarea_raw', 'surfarea_err', 'surfarea_n', 'surfarea_sd', 'surfarea_note', 'mahpdur', 'mahpdur_raw', 'mahpdur_err', 'mahpdur_n', 'mahpdur_sd', 'mahpdur_note', 'adratiominus', 'adratiominus_raw', 'adratiominus_err', 'adratiominus_n', 'adratiominus_sd', 'adratiominus_note', 'adpctinv', 'adpctinv_raw', 'adpctinv_err', 'adpctinv_n', 'adpctinv_sd', 'adpctinv_note', 'adpdur', 'adpdur_raw', 'adpdur_err', 'adpdur_n', 'adpdur_sd', 'adpdur_note', 'fahpvolt', 'fahpvolt_raw', 'fahpvolt_err', 'fahpvolt_n', 'fahpvolt_sd', 'fahpvolt_note', 'mahpamprest', 'mahpamprest_raw', 'mahpamprest_err', 'mahpamprest_n', 'mahpamprest_sd', 'mahpamprest_note', 'apamptrough', 'apamptrough_raw', 'apamptrough_err', 'apamptrough_n', 'apamptrough_sd', 'apamptrough_note', 'sahpamprest', 'sahpamprest_raw', 'sahpamprest_err', 'sahpamprest_n', 'sahpamprest_sd', 'sahpamprest_note', 'fahpamprest', 'fahpamprest_raw', 'fahpamprest_err', 'fahpamprest_n', 'fahpamprest_sd', 'fahpamprest_note', 'sahpvolt', 'sahpvolt_raw', 'sahpvolt_err', 'sahpvolt_n', 'sahpvolt_sd', 'sahpvolt_note', 'mahpvolt', 'mahpvolt_raw', 'mahpvolt_err', 'mahpvolt_n', 'mahpvolt_sd', 'mahpvolt_note']\n"
     ]
    }
   ],
   "source": [
    "print(list(df))"
   ]
  },
  {
   "cell_type": "markdown",
   "metadata": {
    "slideshow": {
     "slide_type": "slide"
    }
   },
   "source": [
    "## Choose some variables/features to model and pick one of them to be the prediction target"
   ]
  },
  {
   "cell_type": "code",
   "execution_count": 8,
   "metadata": {
    "slideshow": {
     "slide_type": "fragment"
    }
   },
   "outputs": [],
   "source": [
    "target = 'apamp' # Height of action potentials\n",
    "\n",
    "features = ['PubYear','Species','Strain','ElectrodeType',\n",
    "            'PrepType','JxnPotential','JxnOffset','RecTemp','AnimalAge','AnimalWeight',\n",
    "            'ExternalSolution_conf',\n",
    "            'external_0_Mg','external_0_Ca','external_0_Na','external_0_Cl','external_0_K',\n",
    "            'external_0_pH','InternalSolution_conf','internal_0_Mg',\n",
    "            'internal_0_Ca','internal_0_Na','internal_0_Cl','internal_0_K','internal_0_pH']"
   ]
  },
  {
   "cell_type": "markdown",
   "metadata": {
    "slideshow": {
     "slide_type": "slide"
    }
   },
   "source": [
    "## When \"bad\" (NaN, Inf, poorly encoded) values are in the variable to be predicted, we don't want to impute (guess) what they should be.  "
   ]
  },
  {
   "cell_type": "markdown",
   "metadata": {
    "slideshow": {
     "slide_type": "fragment"
    }
   },
   "source": [
    "## Instead, just drop them"
   ]
  },
  {
   "cell_type": "code",
   "execution_count": 9,
   "metadata": {
    "slideshow": {
     "slide_type": "fragment"
    }
   },
   "outputs": [],
   "source": [
    "df = df[df[target].notnull()]"
   ]
  },
  {
   "cell_type": "markdown",
   "metadata": {
    "slideshow": {
     "slide_type": "slide"
    }
   },
   "source": [
    "## Apply the One Hot Encoding (from last week)"
   ]
  },
  {
   "cell_type": "code",
   "execution_count": 10,
   "metadata": {
    "slideshow": {
     "slide_type": "fragment"
    }
   },
   "outputs": [
    {
     "data": {
      "text/html": [
       "<div>\n",
       "<style scoped>\n",
       "    .dataframe tbody tr th:only-of-type {\n",
       "        vertical-align: middle;\n",
       "    }\n",
       "\n",
       "    .dataframe tbody tr th {\n",
       "        vertical-align: top;\n",
       "    }\n",
       "\n",
       "    .dataframe thead th {\n",
       "        text-align: right;\n",
       "    }\n",
       "</style>\n",
       "<table border=\"1\" class=\"dataframe\">\n",
       "  <thead>\n",
       "    <tr style=\"text-align: right;\">\n",
       "      <th></th>\n",
       "      <th>PubYear</th>\n",
       "      <th>JxnOffset</th>\n",
       "      <th>RecTemp</th>\n",
       "      <th>AnimalAge</th>\n",
       "      <th>AnimalWeight</th>\n",
       "      <th>ExternalSolution_conf</th>\n",
       "      <th>external_0_Mg</th>\n",
       "      <th>external_0_Ca</th>\n",
       "      <th>external_0_Na</th>\n",
       "      <th>external_0_Cl</th>\n",
       "      <th>...</th>\n",
       "      <th>ElectrodeType_Patch-clamp, Sharp</th>\n",
       "      <th>ElectrodeType_Perforated patch, Patch-clamp</th>\n",
       "      <th>ElectrodeType_Sharp</th>\n",
       "      <th>PrepType_cell culture</th>\n",
       "      <th>PrepType_in vitro</th>\n",
       "      <th>PrepType_in vitro, cell culture</th>\n",
       "      <th>PrepType_in vivo</th>\n",
       "      <th>JxnPotential_Corrected</th>\n",
       "      <th>JxnPotential_Not corrected</th>\n",
       "      <th>JxnPotential_Unreported</th>\n",
       "    </tr>\n",
       "    <tr>\n",
       "      <th>Index</th>\n",
       "      <th></th>\n",
       "      <th></th>\n",
       "      <th></th>\n",
       "      <th></th>\n",
       "      <th></th>\n",
       "      <th></th>\n",
       "      <th></th>\n",
       "      <th></th>\n",
       "      <th></th>\n",
       "      <th></th>\n",
       "      <th></th>\n",
       "      <th></th>\n",
       "      <th></th>\n",
       "      <th></th>\n",
       "      <th></th>\n",
       "      <th></th>\n",
       "      <th></th>\n",
       "      <th></th>\n",
       "      <th></th>\n",
       "      <th></th>\n",
       "      <th></th>\n",
       "    </tr>\n",
       "  </thead>\n",
       "  <tbody>\n",
       "    <tr>\n",
       "      <th>721</th>\n",
       "      <td>2015</td>\n",
       "      <td>NaN</td>\n",
       "      <td>23.0</td>\n",
       "      <td>16.309506</td>\n",
       "      <td>NaN</td>\n",
       "      <td>5.0</td>\n",
       "      <td>1.3</td>\n",
       "      <td>2.5</td>\n",
       "      <td>149.60</td>\n",
       "      <td>133.9</td>\n",
       "      <td>...</td>\n",
       "      <td>0</td>\n",
       "      <td>0</td>\n",
       "      <td>0</td>\n",
       "      <td>0</td>\n",
       "      <td>1</td>\n",
       "      <td>0</td>\n",
       "      <td>0</td>\n",
       "      <td>0</td>\n",
       "      <td>0</td>\n",
       "      <td>1</td>\n",
       "    </tr>\n",
       "    <tr>\n",
       "      <th>722</th>\n",
       "      <td>2015</td>\n",
       "      <td>NaN</td>\n",
       "      <td>23.0</td>\n",
       "      <td>42.426407</td>\n",
       "      <td>NaN</td>\n",
       "      <td>5.0</td>\n",
       "      <td>1.3</td>\n",
       "      <td>2.5</td>\n",
       "      <td>149.60</td>\n",
       "      <td>133.9</td>\n",
       "      <td>...</td>\n",
       "      <td>0</td>\n",
       "      <td>0</td>\n",
       "      <td>0</td>\n",
       "      <td>0</td>\n",
       "      <td>1</td>\n",
       "      <td>0</td>\n",
       "      <td>0</td>\n",
       "      <td>0</td>\n",
       "      <td>0</td>\n",
       "      <td>1</td>\n",
       "    </tr>\n",
       "    <tr>\n",
       "      <th>1371</th>\n",
       "      <td>2015</td>\n",
       "      <td>NaN</td>\n",
       "      <td>31.0</td>\n",
       "      <td>NaN</td>\n",
       "      <td>NaN</td>\n",
       "      <td>5.0</td>\n",
       "      <td>1.0</td>\n",
       "      <td>2.0</td>\n",
       "      <td>151.25</td>\n",
       "      <td>133.5</td>\n",
       "      <td>...</td>\n",
       "      <td>0</td>\n",
       "      <td>0</td>\n",
       "      <td>0</td>\n",
       "      <td>0</td>\n",
       "      <td>1</td>\n",
       "      <td>0</td>\n",
       "      <td>0</td>\n",
       "      <td>0</td>\n",
       "      <td>0</td>\n",
       "      <td>1</td>\n",
       "    </tr>\n",
       "    <tr>\n",
       "      <th>1202</th>\n",
       "      <td>2015</td>\n",
       "      <td>NaN</td>\n",
       "      <td>22.0</td>\n",
       "      <td>134.164079</td>\n",
       "      <td>NaN</td>\n",
       "      <td>5.0</td>\n",
       "      <td>2.0</td>\n",
       "      <td>2.0</td>\n",
       "      <td>154.00</td>\n",
       "      <td>139.0</td>\n",
       "      <td>...</td>\n",
       "      <td>0</td>\n",
       "      <td>0</td>\n",
       "      <td>1</td>\n",
       "      <td>0</td>\n",
       "      <td>0</td>\n",
       "      <td>0</td>\n",
       "      <td>1</td>\n",
       "      <td>0</td>\n",
       "      <td>0</td>\n",
       "      <td>1</td>\n",
       "    </tr>\n",
       "    <tr>\n",
       "      <th>1203</th>\n",
       "      <td>2015</td>\n",
       "      <td>NaN</td>\n",
       "      <td>22.0</td>\n",
       "      <td>629.285309</td>\n",
       "      <td>NaN</td>\n",
       "      <td>5.0</td>\n",
       "      <td>2.0</td>\n",
       "      <td>2.0</td>\n",
       "      <td>154.00</td>\n",
       "      <td>139.0</td>\n",
       "      <td>...</td>\n",
       "      <td>0</td>\n",
       "      <td>0</td>\n",
       "      <td>1</td>\n",
       "      <td>0</td>\n",
       "      <td>0</td>\n",
       "      <td>0</td>\n",
       "      <td>1</td>\n",
       "      <td>0</td>\n",
       "      <td>0</td>\n",
       "      <td>1</td>\n",
       "    </tr>\n",
       "  </tbody>\n",
       "</table>\n",
       "<p>5 rows × 46 columns</p>\n",
       "</div>"
      ],
      "text/plain": [
       "       PubYear  JxnOffset  RecTemp   AnimalAge  AnimalWeight  \\\n",
       "Index                                                          \n",
       "721       2015        NaN     23.0   16.309506           NaN   \n",
       "722       2015        NaN     23.0   42.426407           NaN   \n",
       "1371      2015        NaN     31.0         NaN           NaN   \n",
       "1202      2015        NaN     22.0  134.164079           NaN   \n",
       "1203      2015        NaN     22.0  629.285309           NaN   \n",
       "\n",
       "       ExternalSolution_conf  external_0_Mg  external_0_Ca  external_0_Na  \\\n",
       "Index                                                                       \n",
       "721                      5.0            1.3            2.5         149.60   \n",
       "722                      5.0            1.3            2.5         149.60   \n",
       "1371                     5.0            1.0            2.0         151.25   \n",
       "1202                     5.0            2.0            2.0         154.00   \n",
       "1203                     5.0            2.0            2.0         154.00   \n",
       "\n",
       "       external_0_Cl           ...             \\\n",
       "Index                          ...              \n",
       "721            133.9           ...              \n",
       "722            133.9           ...              \n",
       "1371           133.5           ...              \n",
       "1202           139.0           ...              \n",
       "1203           139.0           ...              \n",
       "\n",
       "       ElectrodeType_Patch-clamp, Sharp  \\\n",
       "Index                                     \n",
       "721                                   0   \n",
       "722                                   0   \n",
       "1371                                  0   \n",
       "1202                                  0   \n",
       "1203                                  0   \n",
       "\n",
       "       ElectrodeType_Perforated patch, Patch-clamp  ElectrodeType_Sharp  \\\n",
       "Index                                                                     \n",
       "721                                              0                    0   \n",
       "722                                              0                    0   \n",
       "1371                                             0                    0   \n",
       "1202                                             0                    1   \n",
       "1203                                             0                    1   \n",
       "\n",
       "       PrepType_cell culture  PrepType_in vitro  \\\n",
       "Index                                             \n",
       "721                        0                  1   \n",
       "722                        0                  1   \n",
       "1371                       0                  1   \n",
       "1202                       0                  0   \n",
       "1203                       0                  0   \n",
       "\n",
       "       PrepType_in vitro, cell culture  PrepType_in vivo  \\\n",
       "Index                                                      \n",
       "721                                  0                 0   \n",
       "722                                  0                 0   \n",
       "1371                                 0                 0   \n",
       "1202                                 0                 1   \n",
       "1203                                 0                 1   \n",
       "\n",
       "       JxnPotential_Corrected  JxnPotential_Not corrected  \\\n",
       "Index                                                       \n",
       "721                         0                           0   \n",
       "722                         0                           0   \n",
       "1371                        0                           0   \n",
       "1202                        0                           0   \n",
       "1203                        0                           0   \n",
       "\n",
       "       JxnPotential_Unreported  \n",
       "Index                           \n",
       "721                          1  \n",
       "722                          1  \n",
       "1371                         1  \n",
       "1202                         1  \n",
       "1203                         1  \n",
       "\n",
       "[5 rows x 46 columns]"
      ]
     },
     "execution_count": 10,
     "metadata": {},
     "output_type": "execute_result"
    }
   ],
   "source": [
    "df_predictors = pd.get_dummies(df[features]) # Turns categorical data into yes/no data\n",
    "df_predictors.head()"
   ]
  },
  {
   "cell_type": "markdown",
   "metadata": {
    "slideshow": {
     "slide_type": "slide"
    }
   },
   "source": [
    "## Impute Missing Values for the predictors (not the target)"
   ]
  },
  {
   "cell_type": "code",
   "execution_count": 11,
   "metadata": {
    "slideshow": {
     "slide_type": "fragment"
    }
   },
   "outputs": [
    {
     "name": "stdout",
     "output_type": "stream",
     "text": [
      "Imputing row 1/74 with 3 missing, elapsed time: 0.002\n"
     ]
    },
    {
     "data": {
      "text/html": [
       "<div>\n",
       "<style scoped>\n",
       "    .dataframe tbody tr th:only-of-type {\n",
       "        vertical-align: middle;\n",
       "    }\n",
       "\n",
       "    .dataframe tbody tr th {\n",
       "        vertical-align: top;\n",
       "    }\n",
       "\n",
       "    .dataframe thead th {\n",
       "        text-align: right;\n",
       "    }\n",
       "</style>\n",
       "<table border=\"1\" class=\"dataframe\">\n",
       "  <thead>\n",
       "    <tr style=\"text-align: right;\">\n",
       "      <th></th>\n",
       "      <th>PubYear</th>\n",
       "      <th>JxnOffset</th>\n",
       "      <th>RecTemp</th>\n",
       "      <th>AnimalAge</th>\n",
       "      <th>AnimalWeight</th>\n",
       "      <th>ExternalSolution_conf</th>\n",
       "      <th>external_0_Mg</th>\n",
       "      <th>external_0_Ca</th>\n",
       "      <th>external_0_Na</th>\n",
       "      <th>external_0_Cl</th>\n",
       "      <th>...</th>\n",
       "      <th>ElectrodeType_Patch-clamp, Sharp</th>\n",
       "      <th>ElectrodeType_Perforated patch, Patch-clamp</th>\n",
       "      <th>ElectrodeType_Sharp</th>\n",
       "      <th>PrepType_cell culture</th>\n",
       "      <th>PrepType_in vitro</th>\n",
       "      <th>PrepType_in vitro, cell culture</th>\n",
       "      <th>PrepType_in vivo</th>\n",
       "      <th>JxnPotential_Corrected</th>\n",
       "      <th>JxnPotential_Not corrected</th>\n",
       "      <th>JxnPotential_Unreported</th>\n",
       "    </tr>\n",
       "    <tr>\n",
       "      <th>Index</th>\n",
       "      <th></th>\n",
       "      <th></th>\n",
       "      <th></th>\n",
       "      <th></th>\n",
       "      <th></th>\n",
       "      <th></th>\n",
       "      <th></th>\n",
       "      <th></th>\n",
       "      <th></th>\n",
       "      <th></th>\n",
       "      <th></th>\n",
       "      <th></th>\n",
       "      <th></th>\n",
       "      <th></th>\n",
       "      <th></th>\n",
       "      <th></th>\n",
       "      <th></th>\n",
       "      <th></th>\n",
       "      <th></th>\n",
       "      <th></th>\n",
       "      <th></th>\n",
       "    </tr>\n",
       "  </thead>\n",
       "  <tbody>\n",
       "    <tr>\n",
       "      <th>721</th>\n",
       "      <td>2015.0</td>\n",
       "      <td>8.620886</td>\n",
       "      <td>23.0</td>\n",
       "      <td>16.309506</td>\n",
       "      <td>971.243277</td>\n",
       "      <td>5.0</td>\n",
       "      <td>1.3</td>\n",
       "      <td>2.5</td>\n",
       "      <td>149.60</td>\n",
       "      <td>133.9</td>\n",
       "      <td>...</td>\n",
       "      <td>0.0</td>\n",
       "      <td>0.0</td>\n",
       "      <td>0.0</td>\n",
       "      <td>0.0</td>\n",
       "      <td>1.0</td>\n",
       "      <td>0.0</td>\n",
       "      <td>0.0</td>\n",
       "      <td>0.0</td>\n",
       "      <td>0.0</td>\n",
       "      <td>1.0</td>\n",
       "    </tr>\n",
       "    <tr>\n",
       "      <th>722</th>\n",
       "      <td>2015.0</td>\n",
       "      <td>9.700711</td>\n",
       "      <td>23.0</td>\n",
       "      <td>42.426407</td>\n",
       "      <td>877.289610</td>\n",
       "      <td>5.0</td>\n",
       "      <td>1.3</td>\n",
       "      <td>2.5</td>\n",
       "      <td>149.60</td>\n",
       "      <td>133.9</td>\n",
       "      <td>...</td>\n",
       "      <td>0.0</td>\n",
       "      <td>0.0</td>\n",
       "      <td>0.0</td>\n",
       "      <td>0.0</td>\n",
       "      <td>1.0</td>\n",
       "      <td>0.0</td>\n",
       "      <td>0.0</td>\n",
       "      <td>0.0</td>\n",
       "      <td>0.0</td>\n",
       "      <td>1.0</td>\n",
       "    </tr>\n",
       "    <tr>\n",
       "      <th>1371</th>\n",
       "      <td>2015.0</td>\n",
       "      <td>7.778726</td>\n",
       "      <td>31.0</td>\n",
       "      <td>103.848060</td>\n",
       "      <td>760.117174</td>\n",
       "      <td>5.0</td>\n",
       "      <td>1.0</td>\n",
       "      <td>2.0</td>\n",
       "      <td>151.25</td>\n",
       "      <td>133.5</td>\n",
       "      <td>...</td>\n",
       "      <td>0.0</td>\n",
       "      <td>0.0</td>\n",
       "      <td>0.0</td>\n",
       "      <td>0.0</td>\n",
       "      <td>1.0</td>\n",
       "      <td>0.0</td>\n",
       "      <td>0.0</td>\n",
       "      <td>0.0</td>\n",
       "      <td>0.0</td>\n",
       "      <td>1.0</td>\n",
       "    </tr>\n",
       "  </tbody>\n",
       "</table>\n",
       "<p>3 rows × 46 columns</p>\n",
       "</div>"
      ],
      "text/plain": [
       "       PubYear  JxnOffset  RecTemp   AnimalAge  AnimalWeight  \\\n",
       "Index                                                          \n",
       "721     2015.0   8.620886     23.0   16.309506    971.243277   \n",
       "722     2015.0   9.700711     23.0   42.426407    877.289610   \n",
       "1371    2015.0   7.778726     31.0  103.848060    760.117174   \n",
       "\n",
       "       ExternalSolution_conf  external_0_Mg  external_0_Ca  external_0_Na  \\\n",
       "Index                                                                       \n",
       "721                      5.0            1.3            2.5         149.60   \n",
       "722                      5.0            1.3            2.5         149.60   \n",
       "1371                     5.0            1.0            2.0         151.25   \n",
       "\n",
       "       external_0_Cl           ...             \\\n",
       "Index                          ...              \n",
       "721            133.9           ...              \n",
       "722            133.9           ...              \n",
       "1371           133.5           ...              \n",
       "\n",
       "       ElectrodeType_Patch-clamp, Sharp  \\\n",
       "Index                                     \n",
       "721                                 0.0   \n",
       "722                                 0.0   \n",
       "1371                                0.0   \n",
       "\n",
       "       ElectrodeType_Perforated patch, Patch-clamp  ElectrodeType_Sharp  \\\n",
       "Index                                                                     \n",
       "721                                            0.0                  0.0   \n",
       "722                                            0.0                  0.0   \n",
       "1371                                           0.0                  0.0   \n",
       "\n",
       "       PrepType_cell culture  PrepType_in vitro  \\\n",
       "Index                                             \n",
       "721                      0.0                1.0   \n",
       "722                      0.0                1.0   \n",
       "1371                     0.0                1.0   \n",
       "\n",
       "       PrepType_in vitro, cell culture  PrepType_in vivo  \\\n",
       "Index                                                      \n",
       "721                                0.0               0.0   \n",
       "722                                0.0               0.0   \n",
       "1371                               0.0               0.0   \n",
       "\n",
       "       JxnPotential_Corrected  JxnPotential_Not corrected  \\\n",
       "Index                                                       \n",
       "721                       0.0                         0.0   \n",
       "722                       0.0                         0.0   \n",
       "1371                      0.0                         0.0   \n",
       "\n",
       "       JxnPotential_Unreported  \n",
       "Index                           \n",
       "721                        1.0  \n",
       "722                        1.0  \n",
       "1371                       1.0  \n",
       "\n",
       "[3 rows x 46 columns]"
      ]
     },
     "execution_count": 11,
     "metadata": {},
     "output_type": "execute_result"
    }
   ],
   "source": [
    "from fancyimpute import KNN\n",
    "df_predictors[:] = KNN(k=3).complete(df_predictors.values)\n",
    "df_predictors.head(3)"
   ]
  },
  {
   "cell_type": "markdown",
   "metadata": {
    "slideshow": {
     "slide_type": "slide"
    }
   },
   "source": [
    "## Now let's try running a linear model"
   ]
  },
  {
   "cell_type": "code",
   "execution_count": 21,
   "metadata": {
    "slideshow": {
     "slide_type": "skip"
    }
   },
   "outputs": [],
   "source": [
    "n_folds = df[target].shape[0]\n",
    "\n",
    "def prediction_quality(est,X,y,n_folds=n_folds):\n",
    "    \"\"\"Computes the Pearson correlation between predicted and observed values\"\"\"\n",
    "    ss = ShuffleSplit(0.5)\n",
    "    predicted = cross_val_predict(est,X.values,y.values,cv=n_folds).squeeze()\n",
    "    actual = y.values.squeeze()\n",
    "    r,p = pearsonr(predicted,actual)\n",
    "    se = (1-r**2)/np.sqrt(len(predicted)-2) # formula for standard error of correlation coefficient \n",
    "    return r,se"
   ]
  },
  {
   "cell_type": "code",
   "execution_count": 22,
   "metadata": {
    "slideshow": {
     "slide_type": "slide"
    }
   },
   "outputs": [
    {
     "name": "stdout",
     "output_type": "stream",
     "text": [
      "R = 0.104 +/- 0.117\n"
     ]
    }
   ],
   "source": [
    "lm = LinearRegression()\n",
    "print(\"R = %.3f +/- %.3f\" % prediction_quality(lm,df_predictors,df[target]))"
   ]
  },
  {
   "cell_type": "markdown",
   "metadata": {
    "slideshow": {
     "slide_type": "slide"
    }
   },
   "source": [
    "## What does R = 0.1 look like?"
   ]
  },
  {
   "cell_type": "code",
   "execution_count": null,
   "metadata": {
    "slideshow": {
     "slide_type": "skip"
    }
   },
   "outputs": [],
   "source": [
    "def plot_prediction_quality(est,df_predictors,df_target):\n",
    "    predictions = cross_val_predict(est,\n",
    "                                    df_predictors.values,\n",
    "                                    df_target.values)\n",
    "    plt.scatter(predictions,df_target,s=25)\n",
    "    plt.xlabel('Predicted Values for AP Height')\n",
    "    plt.ylabel('Actual Values for AP Height')"
   ]
  },
  {
   "cell_type": "code",
   "execution_count": 25,
   "metadata": {
    "slideshow": {
     "slide_type": "fragment"
    }
   },
   "outputs": [
    {
     "data": {
      "image/png": "[encoded data removed]",
      "text/plain": [
       "<matplotlib.figure.Figure at 0x7f4a472c7940>"
      ]
     },
     "metadata": {},
     "output_type": "display_data"
    }
   ],
   "source": [
    "plot_prediction_quality(lm,df_predictors,df[target]);"
   ]
  },
  {
   "cell_type": "markdown",
   "metadata": {
    "slideshow": {
     "slide_type": "slide"
    }
   },
   "source": [
    "## Is the Lasso any better?"
   ]
  },
  {
   "cell_type": "code",
   "execution_count": 23,
   "metadata": {
    "slideshow": {
     "slide_type": "fragment"
    }
   },
   "outputs": [
    {
     "name": "stdout",
     "output_type": "stream",
     "text": [
      "R = 0.455 +/- 0.093\n"
     ]
    }
   ],
   "source": [
    "# Initialize the classification algorithm (Random Forest Classification)\n",
    "lm = Lasso(alpha=0.1, normalize=True)\n",
    "print(\"R = %.3f +/- %.3f\" % prediction_quality(lm,df_predictors,df[target]))"
   ]
  },
  {
   "cell_type": "markdown",
   "metadata": {
    "slideshow": {
     "slide_type": "slide"
    }
   },
   "source": [
    "## And Random Forest?"
   ]
  },
  {
   "cell_type": "code",
   "execution_count": 24,
   "metadata": {
    "slideshow": {
     "slide_type": "fragment"
    }
   },
   "outputs": [
    {
     "name": "stdout",
     "output_type": "stream",
     "text": [
      "R = 0.555 +/- 0.081\n"
     ]
    }
   ],
   "source": [
    "# Initialize the classification algorithm (Random Forest Classification)\n",
    "rfr = RandomForestRegressor(n_estimators=100)\n",
    "print(\"R = %.3f +/- %.3f\" % prediction_quality(rfr,df_predictors,df[target]))"
   ]
  },
  {
   "cell_type": "markdown",
   "metadata": {
    "slideshow": {
     "slide_type": "slide"
    }
   },
   "source": [
    "## What does R = 0.5 look like?"
   ]
  },
  {
   "cell_type": "code",
   "execution_count": 26,
   "metadata": {},
   "outputs": [
    {
     "data": {
      "image/png": "[encoded data removed]",
      "text/plain": [
       "<matplotlib.figure.Figure at 0x7f4a47249eb8>"
      ]
     },
     "metadata": {},
     "output_type": "display_data"
    }
   ],
   "source": [
    "plot_prediction_quality(rfr,df_predictors,df[target]);"
   ]
  },
  {
   "cell_type": "markdown",
   "metadata": {
    "slideshow": {
     "slide_type": "slide"
    }
   },
   "source": [
    "## Which features were important to the Random Forest model?"
   ]
  },
  {
   "cell_type": "code",
   "execution_count": 27,
   "metadata": {
    "slideshow": {
     "slide_type": "fragment"
    }
   },
   "outputs": [
    {
     "data": {
      "image/png": "[encoded data removed]",
      "text/plain": [
       "<matplotlib.figure.Figure at 0x7f4a469632e8>"
      ]
     },
     "metadata": {},
     "output_type": "display_data"
    }
   ],
   "source": [
    "rfr.fit(df_predictors.values,df[target].values)\n",
    "importances = pd.Series(rfr.feature_importances_,\n",
    "                        index=list(df_predictors))\n",
    "importances.sort_values(ascending=False)[:25].plot.bar();"
   ]
  }
 ],
 "metadata": {
  "CodeCell": {
   "cm_config": {
    "lineWrapping": true
   }
  },
  "MarkdownCell": {
   "cm_config": {
    "lineWrapping": true
   }
  },
  "celltoolbar": "Slideshow",
  "kernelspec": {
   "display_name": "Python 3",
   "language": "python",
   "name": "python3"
  },
  "language_info": {
   "codemirror_mode": {
    "name": "ipython",
    "version": 3
   },
   "file_extension": ".py",
   "mimetype": "text/x-python",
   "name": "python",
   "nbconvert_exporter": "python",
   "pygments_lexer": "ipython3",
   "version": "3.7.1"
  }
 },
 "nbformat": 4,
 "nbformat_minor": 2
}
