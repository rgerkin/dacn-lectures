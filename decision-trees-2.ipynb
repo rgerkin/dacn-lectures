{
 "cells": [
  {
   "cell_type": "markdown",
   "metadata": {
    "slideshow": {
     "slide_type": "slide"
    }
   },
   "source": [
    "# Decision Trees (Part 2)"
   ]
  },
  {
   "cell_type": "code",
   "execution_count": 1,
   "metadata": {
    "slideshow": {
     "slide_type": "skip"
    }
   },
   "outputs": [],
   "source": [
    "%matplotlib inline\n",
    "import matplotlib.pyplot as plt\n",
    "import numpy as np\n",
    "import pandas as pd\n",
    "from sklearn.ensemble import RandomForestClassifier\n",
    "from sklearn.model_selection import cross_val_score, cross_val_predict\n",
    "from sklearn.metrics import confusion_matrix"
   ]
  },
  {
   "cell_type": "code",
   "execution_count": 2,
   "metadata": {
    "slideshow": {
     "slide_type": "skip"
    }
   },
   "outputs": [],
   "source": [
    "plt.rcParams.update({'font.size':16,'figure.figsize':(12,8)})"
   ]
  },
  {
   "cell_type": "markdown",
   "metadata": {
    "slideshow": {
     "slide_type": "slide"
    }
   },
   "source": [
    "## Loading data from NeuroElectro"
   ]
  },
  {
   "cell_type": "code",
   "execution_count": 3,
   "metadata": {
    "slideshow": {
     "slide_type": "fragment"
    }
   },
   "outputs": [
    {
     "data": {
      "text/html": [
       "<div>\n",
       "<table border=\"1\" class=\"dataframe\">\n",
       "  <thead>\n",
       "    <tr style=\"text-align: right;\">\n",
       "      <th></th>\n",
       "      <th>Title</th>\n",
       "      <th>Pmid</th>\n",
       "      <th>PubYear</th>\n",
       "      <th>LastAuthor</th>\n",
       "      <th>ArticleID</th>\n",
       "      <th>TableID</th>\n",
       "      <th>NeuronName</th>\n",
       "      <th>NeuronLongName</th>\n",
       "      <th>NeuronPrefName</th>\n",
       "      <th>NeuroNERAnnots</th>\n",
       "      <th>...</th>\n",
       "      <th>sahpvolt_err</th>\n",
       "      <th>sahpvolt_n</th>\n",
       "      <th>sahpvolt_sd</th>\n",
       "      <th>sahpvolt_note</th>\n",
       "      <th>mahpvolt</th>\n",
       "      <th>mahpvolt_raw</th>\n",
       "      <th>mahpvolt_err</th>\n",
       "      <th>mahpvolt_n</th>\n",
       "      <th>mahpvolt_sd</th>\n",
       "      <th>mahpvolt_note</th>\n",
       "    </tr>\n",
       "    <tr>\n",
       "      <th>Index</th>\n",
       "      <th></th>\n",
       "      <th></th>\n",
       "      <th></th>\n",
       "      <th></th>\n",
       "      <th></th>\n",
       "      <th></th>\n",
       "      <th></th>\n",
       "      <th></th>\n",
       "      <th></th>\n",
       "      <th></th>\n",
       "      <th></th>\n",
       "      <th></th>\n",
       "      <th></th>\n",
       "      <th></th>\n",
       "      <th></th>\n",
       "      <th></th>\n",
       "      <th></th>\n",
       "      <th></th>\n",
       "      <th></th>\n",
       "      <th></th>\n",
       "      <th></th>\n",
       "    </tr>\n",
       "  </thead>\n",
       "  <tbody>\n",
       "    <tr>\n",
       "      <th>150</th>\n",
       "      <td>Cell type-specific effects of adenosine on cor...</td>\n",
       "      <td>24108800</td>\n",
       "      <td>2015</td>\n",
       "      <td>Feldmeyer D</td>\n",
       "      <td>88449</td>\n",
       "      <td>35984.0</td>\n",
       "      <td>Neocortex basket cell</td>\n",
       "      <td>medial prefrontal cortex fast spiking interne...</td>\n",
       "      <td>medial prefrontal cortex fast spiking interne...</td>\n",
       "      <td>[ABA_REGION:714, HBP_EPHYS:0000080, HBP_EPHYS_...</td>\n",
       "      <td>...</td>\n",
       "      <td>NaN</td>\n",
       "      <td>NaN</td>\n",
       "      <td>NaN</td>\n",
       "      <td>NaN</td>\n",
       "      <td>NaN</td>\n",
       "      <td>NaN</td>\n",
       "      <td>NaN</td>\n",
       "      <td>NaN</td>\n",
       "      <td>NaN</td>\n",
       "      <td>NaN</td>\n",
       "    </tr>\n",
       "    <tr>\n",
       "      <th>149</th>\n",
       "      <td>Cell type-specific effects of adenosine on cor...</td>\n",
       "      <td>24108800</td>\n",
       "      <td>2015</td>\n",
       "      <td>Feldmeyer D</td>\n",
       "      <td>88449</td>\n",
       "      <td>35984.0</td>\n",
       "      <td>Neocortex Martinotti cell</td>\n",
       "      <td>medial prefrontal cortex low-threshold spiking...</td>\n",
       "      <td>medial prefrontal cortex low-threshold spiking...</td>\n",
       "      <td>[ABA_REGION:714, HBP_EPHYS:0000110, HBP_EPHYS_...</td>\n",
       "      <td>...</td>\n",
       "      <td>NaN</td>\n",
       "      <td>NaN</td>\n",
       "      <td>NaN</td>\n",
       "      <td>NaN</td>\n",
       "      <td>NaN</td>\n",
       "      <td>NaN</td>\n",
       "      <td>NaN</td>\n",
       "      <td>NaN</td>\n",
       "      <td>NaN</td>\n",
       "      <td>NaN</td>\n",
       "    </tr>\n",
       "    <tr>\n",
       "      <th>151</th>\n",
       "      <td>Cell type-specific effects of adenosine on cor...</td>\n",
       "      <td>24108800</td>\n",
       "      <td>2015</td>\n",
       "      <td>Feldmeyer D</td>\n",
       "      <td>88449</td>\n",
       "      <td>35984.0</td>\n",
       "      <td>Neocortex basket cell</td>\n",
       "      <td>somatosensory cortex fast-firing interneuron</td>\n",
       "      <td>somatosensory cortex fast-firing interneuron</td>\n",
       "      <td>[ABA_REGION:453, HBP_EPHYS:0000080, HBP_EPHYS_...</td>\n",
       "      <td>...</td>\n",
       "      <td>NaN</td>\n",
       "      <td>NaN</td>\n",
       "      <td>NaN</td>\n",
       "      <td>NaN</td>\n",
       "      <td>NaN</td>\n",
       "      <td>NaN</td>\n",
       "      <td>NaN</td>\n",
       "      <td>NaN</td>\n",
       "      <td>NaN</td>\n",
       "      <td>NaN</td>\n",
       "    </tr>\n",
       "  </tbody>\n",
       "</table>\n",
       "<p>3 rows × 352 columns</p>\n",
       "</div>"
      ],
      "text/plain": [
       "                                                   Title      Pmid  PubYear  \\\n",
       "Index                                                                         \n",
       "150    Cell type-specific effects of adenosine on cor...  24108800     2015   \n",
       "149    Cell type-specific effects of adenosine on cor...  24108800     2015   \n",
       "151    Cell type-specific effects of adenosine on cor...  24108800     2015   \n",
       "\n",
       "        LastAuthor  ArticleID  TableID                 NeuronName  \\\n",
       "Index                                                               \n",
       "150    Feldmeyer D      88449  35984.0      Neocortex basket cell   \n",
       "149    Feldmeyer D      88449  35984.0  Neocortex Martinotti cell   \n",
       "151    Feldmeyer D      88449  35984.0      Neocortex basket cell   \n",
       "\n",
       "                                          NeuronLongName  \\\n",
       "Index                                                      \n",
       "150     medial prefrontal cortex fast spiking interne...   \n",
       "149    medial prefrontal cortex low-threshold spiking...   \n",
       "151         somatosensory cortex fast-firing interneuron   \n",
       "\n",
       "                                          NeuronPrefName  \\\n",
       "Index                                                      \n",
       "150     medial prefrontal cortex fast spiking interne...   \n",
       "149    medial prefrontal cortex low-threshold spiking...   \n",
       "151         somatosensory cortex fast-firing interneuron   \n",
       "\n",
       "                                          NeuroNERAnnots      ...        \\\n",
       "Index                                                         ...         \n",
       "150    [ABA_REGION:714, HBP_EPHYS:0000080, HBP_EPHYS_...      ...         \n",
       "149    [ABA_REGION:714, HBP_EPHYS:0000110, HBP_EPHYS_...      ...         \n",
       "151    [ABA_REGION:453, HBP_EPHYS:0000080, HBP_EPHYS_...      ...         \n",
       "\n",
       "      sahpvolt_err sahpvolt_n sahpvolt_sd sahpvolt_note mahpvolt mahpvolt_raw  \\\n",
       "Index                                                                           \n",
       "150            NaN        NaN         NaN           NaN      NaN          NaN   \n",
       "149            NaN        NaN         NaN           NaN      NaN          NaN   \n",
       "151            NaN        NaN         NaN           NaN      NaN          NaN   \n",
       "\n",
       "      mahpvolt_err  mahpvolt_n  mahpvolt_sd  mahpvolt_note  \n",
       "Index                                                       \n",
       "150            NaN         NaN          NaN            NaN  \n",
       "149            NaN         NaN          NaN            NaN  \n",
       "151            NaN         NaN          NaN            NaN  \n",
       "\n",
       "[3 rows x 352 columns]"
      ]
     },
     "execution_count": 3,
     "metadata": {},
     "output_type": "execute_result"
    }
   ],
   "source": [
    "df = pd.read_csv('data/article_ephys_metadata_curated.csv',delimiter='\\t').set_index('Index')\n",
    "df.head(3)"
   ]
  },
  {
   "cell_type": "markdown",
   "metadata": {
    "slideshow": {
     "slide_type": "slide"
    }
   },
   "source": [
    "## There are so many variables to choose from!  "
   ]
  },
  {
   "cell_type": "code",
   "execution_count": 4,
   "metadata": {
    "slideshow": {
     "slide_type": "fragment"
    }
   },
   "outputs": [
    {
     "name": "stdout",
     "output_type": "stream",
     "text": [
      "['Title', 'Pmid', 'PubYear', 'LastAuthor', 'ArticleID', 'TableID', 'NeuronName', 'NeuronLongName', 'NeuronPrefName', 'NeuroNERAnnots', 'BrainRegion', 'MetadataCurated', 'Species', 'Strain', 'ElectrodeType', 'PrepType', 'JxnPotential', 'JxnOffset', 'RecTemp', 'AnimalAge', 'AnimalWeight', 'FlagSoln', 'ExternalSolution', 'ExternalSolution_conf', 'external_0_Mg', 'external_0_Ca', 'external_0_Na', 'external_0_Cl', 'external_0_K', 'external_0_pH', 'InternalSolution', 'InternalSolution_conf', 'internal_0_Mg', 'internal_0_Ca', 'internal_0_Na', 'internal_0_Cl', 'internal_0_K', 'internal_0_pH', 'MetadataNote', 'TableNote', 'rin', 'rin_raw', 'rin_err', 'rin_n', 'rin_sd', 'rin_note', 'rmp', 'rmp_raw', 'rmp_err', 'rmp_n', 'rmp_sd', 'rmp_note', 'apthr', 'apthr_raw', 'apthr_err', 'apthr_n', 'apthr_sd', 'apthr_note', 'apamp', 'apamp_raw', 'apamp_err', 'apamp_n', 'apamp_sd', 'apamp_note', 'aphw', 'aphw_raw', 'aphw_err', 'aphw_n', 'aphw_sd', 'aphw_note', 'tau', 'tau_raw', 'tau_err', 'tau_n', 'tau_sd', 'tau_note', 'ahpamp', 'ahpamp_raw', 'ahpamp_err', 'ahpamp_n', 'ahpamp_sd', 'ahpamp_note', 'cap', 'cap_raw', 'cap_err', 'cap_n', 'cap_sd', 'cap_note', 'apwidth', 'apwidth_raw', 'apwidth_err', 'apwidth_n', 'apwidth_sd', 'apwidth_note', 'apfreq', 'apfreq_raw', 'apfreq_err', 'apfreq_n', 'apfreq_sd', 'apfreq_note', 'rheo', 'rheo_raw', 'rheo_err', 'rheo_n', 'rheo_sd', 'rheo_note', 'ahpdur', 'ahpdur_raw', 'ahpdur_err', 'ahpdur_n', 'ahpdur_sd', 'ahpdur_note', 'sagratio', 'sagratio_raw', 'sagratio_err', 'sagratio_n', 'sagratio_sd', 'sagratio_note', 'maxfreq', 'maxfreq_raw', 'maxfreq_err', 'maxfreq_n', 'maxfreq_sd', 'maxfreq_note', 'apriseslope', 'apriseslope_raw', 'apriseslope_err', 'apriseslope_n', 'apriseslope_sd', 'apriseslope_note', 'fahpamp', 'fahpamp_raw', 'fahpamp_err', 'fahpamp_n', 'fahpamp_sd', 'fahpamp_note', 'spontfreq', 'spontfreq_raw', 'spontfreq_err', 'spontfreq_n', 'spontfreq_sd', 'spontfreq_note', 'appeak', 'appeak_raw', 'appeak_err', 'appeak_n', 'appeak_sd', 'appeak_note', 'apriset', 'apriset_raw', 'apriset_err', 'apriset_n', 'apriset_sd', 'apriset_note', 'apdecayslope', 'apdecayslope_raw', 'apdecayslope_err', 'apdecayslope_n', 'apdecayslope_sd', 'apdecayslope_note', 'apdelay', 'apdelay_raw', 'apdelay_err', 'apdelay_n', 'apdelay_sd', 'apdelay_note', 'fislope', 'fislope_raw', 'fislope_err', 'fislope_n', 'fislope_sd', 'fislope_note', 'adratio', 'adratio_raw', 'adratio_err', 'adratio_n', 'adratio_sd', 'adratio_note', 'apamprest', 'apamprest_raw', 'apamprest_err', 'apamprest_n', 'apamprest_sd', 'apamprest_note', 'other', 'other_raw', 'other_err', 'other_n', 'other_sd', 'other_note', 'sagamp', 'sagamp_raw', 'sagamp_err', 'sagamp_n', 'sagamp_sd', 'sagamp_note', 'sahpamp', 'sahpamp_raw', 'sahpamp_err', 'sahpamp_n', 'sahpamp_sd', 'sahpamp_note', 'apdecayt', 'apdecayt_raw', 'apdecayt_err', 'apdecayt_n', 'apdecayt_sd', 'apdecayt_note', 'accres', 'accres_raw', 'accres_err', 'accres_n', 'accres_sd', 'accres_note', 'adratioinv', 'adratioinv_raw', 'adratioinv_err', 'adratioinv_n', 'adratioinv_sd', 'adratioinv_note', 'adpamp', 'adpamp_raw', 'adpamp_err', 'adpamp_n', 'adpamp_sd', 'adpamp_note', 'ahpamprest', 'ahpamprest_raw', 'ahpamprest_err', 'ahpamprest_n', 'ahpamprest_sd', 'ahpamprest_note', 'mahpamp', 'mahpamp_raw', 'mahpamp_err', 'mahpamp_n', 'mahpamp_sd', 'mahpamp_note', 'fahpdur', 'fahpdur_raw', 'fahpdur_err', 'fahpdur_n', 'fahpdur_sd', 'fahpdur_note', 'ahpvolt', 'ahpvolt_raw', 'ahpvolt_err', 'ahpvolt_n', 'ahpvolt_sd', 'ahpvolt_note', 'sahpdur', 'sahpdur_raw', 'sahpdur_err', 'sahpdur_n', 'sahpdur_sd', 'sahpdur_note', 'celldiam', 'celldiam_raw', 'celldiam_err', 'celldiam_n', 'celldiam_sd', 'celldiam_note', 'adpctother', 'adpctother_raw', 'adpctother_err', 'adpctother_n', 'adpctother_sd', 'adpctother_note', 'adpct', 'adpct_raw', 'adpct_err', 'adpct_n', 'adpct_sd', 'adpct_note', 'adpctminus', 'adpctminus_raw', 'adpctminus_err', 'adpctminus_n', 'adpctminus_sd', 'adpctminus_note', 'surfarea', 'surfarea_raw', 'surfarea_err', 'surfarea_n', 'surfarea_sd', 'surfarea_note', 'mahpdur', 'mahpdur_raw', 'mahpdur_err', 'mahpdur_n', 'mahpdur_sd', 'mahpdur_note', 'adratiominus', 'adratiominus_raw', 'adratiominus_err', 'adratiominus_n', 'adratiominus_sd', 'adratiominus_note', 'adpctinv', 'adpctinv_raw', 'adpctinv_err', 'adpctinv_n', 'adpctinv_sd', 'adpctinv_note', 'adpdur', 'adpdur_raw', 'adpdur_err', 'adpdur_n', 'adpdur_sd', 'adpdur_note', 'fahpvolt', 'fahpvolt_raw', 'fahpvolt_err', 'fahpvolt_n', 'fahpvolt_sd', 'fahpvolt_note', 'mahpamprest', 'mahpamprest_raw', 'mahpamprest_err', 'mahpamprest_n', 'mahpamprest_sd', 'mahpamprest_note', 'apamptrough', 'apamptrough_raw', 'apamptrough_err', 'apamptrough_n', 'apamptrough_sd', 'apamptrough_note', 'sahpamprest', 'sahpamprest_raw', 'sahpamprest_err', 'sahpamprest_n', 'sahpamprest_sd', 'sahpamprest_note', 'fahpamprest', 'fahpamprest_raw', 'fahpamprest_err', 'fahpamprest_n', 'fahpamprest_sd', 'fahpamprest_note', 'sahpvolt', 'sahpvolt_raw', 'sahpvolt_err', 'sahpvolt_n', 'sahpvolt_sd', 'sahpvolt_note', 'mahpvolt', 'mahpvolt_raw', 'mahpvolt_err', 'mahpvolt_n', 'mahpvolt_sd', 'mahpvolt_note']\n"
     ]
    }
   ],
   "source": [
    "print(list(df))"
   ]
  },
  {
   "cell_type": "markdown",
   "metadata": {
    "slideshow": {
     "slide_type": "slide"
    }
   },
   "source": [
    "## First we choose something to classify"
   ]
  },
  {
   "cell_type": "code",
   "execution_count": 5,
   "metadata": {
    "slideshow": {
     "slide_type": "fragment"
    }
   },
   "outputs": [
    {
     "data": {
      "text/plain": [
       "Index\n",
       "150                  Neocortex basket cell\n",
       "149              Neocortex Martinotti cell\n",
       "151                  Neocortex basket cell\n",
       "152             Neocortex interneuron deep\n",
       "88      Neocortex pyramidal cell layer 2-3\n",
       "89      Neocortex pyramidal cell layer 2-3\n",
       "1449    Neocortex pyramidal cell layer 2-3\n",
       "Name: NeuronName, dtype: object"
      ]
     },
     "execution_count": 5,
     "metadata": {},
     "output_type": "execute_result"
    }
   ],
   "source": [
    "target = 'NeuronName'\n",
    "df_target = df[target]\n",
    "df_target.head(7)"
   ]
  },
  {
   "cell_type": "markdown",
   "metadata": {
    "slideshow": {
     "slide_type": "slide"
    }
   },
   "source": [
    "## Then we choose some variables/features to use to predict these classes (neuron types)"
   ]
  },
  {
   "cell_type": "code",
   "execution_count": 6,
   "metadata": {
    "slideshow": {
     "slide_type": "fragment"
    }
   },
   "outputs": [
    {
     "data": {
      "text/html": [
       "<div>\n",
       "<table border=\"1\" class=\"dataframe\">\n",
       "  <thead>\n",
       "    <tr style=\"text-align: right;\">\n",
       "      <th></th>\n",
       "      <th>PubYear</th>\n",
       "      <th>RecTemp</th>\n",
       "      <th>rin</th>\n",
       "      <th>rmp</th>\n",
       "      <th>apthr</th>\n",
       "      <th>apamp</th>\n",
       "      <th>aphw</th>\n",
       "      <th>tau</th>\n",
       "      <th>BrainRegion</th>\n",
       "      <th>Species</th>\n",
       "      <th>Strain</th>\n",
       "      <th>ElectrodeType</th>\n",
       "      <th>PrepType</th>\n",
       "    </tr>\n",
       "    <tr>\n",
       "      <th>Index</th>\n",
       "      <th></th>\n",
       "      <th></th>\n",
       "      <th></th>\n",
       "      <th></th>\n",
       "      <th></th>\n",
       "      <th></th>\n",
       "      <th></th>\n",
       "      <th></th>\n",
       "      <th></th>\n",
       "      <th></th>\n",
       "      <th></th>\n",
       "      <th></th>\n",
       "      <th></th>\n",
       "    </tr>\n",
       "  </thead>\n",
       "  <tbody>\n",
       "    <tr>\n",
       "      <th>150</th>\n",
       "      <td>2015</td>\n",
       "      <td>30.0</td>\n",
       "      <td>178.0</td>\n",
       "      <td>-72.2</td>\n",
       "      <td>NaN</td>\n",
       "      <td>NaN</td>\n",
       "      <td>0.38</td>\n",
       "      <td>7.9</td>\n",
       "      <td>Isocortex</td>\n",
       "      <td>Rats</td>\n",
       "      <td>Rats, Wistar</td>\n",
       "      <td>Patch-clamp</td>\n",
       "      <td>in vitro</td>\n",
       "    </tr>\n",
       "    <tr>\n",
       "      <th>149</th>\n",
       "      <td>2015</td>\n",
       "      <td>30.0</td>\n",
       "      <td>361.0</td>\n",
       "      <td>-66.3</td>\n",
       "      <td>NaN</td>\n",
       "      <td>NaN</td>\n",
       "      <td>0.79</td>\n",
       "      <td>27.4</td>\n",
       "      <td>Isocortex</td>\n",
       "      <td>Rats</td>\n",
       "      <td>Rats, Wistar</td>\n",
       "      <td>Patch-clamp</td>\n",
       "      <td>in vitro</td>\n",
       "    </tr>\n",
       "    <tr>\n",
       "      <th>151</th>\n",
       "      <td>2015</td>\n",
       "      <td>30.0</td>\n",
       "      <td>135.0</td>\n",
       "      <td>-68.0</td>\n",
       "      <td>NaN</td>\n",
       "      <td>NaN</td>\n",
       "      <td>0.20</td>\n",
       "      <td>8.0</td>\n",
       "      <td>Isocortex</td>\n",
       "      <td>Rats</td>\n",
       "      <td>Rats, Wistar</td>\n",
       "      <td>Patch-clamp</td>\n",
       "      <td>in vitro</td>\n",
       "    </tr>\n",
       "    <tr>\n",
       "      <th>152</th>\n",
       "      <td>2015</td>\n",
       "      <td>30.0</td>\n",
       "      <td>83.0</td>\n",
       "      <td>-65.0</td>\n",
       "      <td>NaN</td>\n",
       "      <td>NaN</td>\n",
       "      <td>0.37</td>\n",
       "      <td>7.4</td>\n",
       "      <td>NaN</td>\n",
       "      <td>Rats</td>\n",
       "      <td>Rats, Wistar</td>\n",
       "      <td>Patch-clamp</td>\n",
       "      <td>in vitro</td>\n",
       "    </tr>\n",
       "    <tr>\n",
       "      <th>88</th>\n",
       "      <td>2015</td>\n",
       "      <td>22.0</td>\n",
       "      <td>291.0</td>\n",
       "      <td>-64.3</td>\n",
       "      <td>-41.1</td>\n",
       "      <td>73.2</td>\n",
       "      <td>1.57</td>\n",
       "      <td>25.7</td>\n",
       "      <td>Isocortex</td>\n",
       "      <td>Macaca mulatta</td>\n",
       "      <td>Other</td>\n",
       "      <td>Patch-clamp</td>\n",
       "      <td>in vitro</td>\n",
       "    </tr>\n",
       "  </tbody>\n",
       "</table>\n",
       "</div>"
      ],
      "text/plain": [
       "       PubYear  RecTemp    rin   rmp  apthr  apamp  aphw   tau BrainRegion  \\\n",
       "Index                                                                        \n",
       "150       2015     30.0  178.0 -72.2    NaN    NaN  0.38   7.9   Isocortex   \n",
       "149       2015     30.0  361.0 -66.3    NaN    NaN  0.79  27.4   Isocortex   \n",
       "151       2015     30.0  135.0 -68.0    NaN    NaN  0.20   8.0   Isocortex   \n",
       "152       2015     30.0   83.0 -65.0    NaN    NaN  0.37   7.4         NaN   \n",
       "88        2015     22.0  291.0 -64.3  -41.1   73.2  1.57  25.7   Isocortex   \n",
       "\n",
       "              Species        Strain ElectrodeType  PrepType  \n",
       "Index                                                        \n",
       "150              Rats  Rats, Wistar   Patch-clamp  in vitro  \n",
       "149              Rats  Rats, Wistar   Patch-clamp  in vitro  \n",
       "151              Rats  Rats, Wistar   Patch-clamp  in vitro  \n",
       "152              Rats  Rats, Wistar   Patch-clamp  in vitro  \n",
       "88     Macaca mulatta         Other   Patch-clamp  in vitro  "
      ]
     },
     "execution_count": 6,
     "metadata": {},
     "output_type": "execute_result"
    }
   ],
   "source": [
    "numerical_predictors = ['PubYear', 'RecTemp', 'rin', 'rmp', 'apthr', 'apamp', 'aphw', 'tau']\n",
    "categorical_predictors = ['BrainRegion', 'Species', 'Strain', 'ElectrodeType', 'PrepType']\n",
    "\n",
    "df_predictors = df[numerical_predictors+categorical_predictors]\n",
    "df_predictors.head()"
   ]
  },
  {
   "cell_type": "markdown",
   "metadata": {
    "slideshow": {
     "slide_type": "slide"
    }
   },
   "source": [
    "## How do we handle categorical data?  "
   ]
  },
  {
   "cell_type": "markdown",
   "metadata": {
    "slideshow": {
     "slide_type": "fragment"
    }
   },
   "source": [
    "### \"One Hot Encoding\" (that is really the name)"
   ]
  },
  {
   "cell_type": "code",
   "execution_count": 7,
   "metadata": {
    "slideshow": {
     "slide_type": "fragment"
    }
   },
   "outputs": [
    {
     "data": {
      "text/html": [
       "<div>\n",
       "<table border=\"1\" class=\"dataframe\">\n",
       "  <thead>\n",
       "    <tr style=\"text-align: right;\">\n",
       "      <th></th>\n",
       "      <th>PubYear</th>\n",
       "      <th>RecTemp</th>\n",
       "      <th>rin</th>\n",
       "      <th>rmp</th>\n",
       "      <th>apthr</th>\n",
       "      <th>apamp</th>\n",
       "      <th>aphw</th>\n",
       "      <th>tau</th>\n",
       "      <th>BrainRegion_Cerebellum</th>\n",
       "      <th>BrainRegion_Cortical subplate</th>\n",
       "      <th>...</th>\n",
       "      <th>ElectrodeType_Patch-clamp, Sharp</th>\n",
       "      <th>ElectrodeType_Perforated patch</th>\n",
       "      <th>ElectrodeType_Perforated patch, Patch-clamp</th>\n",
       "      <th>ElectrodeType_Sharp</th>\n",
       "      <th>PrepType_Other</th>\n",
       "      <th>PrepType_Other, in vitro</th>\n",
       "      <th>PrepType_cell culture</th>\n",
       "      <th>PrepType_in vitro</th>\n",
       "      <th>PrepType_in vitro, cell culture</th>\n",
       "      <th>PrepType_in vivo</th>\n",
       "    </tr>\n",
       "    <tr>\n",
       "      <th>Index</th>\n",
       "      <th></th>\n",
       "      <th></th>\n",
       "      <th></th>\n",
       "      <th></th>\n",
       "      <th></th>\n",
       "      <th></th>\n",
       "      <th></th>\n",
       "      <th></th>\n",
       "      <th></th>\n",
       "      <th></th>\n",
       "      <th></th>\n",
       "      <th></th>\n",
       "      <th></th>\n",
       "      <th></th>\n",
       "      <th></th>\n",
       "      <th></th>\n",
       "      <th></th>\n",
       "      <th></th>\n",
       "      <th></th>\n",
       "      <th></th>\n",
       "      <th></th>\n",
       "    </tr>\n",
       "  </thead>\n",
       "  <tbody>\n",
       "    <tr>\n",
       "      <th>150</th>\n",
       "      <td>2015</td>\n",
       "      <td>30.0</td>\n",
       "      <td>178.0</td>\n",
       "      <td>-72.2</td>\n",
       "      <td>NaN</td>\n",
       "      <td>NaN</td>\n",
       "      <td>0.38</td>\n",
       "      <td>7.9</td>\n",
       "      <td>0</td>\n",
       "      <td>0</td>\n",
       "      <td>...</td>\n",
       "      <td>0</td>\n",
       "      <td>0</td>\n",
       "      <td>0</td>\n",
       "      <td>0</td>\n",
       "      <td>0</td>\n",
       "      <td>0</td>\n",
       "      <td>0</td>\n",
       "      <td>1</td>\n",
       "      <td>0</td>\n",
       "      <td>0</td>\n",
       "    </tr>\n",
       "    <tr>\n",
       "      <th>149</th>\n",
       "      <td>2015</td>\n",
       "      <td>30.0</td>\n",
       "      <td>361.0</td>\n",
       "      <td>-66.3</td>\n",
       "      <td>NaN</td>\n",
       "      <td>NaN</td>\n",
       "      <td>0.79</td>\n",
       "      <td>27.4</td>\n",
       "      <td>0</td>\n",
       "      <td>0</td>\n",
       "      <td>...</td>\n",
       "      <td>0</td>\n",
       "      <td>0</td>\n",
       "      <td>0</td>\n",
       "      <td>0</td>\n",
       "      <td>0</td>\n",
       "      <td>0</td>\n",
       "      <td>0</td>\n",
       "      <td>1</td>\n",
       "      <td>0</td>\n",
       "      <td>0</td>\n",
       "    </tr>\n",
       "    <tr>\n",
       "      <th>151</th>\n",
       "      <td>2015</td>\n",
       "      <td>30.0</td>\n",
       "      <td>135.0</td>\n",
       "      <td>-68.0</td>\n",
       "      <td>NaN</td>\n",
       "      <td>NaN</td>\n",
       "      <td>0.20</td>\n",
       "      <td>8.0</td>\n",
       "      <td>0</td>\n",
       "      <td>0</td>\n",
       "      <td>...</td>\n",
       "      <td>0</td>\n",
       "      <td>0</td>\n",
       "      <td>0</td>\n",
       "      <td>0</td>\n",
       "      <td>0</td>\n",
       "      <td>0</td>\n",
       "      <td>0</td>\n",
       "      <td>1</td>\n",
       "      <td>0</td>\n",
       "      <td>0</td>\n",
       "    </tr>\n",
       "    <tr>\n",
       "      <th>152</th>\n",
       "      <td>2015</td>\n",
       "      <td>30.0</td>\n",
       "      <td>83.0</td>\n",
       "      <td>-65.0</td>\n",
       "      <td>NaN</td>\n",
       "      <td>NaN</td>\n",
       "      <td>0.37</td>\n",
       "      <td>7.4</td>\n",
       "      <td>0</td>\n",
       "      <td>0</td>\n",
       "      <td>...</td>\n",
       "      <td>0</td>\n",
       "      <td>0</td>\n",
       "      <td>0</td>\n",
       "      <td>0</td>\n",
       "      <td>0</td>\n",
       "      <td>0</td>\n",
       "      <td>0</td>\n",
       "      <td>1</td>\n",
       "      <td>0</td>\n",
       "      <td>0</td>\n",
       "    </tr>\n",
       "    <tr>\n",
       "      <th>88</th>\n",
       "      <td>2015</td>\n",
       "      <td>22.0</td>\n",
       "      <td>291.0</td>\n",
       "      <td>-64.3</td>\n",
       "      <td>-41.1</td>\n",
       "      <td>73.2</td>\n",
       "      <td>1.57</td>\n",
       "      <td>25.7</td>\n",
       "      <td>0</td>\n",
       "      <td>0</td>\n",
       "      <td>...</td>\n",
       "      <td>0</td>\n",
       "      <td>0</td>\n",
       "      <td>0</td>\n",
       "      <td>0</td>\n",
       "      <td>0</td>\n",
       "      <td>0</td>\n",
       "      <td>0</td>\n",
       "      <td>1</td>\n",
       "      <td>0</td>\n",
       "      <td>0</td>\n",
       "    </tr>\n",
       "  </tbody>\n",
       "</table>\n",
       "<p>5 rows × 86 columns</p>\n",
       "</div>"
      ],
      "text/plain": [
       "       PubYear  RecTemp    rin   rmp  apthr  apamp  aphw   tau  \\\n",
       "Index                                                            \n",
       "150       2015     30.0  178.0 -72.2    NaN    NaN  0.38   7.9   \n",
       "149       2015     30.0  361.0 -66.3    NaN    NaN  0.79  27.4   \n",
       "151       2015     30.0  135.0 -68.0    NaN    NaN  0.20   8.0   \n",
       "152       2015     30.0   83.0 -65.0    NaN    NaN  0.37   7.4   \n",
       "88        2015     22.0  291.0 -64.3  -41.1   73.2  1.57  25.7   \n",
       "\n",
       "       BrainRegion_Cerebellum  BrainRegion_Cortical subplate  \\\n",
       "Index                                                          \n",
       "150                         0                              0   \n",
       "149                         0                              0   \n",
       "151                         0                              0   \n",
       "152                         0                              0   \n",
       "88                          0                              0   \n",
       "\n",
       "             ...         ElectrodeType_Patch-clamp, Sharp  \\\n",
       "Index        ...                                            \n",
       "150          ...                                        0   \n",
       "149          ...                                        0   \n",
       "151          ...                                        0   \n",
       "152          ...                                        0   \n",
       "88           ...                                        0   \n",
       "\n",
       "       ElectrodeType_Perforated patch  \\\n",
       "Index                                   \n",
       "150                                 0   \n",
       "149                                 0   \n",
       "151                                 0   \n",
       "152                                 0   \n",
       "88                                  0   \n",
       "\n",
       "       ElectrodeType_Perforated patch, Patch-clamp  ElectrodeType_Sharp  \\\n",
       "Index                                                                     \n",
       "150                                              0                    0   \n",
       "149                                              0                    0   \n",
       "151                                              0                    0   \n",
       "152                                              0                    0   \n",
       "88                                               0                    0   \n",
       "\n",
       "       PrepType_Other  PrepType_Other, in vitro  PrepType_cell culture  \\\n",
       "Index                                                                    \n",
       "150                 0                         0                      0   \n",
       "149                 0                         0                      0   \n",
       "151                 0                         0                      0   \n",
       "152                 0                         0                      0   \n",
       "88                  0                         0                      0   \n",
       "\n",
       "       PrepType_in vitro  PrepType_in vitro, cell culture  PrepType_in vivo  \n",
       "Index                                                                        \n",
       "150                    1                                0                 0  \n",
       "149                    1                                0                 0  \n",
       "151                    1                                0                 0  \n",
       "152                    1                                0                 0  \n",
       "88                     1                                0                 0  \n",
       "\n",
       "[5 rows x 86 columns]"
      ]
     },
     "execution_count": 7,
     "metadata": {},
     "output_type": "execute_result"
    }
   ],
   "source": [
    "df_predictors = pd.get_dummies(df_predictors) # Turns categorical data into yes/no data\n",
    "df_predictors.head()"
   ]
  },
  {
   "cell_type": "markdown",
   "metadata": {
    "slideshow": {
     "slide_type": "slide"
    }
   },
   "source": [
    "## As usual, most algorithms don't work with missing data."
   ]
  },
  {
   "cell_type": "markdown",
   "metadata": {
    "slideshow": {
     "slide_type": "fragment"
    }
   },
   "source": [
    "### But every row might contain some missing data, and we don't want to drop all the rows!"
   ]
  },
  {
   "cell_type": "markdown",
   "metadata": {
    "slideshow": {
     "slide_type": "slide"
    }
   },
   "source": [
    "## Solution: Imputation"
   ]
  },
  {
   "cell_type": "code",
   "execution_count": 8,
   "metadata": {
    "slideshow": {
     "slide_type": "fragment"
    }
   },
   "outputs": [
    {
     "data": {
      "text/html": [
       "<div>\n",
       "<table border=\"1\" class=\"dataframe\">\n",
       "  <thead>\n",
       "    <tr style=\"text-align: right;\">\n",
       "      <th></th>\n",
       "      <th>PubYear</th>\n",
       "      <th>RecTemp</th>\n",
       "      <th>rin</th>\n",
       "      <th>rmp</th>\n",
       "      <th>apthr</th>\n",
       "      <th>apamp</th>\n",
       "      <th>aphw</th>\n",
       "      <th>tau</th>\n",
       "      <th>BrainRegion_Cerebellum</th>\n",
       "      <th>BrainRegion_Cortical subplate</th>\n",
       "      <th>...</th>\n",
       "      <th>ElectrodeType_Patch-clamp, Sharp</th>\n",
       "      <th>ElectrodeType_Perforated patch</th>\n",
       "      <th>ElectrodeType_Perforated patch, Patch-clamp</th>\n",
       "      <th>ElectrodeType_Sharp</th>\n",
       "      <th>PrepType_Other</th>\n",
       "      <th>PrepType_Other, in vitro</th>\n",
       "      <th>PrepType_cell culture</th>\n",
       "      <th>PrepType_in vitro</th>\n",
       "      <th>PrepType_in vitro, cell culture</th>\n",
       "      <th>PrepType_in vivo</th>\n",
       "    </tr>\n",
       "    <tr>\n",
       "      <th>Index</th>\n",
       "      <th></th>\n",
       "      <th></th>\n",
       "      <th></th>\n",
       "      <th></th>\n",
       "      <th></th>\n",
       "      <th></th>\n",
       "      <th></th>\n",
       "      <th></th>\n",
       "      <th></th>\n",
       "      <th></th>\n",
       "      <th></th>\n",
       "      <th></th>\n",
       "      <th></th>\n",
       "      <th></th>\n",
       "      <th></th>\n",
       "      <th></th>\n",
       "      <th></th>\n",
       "      <th></th>\n",
       "      <th></th>\n",
       "      <th></th>\n",
       "      <th></th>\n",
       "    </tr>\n",
       "  </thead>\n",
       "  <tbody>\n",
       "    <tr>\n",
       "      <th>150</th>\n",
       "      <td>2015</td>\n",
       "      <td>30.0</td>\n",
       "      <td>178.0</td>\n",
       "      <td>-72.2</td>\n",
       "      <td>NaN</td>\n",
       "      <td>NaN</td>\n",
       "      <td>0.38</td>\n",
       "      <td>7.9</td>\n",
       "      <td>0</td>\n",
       "      <td>0</td>\n",
       "      <td>...</td>\n",
       "      <td>0</td>\n",
       "      <td>0</td>\n",
       "      <td>0</td>\n",
       "      <td>0</td>\n",
       "      <td>0</td>\n",
       "      <td>0</td>\n",
       "      <td>0</td>\n",
       "      <td>1</td>\n",
       "      <td>0</td>\n",
       "      <td>0</td>\n",
       "    </tr>\n",
       "    <tr>\n",
       "      <th>149</th>\n",
       "      <td>2015</td>\n",
       "      <td>30.0</td>\n",
       "      <td>361.0</td>\n",
       "      <td>-66.3</td>\n",
       "      <td>NaN</td>\n",
       "      <td>NaN</td>\n",
       "      <td>0.79</td>\n",
       "      <td>27.4</td>\n",
       "      <td>0</td>\n",
       "      <td>0</td>\n",
       "      <td>...</td>\n",
       "      <td>0</td>\n",
       "      <td>0</td>\n",
       "      <td>0</td>\n",
       "      <td>0</td>\n",
       "      <td>0</td>\n",
       "      <td>0</td>\n",
       "      <td>0</td>\n",
       "      <td>1</td>\n",
       "      <td>0</td>\n",
       "      <td>0</td>\n",
       "    </tr>\n",
       "    <tr>\n",
       "      <th>151</th>\n",
       "      <td>2015</td>\n",
       "      <td>30.0</td>\n",
       "      <td>135.0</td>\n",
       "      <td>-68.0</td>\n",
       "      <td>NaN</td>\n",
       "      <td>NaN</td>\n",
       "      <td>0.20</td>\n",
       "      <td>8.0</td>\n",
       "      <td>0</td>\n",
       "      <td>0</td>\n",
       "      <td>...</td>\n",
       "      <td>0</td>\n",
       "      <td>0</td>\n",
       "      <td>0</td>\n",
       "      <td>0</td>\n",
       "      <td>0</td>\n",
       "      <td>0</td>\n",
       "      <td>0</td>\n",
       "      <td>1</td>\n",
       "      <td>0</td>\n",
       "      <td>0</td>\n",
       "    </tr>\n",
       "  </tbody>\n",
       "</table>\n",
       "<p>3 rows × 86 columns</p>\n",
       "</div>"
      ],
      "text/plain": [
       "       PubYear  RecTemp    rin   rmp  apthr  apamp  aphw   tau  \\\n",
       "Index                                                            \n",
       "150       2015     30.0  178.0 -72.2    NaN    NaN  0.38   7.9   \n",
       "149       2015     30.0  361.0 -66.3    NaN    NaN  0.79  27.4   \n",
       "151       2015     30.0  135.0 -68.0    NaN    NaN  0.20   8.0   \n",
       "\n",
       "       BrainRegion_Cerebellum  BrainRegion_Cortical subplate  \\\n",
       "Index                                                          \n",
       "150                         0                              0   \n",
       "149                         0                              0   \n",
       "151                         0                              0   \n",
       "\n",
       "             ...         ElectrodeType_Patch-clamp, Sharp  \\\n",
       "Index        ...                                            \n",
       "150          ...                                        0   \n",
       "149          ...                                        0   \n",
       "151          ...                                        0   \n",
       "\n",
       "       ElectrodeType_Perforated patch  \\\n",
       "Index                                   \n",
       "150                                 0   \n",
       "149                                 0   \n",
       "151                                 0   \n",
       "\n",
       "       ElectrodeType_Perforated patch, Patch-clamp  ElectrodeType_Sharp  \\\n",
       "Index                                                                     \n",
       "150                                              0                    0   \n",
       "149                                              0                    0   \n",
       "151                                              0                    0   \n",
       "\n",
       "       PrepType_Other  PrepType_Other, in vitro  PrepType_cell culture  \\\n",
       "Index                                                                    \n",
       "150                 0                         0                      0   \n",
       "149                 0                         0                      0   \n",
       "151                 0                         0                      0   \n",
       "\n",
       "       PrepType_in vitro  PrepType_in vitro, cell culture  PrepType_in vivo  \n",
       "Index                                                                        \n",
       "150                    1                                0                 0  \n",
       "149                    1                                0                 0  \n",
       "151                    1                                0                 0  \n",
       "\n",
       "[3 rows x 86 columns]"
      ]
     },
     "execution_count": 8,
     "metadata": {},
     "output_type": "execute_result"
    }
   ],
   "source": [
    "df_predictors.head(3)"
   ]
  },
  {
   "cell_type": "code",
   "execution_count": 9,
   "metadata": {
    "slideshow": {
     "slide_type": "fragment"
    }
   },
   "outputs": [
    {
     "data": {
      "text/html": [
       "<div>\n",
       "<table border=\"1\" class=\"dataframe\">\n",
       "  <thead>\n",
       "    <tr style=\"text-align: right;\">\n",
       "      <th></th>\n",
       "      <th>PubYear</th>\n",
       "      <th>RecTemp</th>\n",
       "      <th>rin</th>\n",
       "      <th>rmp</th>\n",
       "      <th>apthr</th>\n",
       "      <th>apamp</th>\n",
       "      <th>aphw</th>\n",
       "      <th>tau</th>\n",
       "      <th>BrainRegion_Cerebellum</th>\n",
       "      <th>BrainRegion_Cortical subplate</th>\n",
       "      <th>...</th>\n",
       "      <th>ElectrodeType_Patch-clamp, Sharp</th>\n",
       "      <th>ElectrodeType_Perforated patch</th>\n",
       "      <th>ElectrodeType_Perforated patch, Patch-clamp</th>\n",
       "      <th>ElectrodeType_Sharp</th>\n",
       "      <th>PrepType_Other</th>\n",
       "      <th>PrepType_Other, in vitro</th>\n",
       "      <th>PrepType_cell culture</th>\n",
       "      <th>PrepType_in vitro</th>\n",
       "      <th>PrepType_in vitro, cell culture</th>\n",
       "      <th>PrepType_in vivo</th>\n",
       "    </tr>\n",
       "    <tr>\n",
       "      <th>Index</th>\n",
       "      <th></th>\n",
       "      <th></th>\n",
       "      <th></th>\n",
       "      <th></th>\n",
       "      <th></th>\n",
       "      <th></th>\n",
       "      <th></th>\n",
       "      <th></th>\n",
       "      <th></th>\n",
       "      <th></th>\n",
       "      <th></th>\n",
       "      <th></th>\n",
       "      <th></th>\n",
       "      <th></th>\n",
       "      <th></th>\n",
       "      <th></th>\n",
       "      <th></th>\n",
       "      <th></th>\n",
       "      <th></th>\n",
       "      <th></th>\n",
       "      <th></th>\n",
       "    </tr>\n",
       "  </thead>\n",
       "  <tbody>\n",
       "    <tr>\n",
       "      <th>150</th>\n",
       "      <td>2015</td>\n",
       "      <td>30.0</td>\n",
       "      <td>178.0</td>\n",
       "      <td>-72.2</td>\n",
       "      <td>-41.830232</td>\n",
       "      <td>71.934393</td>\n",
       "      <td>0.38</td>\n",
       "      <td>7.9</td>\n",
       "      <td>0</td>\n",
       "      <td>0</td>\n",
       "      <td>...</td>\n",
       "      <td>0</td>\n",
       "      <td>0</td>\n",
       "      <td>0</td>\n",
       "      <td>0</td>\n",
       "      <td>0</td>\n",
       "      <td>0</td>\n",
       "      <td>0</td>\n",
       "      <td>1</td>\n",
       "      <td>0</td>\n",
       "      <td>0</td>\n",
       "    </tr>\n",
       "    <tr>\n",
       "      <th>149</th>\n",
       "      <td>2015</td>\n",
       "      <td>30.0</td>\n",
       "      <td>361.0</td>\n",
       "      <td>-66.3</td>\n",
       "      <td>-41.830232</td>\n",
       "      <td>71.934393</td>\n",
       "      <td>0.79</td>\n",
       "      <td>27.4</td>\n",
       "      <td>0</td>\n",
       "      <td>0</td>\n",
       "      <td>...</td>\n",
       "      <td>0</td>\n",
       "      <td>0</td>\n",
       "      <td>0</td>\n",
       "      <td>0</td>\n",
       "      <td>0</td>\n",
       "      <td>0</td>\n",
       "      <td>0</td>\n",
       "      <td>1</td>\n",
       "      <td>0</td>\n",
       "      <td>0</td>\n",
       "    </tr>\n",
       "    <tr>\n",
       "      <th>151</th>\n",
       "      <td>2015</td>\n",
       "      <td>30.0</td>\n",
       "      <td>135.0</td>\n",
       "      <td>-68.0</td>\n",
       "      <td>-41.830232</td>\n",
       "      <td>71.934393</td>\n",
       "      <td>0.20</td>\n",
       "      <td>8.0</td>\n",
       "      <td>0</td>\n",
       "      <td>0</td>\n",
       "      <td>...</td>\n",
       "      <td>0</td>\n",
       "      <td>0</td>\n",
       "      <td>0</td>\n",
       "      <td>0</td>\n",
       "      <td>0</td>\n",
       "      <td>0</td>\n",
       "      <td>0</td>\n",
       "      <td>1</td>\n",
       "      <td>0</td>\n",
       "      <td>0</td>\n",
       "    </tr>\n",
       "  </tbody>\n",
       "</table>\n",
       "<p>3 rows × 86 columns</p>\n",
       "</div>"
      ],
      "text/plain": [
       "       PubYear  RecTemp    rin   rmp      apthr      apamp  aphw   tau  \\\n",
       "Index                                                                    \n",
       "150       2015     30.0  178.0 -72.2 -41.830232  71.934393  0.38   7.9   \n",
       "149       2015     30.0  361.0 -66.3 -41.830232  71.934393  0.79  27.4   \n",
       "151       2015     30.0  135.0 -68.0 -41.830232  71.934393  0.20   8.0   \n",
       "\n",
       "       BrainRegion_Cerebellum  BrainRegion_Cortical subplate  \\\n",
       "Index                                                          \n",
       "150                         0                              0   \n",
       "149                         0                              0   \n",
       "151                         0                              0   \n",
       "\n",
       "             ...         ElectrodeType_Patch-clamp, Sharp  \\\n",
       "Index        ...                                            \n",
       "150          ...                                        0   \n",
       "149          ...                                        0   \n",
       "151          ...                                        0   \n",
       "\n",
       "       ElectrodeType_Perforated patch  \\\n",
       "Index                                   \n",
       "150                                 0   \n",
       "149                                 0   \n",
       "151                                 0   \n",
       "\n",
       "       ElectrodeType_Perforated patch, Patch-clamp  ElectrodeType_Sharp  \\\n",
       "Index                                                                     \n",
       "150                                              0                    0   \n",
       "149                                              0                    0   \n",
       "151                                              0                    0   \n",
       "\n",
       "       PrepType_Other  PrepType_Other, in vitro  PrepType_cell culture  \\\n",
       "Index                                                                    \n",
       "150                 0                         0                      0   \n",
       "149                 0                         0                      0   \n",
       "151                 0                         0                      0   \n",
       "\n",
       "       PrepType_in vitro  PrepType_in vitro, cell culture  PrepType_in vivo  \n",
       "Index                                                                        \n",
       "150                    1                                0                 0  \n",
       "149                    1                                0                 0  \n",
       "151                    1                                0                 0  \n",
       "\n",
       "[3 rows x 86 columns]"
      ]
     },
     "execution_count": 9,
     "metadata": {},
     "output_type": "execute_result"
    }
   ],
   "source": [
    "df_predictors = df_predictors.fillna(df_predictors.mean()) # Fills missing values with the mean from that column\n",
    "df_predictors.head(3)"
   ]
  },
  {
   "cell_type": "markdown",
   "metadata": {
    "slideshow": {
     "slide_type": "slide"
    }
   },
   "source": [
    "## Classification is too hard if we have hundreds of classes, some of which only have a few members"
   ]
  },
  {
   "cell_type": "markdown",
   "metadata": {
    "slideshow": {
     "slide_type": "fragment"
    }
   },
   "source": [
    "### Let's restrict classification to the ten most common classes"
   ]
  },
  {
   "cell_type": "code",
   "execution_count": 10,
   "metadata": {
    "slideshow": {
     "slide_type": "fragment"
    }
   },
   "outputs": [
    {
     "data": {
      "text/plain": [
       "Other                                 291\n",
       "Neocortex pyramidal cell layer 5-6    123\n",
       "Hippocampus CA1 pyramidal cell        116\n",
       "Neocortex basket cell                  74\n",
       "Neocortex pyramidal cell layer 2-3     71\n",
       "Neocortex uncharacterized cell         49\n",
       "Neostriatum medium spiny neuron        40\n",
       "Neocortex Martinotti cell              37\n",
       "Subiculum pyramidal cell               31\n",
       "Neostriatum gabaergic interneuron      29\n",
       "Name: NeuronName, dtype: int64"
      ]
     },
     "execution_count": 10,
     "metadata": {},
     "output_type": "execute_result"
    }
   ],
   "source": [
    "df_target.value_counts()[:10]"
   ]
  },
  {
   "cell_type": "code",
   "execution_count": 11,
   "metadata": {
    "slideshow": {
     "slide_type": "slide"
    }
   },
   "outputs": [],
   "source": [
    "top_10_cell_types = list(df_target.value_counts(normalize=True).index)[:10]\n",
    "top_10_cell_type_indices = df_target.isin(top_10_cell_types)\n",
    "df_target = df_target[top_10_cell_type_indices]\n",
    "df_predictors = df_predictors[top_10_cell_type_indices]"
   ]
  },
  {
   "cell_type": "markdown",
   "metadata": {
    "slideshow": {
     "slide_type": "slide"
    }
   },
   "source": [
    "## Now let's try running a classification algorithm"
   ]
  },
  {
   "cell_type": "code",
   "execution_count": 12,
   "metadata": {
    "slideshow": {
     "slide_type": "fragment"
    }
   },
   "outputs": [
    {
     "name": "stdout",
     "output_type": "stream",
     "text": [
      "The predicted cross-validation classification performance is 83.9%\n"
     ]
    }
   ],
   "source": [
    "# Initialize the classification algorithm (Random Forest Classification)\n",
    "rfc = RandomForestClassifier(n_estimators=100,oob_score=True)\n",
    "# Run the classification algorithm\n",
    "rfc.fit(df_predictors,df_target)\n",
    "# Assess the in-sample performance\n",
    "print(\"The predicted cross-validation classification performance is %.3g%%\" % (rfc.oob_score_*100))"
   ]
  },
  {
   "cell_type": "markdown",
   "metadata": {
    "slideshow": {
     "slide_type": "slide"
    }
   },
   "source": [
    "## That sounds pretty good, but we can try actual cross-validation instead of just guessing.  "
   ]
  },
  {
   "cell_type": "code",
   "execution_count": 13,
   "metadata": {
    "slideshow": {
     "slide_type": "fragment"
    }
   },
   "outputs": [
    {
     "name": "stdout",
     "output_type": "stream",
     "text": [
      "On cross-validation split #1, the classification performance was 75.3%\n",
      "On cross-validation split #2, the classification performance was 76.7%\n",
      "On cross-validation split #3, the classification performance was 71.7%\n"
     ]
    }
   ],
   "source": [
    "scores = cross_val_score(rfc, df_predictors, df_target)\n",
    "for i,score in enumerate(scores):\n",
    "    print(\"On cross-validation split #%d, the classification performance was %.3g%%\" % (i+1,score*100))"
   ]
  },
  {
   "cell_type": "markdown",
   "metadata": {
    "slideshow": {
     "slide_type": "slide"
    }
   },
   "source": [
    "## Which classes are we classifying well, and where are we making mistakes?  "
   ]
  },
  {
   "cell_type": "markdown",
   "metadata": {
    "slideshow": {
     "slide_type": "fragment"
    }
   },
   "source": [
    "### e.g. when are we mistaking one cell type for another?  "
   ]
  },
  {
   "cell_type": "markdown",
   "metadata": {
    "slideshow": {
     "slide_type": "slide"
    }
   },
   "source": [
    "## The 'confusion matrix'"
   ]
  },
  {
   "cell_type": "code",
   "execution_count": 14,
   "metadata": {
    "slideshow": {
     "slide_type": "skip"
    }
   },
   "outputs": [],
   "source": [
    "def plot_confusion_matrix(predictions,actual):\n",
    "    # Split the data into a training set and a test set\n",
    "    predictions = cross_val_predict(rfc, df_predictors, df_target) # Make out-of-sample predictions\n",
    "    classes = list(set(df_target)) # A list of all the possible classes (the neuron names)\n",
    "    cm = confusion_matrix(df_target, predictions, labels=classes) # Generate the confusion matrix\n",
    "    cm = 100*cm.astype('float') / cm.sum(axis=1)[:, np.newaxis] # Normalize and convert to percentage\n",
    "    plt.pcolor(cm,cmap='Reds') # Plot using the red colormap\n",
    "    plt.colorbar().set_label('Percent classified as this') # Add the color scale\n",
    "    ticks = np.arange(0.5,10.5) # The numeric valies of the axis tick positions\n",
    "    plt.xticks(ticks,classes,rotation=90) # Add the x-axis ticks\n",
    "    plt.yticks(ticks,classes); # Add the y-axis ticks"
   ]
  },
  {
   "cell_type": "code",
   "execution_count": 15,
   "metadata": {
    "slideshow": {
     "slide_type": "fragment"
    }
   },
   "outputs": [
    {
     "data": {
      "image/png": "[encoded data removed]",
      "text/plain": [
       "<matplotlib.figure.Figure at 0x10a61a550>"
      ]
     },
     "metadata": {},
     "output_type": "display_data"
    }
   ],
   "source": [
    "predictions = cross_val_predict(rfc, df_predictors, df_target) # Make out-of-sample predictions\n",
    "plot_confusion_matrix(predictions,df_target)"
   ]
  },
  {
   "cell_type": "markdown",
   "metadata": {
    "slideshow": {
     "slide_type": "slide"
    }
   },
   "source": [
    "## What features are important for classification?"
   ]
  },
  {
   "cell_type": "markdown",
   "metadata": {
    "slideshow": {
     "slide_type": "fragment"
    }
   },
   "source": [
    "### Which ones have the equivalent of large coefficients in a regression model?"
   ]
  },
  {
   "cell_type": "code",
   "execution_count": 16,
   "metadata": {
    "slideshow": {
     "slide_type": "fragment"
    }
   },
   "outputs": [
    {
     "data": {
      "image/png": "[encoded data removed]",
      "text/plain": [
       "<matplotlib.figure.Figure at 0x10b551668>"
      ]
     },
     "metadata": {},
     "output_type": "display_data"
    }
   ],
   "source": [
    "df_importances = pd.Series(rfc.feature_importances_,index=df_predictors.columns).sort_values(ascending=False)\n",
    "df_importances.iloc[:20].plot.bar(title='Feature importances',figsize=(12,4));"
   ]
  }
 ],
 "metadata": {
  "CodeCell": {
   "cm_config": {
    "lineWrapping": true
   }
  },
  "MarkdownCell": {
   "cm_config": {
    "lineWrapping": true
   }
  },
  "celltoolbar": "Slideshow",
  "kernelspec": {
   "display_name": "Python 3",
   "language": "python",
   "name": "python3"
  },
  "language_info": {
   "codemirror_mode": {
    "name": "ipython",
    "version": 3
   },
   "file_extension": ".py",
   "mimetype": "text/x-python",
   "name": "python",
   "nbconvert_exporter": "python",
   "pygments_lexer": "ipython3",
   "version": "3.7.1"
  }
 },
 "nbformat": 4,
 "nbformat_minor": 2
}
