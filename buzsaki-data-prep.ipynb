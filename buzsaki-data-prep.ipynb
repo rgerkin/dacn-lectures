{
 "cells": [
  {
   "cell_type": "code",
   "execution_count": 3,
   "metadata": {},
   "outputs": [],
   "source": [
    "import pandas as pd\n",
    "import h5py"
   ]
  },
  {
   "cell_type": "code",
   "execution_count": 4,
   "metadata": {},
   "outputs": [],
   "source": [
    "# Obtained from https://buzsakilab.nyumc.org/datasets/GrosmarkAD\n",
    "file_name = 'Achilles_10252013_sessInfo.mat'\n",
    "#file_name = 'Buddy_06272013_sessInfo.mat'\n",
    "#file_name = 'Cicero_09012014_sessInfo.mat'\n",
    "#file_name = 'Gatsby_08022013_sessInfo.mat'\n",
    "f = h5py.File(file_name, 'r')\n",
    "epoch = 'MazeEpoch'\n",
    "t_start = f['sessInfo']['Epochs'][epoch][0][0]\n",
    "t_stop = f['sessInfo']['Epochs'][epoch][1][0]\n",
    "track_start = 0.2 # Only include data at least this far from the left-end of the track\n",
    "track_stop = 1.4 # Only include data less than this far from the right-end of the track"
   ]
  },
  {
   "cell_type": "code",
   "execution_count": 5,
   "metadata": {},
   "outputs": [
    {
     "name": "stdout",
     "output_type": "stream",
     "text": [
      "There are 8414607 spikes across 137 cells\n",
      "In the epoch 'MazeEpoch', there are 865967 spikes across 137 cells\n"
     ]
    }
   ],
   "source": [
    "# Load all the spike times and cell IDs\n",
    "spikes = pd.DataFrame()\n",
    "spikes['cell_ids'] = f['sessInfo']['Spikes']['SpikeIDs'][0].astype(int)\n",
    "cell_ids = spikes['cell_ids'].unique()\n",
    "spikes['t'] = f['sessInfo']['Spikes']['SpikeTimes'][0]\n",
    "print(\"There are %d spikes across %d cells\" % \n",
    "      (spikes.shape[0], len(spikes['cell_ids'].unique())))\n",
    "in_epoch = (spikes['t']>t_start) & (spikes['t']<t_stop)\n",
    "spikes = spikes[in_epoch]\n",
    "print(\"In the epoch '%s', there are %d spikes across %d cells\" % \n",
    "      (epoch, spikes.shape[0], len(cell_ids)))\n",
    "spikes = spikes.set_index('t')"
   ]
  },
  {
   "cell_type": "code",
   "execution_count": 6,
   "metadata": {},
   "outputs": [],
   "source": [
    "# Load all the location data\n",
    "locations = pd.DataFrame()\n",
    "locations['d'] = f['sessInfo']['Position']['OneDLocation'][0]\n",
    "locations['x'] = f['sessInfo']['Position']['TwoDLocation'][0]\n",
    "locations['y'] = f['sessInfo']['Position']['TwoDLocation'][1]\n",
    "locations['t'] = f['sessInfo']['Position']['TimeStamps'][()]\n",
    "in_epoch = (locations['t']>t_start) & (locations['t']<t_stop)\n",
    "locations = locations[in_epoch].set_index('t').dropna()"
   ]
  },
  {
   "cell_type": "code",
   "execution_count": 7,
   "metadata": {},
   "outputs": [
    {
     "name": "stdout",
     "output_type": "stream",
     "text": [
      "In the epoch 'MazeEpoch', there are 104048 spikes across 136 cells that occurred during track running\n"
     ]
    },
    {
     "data": {
      "text/html": [
       "<div>\n",
       "<style scoped>\n",
       "    .dataframe tbody tr th:only-of-type {\n",
       "        vertical-align: middle;\n",
       "    }\n",
       "\n",
       "    .dataframe tbody tr th {\n",
       "        vertical-align: top;\n",
       "    }\n",
       "\n",
       "    .dataframe thead th {\n",
       "        text-align: right;\n",
       "    }\n",
       "</style>\n",
       "<table border=\"1\" class=\"dataframe\">\n",
       "  <thead>\n",
       "    <tr style=\"text-align: right;\">\n",
       "      <th></th>\n",
       "      <th>cell_ids</th>\n",
       "      <th>d</th>\n",
       "      <th>x</th>\n",
       "      <th>y</th>\n",
       "    </tr>\n",
       "    <tr>\n",
       "      <th>t</th>\n",
       "      <th></th>\n",
       "      <th></th>\n",
       "      <th></th>\n",
       "      <th></th>\n",
       "    </tr>\n",
       "  </thead>\n",
       "  <tbody>\n",
       "    <tr>\n",
       "      <th>18194.76930</th>\n",
       "      <td>609</td>\n",
       "      <td>0.200284</td>\n",
       "      <td>-0.061786</td>\n",
       "      <td>-0.189188</td>\n",
       "    </tr>\n",
       "    <tr>\n",
       "      <th>18194.77235</th>\n",
       "      <td>529</td>\n",
       "      <td>0.201205</td>\n",
       "      <td>-0.060900</td>\n",
       "      <td>-0.189143</td>\n",
       "    </tr>\n",
       "    <tr>\n",
       "      <th>18194.77305</th>\n",
       "      <td>1209</td>\n",
       "      <td>0.202125</td>\n",
       "      <td>-0.060015</td>\n",
       "      <td>-0.189098</td>\n",
       "    </tr>\n",
       "    <tr>\n",
       "      <th>18194.77855</th>\n",
       "      <td>416</td>\n",
       "      <td>0.203724</td>\n",
       "      <td>-0.058476</td>\n",
       "      <td>-0.189284</td>\n",
       "    </tr>\n",
       "    <tr>\n",
       "      <th>18194.77955</th>\n",
       "      <td>828</td>\n",
       "      <td>0.204402</td>\n",
       "      <td>-0.057822</td>\n",
       "      <td>-0.189515</td>\n",
       "    </tr>\n",
       "  </tbody>\n",
       "</table>\n",
       "</div>"
      ],
      "text/plain": [
       "             cell_ids         d         x         y\n",
       "t                                                  \n",
       "18194.76930       609  0.200284 -0.061786 -0.189188\n",
       "18194.77235       529  0.201205 -0.060900 -0.189143\n",
       "18194.77305      1209  0.202125 -0.060015 -0.189098\n",
       "18194.77855       416  0.203724 -0.058476 -0.189284\n",
       "18194.77955       828  0.204402 -0.057822 -0.189515"
      ]
     },
     "execution_count": 7,
     "metadata": {},
     "output_type": "execute_result"
    }
   ],
   "source": [
    "# Join the spike and location data together, keeping only the times and locations of spikes\n",
    "df = spikes.join(locations, how='outer').sort_index()\n",
    "df.loc[:,['d','x','y']] = df.loc[:,['d','x','y']].interpolate(limit_area='inside')\n",
    "on_track = (df['d']>track_start) & (df['d']<track_stop)\n",
    "df = df[on_track]\n",
    "on_track = (locations['d']>track_start) & (locations['d']<track_stop)\n",
    "locations = locations[on_track]\n",
    "df = df.dropna()\n",
    "df['cell_ids'] = df['cell_ids'].astype(int)\n",
    "cell_ids = df['cell_ids'].unique()\n",
    "print(\"In the epoch '%s', there are %d spikes across %d cells that occurred during track running\" % \n",
    "      (epoch, df.shape[0], len(cell_ids)))\n",
    "df.head()"
   ]
  },
  {
   "cell_type": "code",
   "execution_count": 9,
   "metadata": {},
   "outputs": [],
   "source": [
    "df.to_csv('place_cell_spike_data.csv')\n",
    "locations.to_csv('place_cell_location_data.csv')"
   ]
  }
 ],
 "metadata": {
  "kernelspec": {
   "display_name": "Python 3",
   "language": "python",
   "name": "python3"
  },
  "language_info": {
   "codemirror_mode": {
    "name": "ipython",
    "version": 3
   },
   "file_extension": ".py",
   "mimetype": "text/x-python",
   "name": "python",
   "nbconvert_exporter": "python",
   "pygments_lexer": "ipython3",
   "version": "3.7.1"
  }
 },
 "nbformat": 4,
 "nbformat_minor": 2
}
