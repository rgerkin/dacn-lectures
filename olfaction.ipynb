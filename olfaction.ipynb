{
 "cells": [
  {
   "cell_type": "markdown",
   "metadata": {
    "slideshow": {
     "slide_type": "slide"
    }
   },
   "source": [
    "# Olfaction (Smell) #"
   ]
  },
  {
   "cell_type": "markdown",
   "metadata": {
    "slideshow": {
     "slide_type": "fragment"
    }
   },
   "source": [
    "![olfactory-system](https://upload.wikimedia.org/wikipedia/commons/thumb/3/34/Head_Olfactory_Nerve_Labeled.png/500px-Head_Olfactory_Nerve_Labeled.png)"
   ]
  },
  {
   "cell_type": "markdown",
   "metadata": {
    "slideshow": {
     "slide_type": "slide"
    }
   },
   "source": [
    "## Orthonasal vs Retronasal"
   ]
  },
  {
   "cell_type": "markdown",
   "metadata": {
    "slideshow": {
     "slide_type": "fragment"
    }
   },
   "source": [
    "![ortho-retro](https://www.thoughtco.com/thmb/YCumJ3PQdYxshDw0mzCIcilCqwc=/768x0/filters:no_upscale():max_bytes(150000):strip_icc():format(webp)/olfaction-57966b3f3df78ceb863e0683.jpg)"
   ]
  },
  {
   "cell_type": "markdown",
   "metadata": {
    "slideshow": {
     "slide_type": "slide"
    }
   },
   "source": [
    "## The olfactory epithelium as a chromatograph"
   ]
  },
  {
   "cell_type": "markdown",
   "metadata": {
    "slideshow": {
     "slide_type": "fragment"
    }
   },
   "source": [
    "![chromatograph](https://www.sigmaaldrich.com/content/dam/sigma-aldrich/product2/137/g004158a.eps/_jcr_content/renditions/g004158a-large.jpg)"
   ]
  },
  {
   "cell_type": "markdown",
   "metadata": {
    "slideshow": {
     "slide_type": "slide"
    }
   },
   "source": [
    "## Olfactory transduction is mediated by receptors"
   ]
  },
  {
   "cell_type": "markdown",
   "metadata": {
    "slideshow": {
     "slide_type": "fragment"
    }
   },
   "source": [
    "![olfactory-receptors](images/odor-receptors.jpg)"
   ]
  },
  {
   "cell_type": "markdown",
   "metadata": {
    "slideshow": {
     "slide_type": "slide"
    }
   },
   "source": [
    "## The olfactory receptors are spatially and genetically organized into classes"
   ]
  },
  {
   "cell_type": "markdown",
   "metadata": {
    "slideshow": {
     "slide_type": "fragment"
    }
   },
   "source": [
    "![odor-receptors](images/odor-receptors-2.jpg)"
   ]
  },
  {
   "cell_type": "markdown",
   "metadata": {
    "slideshow": {
     "slide_type": "slide"
    }
   },
   "source": [
    "## Examples of molecules too small or too big to smell:"
   ]
  },
  {
   "cell_type": "markdown",
   "metadata": {
    "slideshow": {
     "slide_type": "fragment"
    }
   },
   "source": [
    "### Small, low boiling point, can't dissolve into epithelial mucosa:\n",
    "![methane](http://www.sciencekids.co.nz/images/pictures/chemistry/chemicalstructureofmethane.jpg)\n",
    "### Large, high boiling point, can't dissolve into the air to get to your nose:\n",
    "![taxol](https://upload.wikimedia.org/wikipedia/commons/thumb/5/59/Taxol.svg/1920px-Taxol.svg.png)"
   ]
  },
  {
   "cell_type": "markdown",
   "metadata": {
    "slideshow": {
     "slide_type": "slide"
    }
   },
   "source": [
    "## What kind of molecules can you smell?"
   ]
  },
  {
   "cell_type": "markdown",
   "metadata": {
    "slideshow": {
     "slide_type": "fragment"
    }
   },
   "source": [
    "![boelens](images/boelens.png)"
   ]
  },
  {
   "cell_type": "markdown",
   "metadata": {
    "slideshow": {
     "slide_type": "slide"
    }
   },
   "source": [
    "## Enantiomers"
   ]
  },
  {
   "cell_type": "markdown",
   "metadata": {
    "slideshow": {
     "slide_type": "fragment"
    }
   },
   "source": [
    "![alt text](images/carvone.png)\n",
    "\n",
    "### (+)-carvone:\n",
    "![alt text](images/caraway-seeds.jpg)\n",
    "\n",
    "### (-)-carvone:\n",
    "![alt text](images/mint.jpg)"
   ]
  },
  {
   "cell_type": "markdown",
   "metadata": {
    "slideshow": {
     "slide_type": "slide"
    }
   },
   "source": [
    "### Q: What if you walked through a mirror?\n",
    "<img align=\"left\" src=\"images/mickey.png\">"
   ]
  }
 ],
 "metadata": {
  "celltoolbar": "Slideshow",
  "kernelspec": {
   "display_name": "Python 3",
   "language": "python",
   "name": "python3"
  },
  "language_info": {
   "codemirror_mode": {
    "name": "ipython",
    "version": 3
   },
   "file_extension": ".py",
   "mimetype": "text/x-python",
   "name": "python",
   "nbconvert_exporter": "python",
   "pygments_lexer": "ipython3",
   "version": "3.7.1"
  }
 },
 "nbformat": 4,
 "nbformat_minor": 2
}
