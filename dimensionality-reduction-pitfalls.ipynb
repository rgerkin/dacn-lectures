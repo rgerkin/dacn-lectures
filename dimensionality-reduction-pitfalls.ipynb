{
 "cells": [
  {
   "cell_type": "markdown",
   "metadata": {
    "slideshow": {
     "slide_type": "slide"
    }
   },
   "source": [
    "# Dimensionality Reduction: Pitfalls"
   ]
  },
  {
   "cell_type": "code",
   "execution_count": 1,
   "metadata": {
    "slideshow": {
     "slide_type": "skip"
    }
   },
   "outputs": [],
   "source": [
    "%matplotlib inline\n",
    "import matplotlib.pyplot as plt\n",
    "import matplotlib as mpl\n",
    "from mpl_toolkits.mplot3d import Axes3D\n",
    "import ipyvolume.pylab as p3\n",
    "import numpy as np\n",
    "import pandas as pd\n",
    "from sklearn.decomposition import PCA\n",
    "from sklearn.preprocessing import StandardScaler, Normalizer, MinMaxScaler\n",
    "from IPython.display import YouTubeVideo"
   ]
  },
  {
   "cell_type": "code",
   "execution_count": 2,
   "metadata": {
    "slideshow": {
     "slide_type": "skip"
    }
   },
   "outputs": [],
   "source": [
    "pca = PCA()\n",
    "\n",
    "mpl.rcParams.update({'font.size':16})\n",
    "\n",
    "# A function for plotting 3-dimensional data\n",
    "def plot3d(df):\n",
    "    data = df.values\n",
    "    fig = plt.figure(figsize=(6,6))\n",
    "    ax = fig.add_subplot(111, projection='3d')\n",
    "    ax.scatter(*data[:,0:3].T)\n",
    "    minn,maxx = data.min(),data.max()\n",
    "    ax.set_xlim(minn,maxx)\n",
    "    ax.set_ylim(minn,maxx)\n",
    "    ax.set_zlim(minn,maxx)\n",
    "    ax.set_xlabel(df.columns[0],labelpad=10)\n",
    "    ax.set_ylabel(df.columns[1],labelpad=10)\n",
    "    ax.set_zlabel(df.columns[2],labelpad=10)\n",
    "    ax.dist = 12\n",
    "    plt.tight_layout()\n",
    "    \n",
    "def plot3d_live(data):\n",
    "    fig = p3.figure()\n",
    "    q = p3.scatter(*data.T, size=1, marker=\"sphere\")\n",
    "    p3.style.use(\"dark\") # looks better\n",
    "    p3.show()\n",
    "        \n",
    "# A function for summarizing covariancs and correlations\n",
    "def summarize(info,name,quiet=False):\n",
    "    values = info[name]\n",
    "    if not quiet:\n",
    "        print(values.round(2))\n",
    "    plt.pcolor(values,cmap='RdBu_r',vmin=-values.max(),vmax=values.max())\n",
    "    raynge = np.arange(values.shape[0])\n",
    "    if not quiet:\n",
    "        plt.xticks(raynge+0.5,raynge)\n",
    "        plt.yticks(raynge+0.5,raynge)\n",
    "    else:\n",
    "        plt.xticks([])\n",
    "        plt.yticks([])\n",
    "    plt.gca().invert_yaxis() # Make y-axis go from low to high like a matrix\n",
    "    plt.colorbar().set_label(name)\n",
    "    if not quiet:\n",
    "        eigenvalues,_ = np.linalg.eig(info[name])\n",
    "        for i,eig in enumerate(sorted(eigenvalues,reverse=True)):\n",
    "            print('Eigenvalue #%d is %.3g' % (i+1,eig))\n",
    "        \n",
    "def report_mean_var(data):\n",
    "    for i in range(data.shape[1]):\n",
    "        column = data[:,i]\n",
    "        print(\"Dimension %d has mean %.2g and variance %.3g\" % \\\n",
    "              (i+1,column.mean(),column.var()))\n",
    "        \n",
    "def annotate_scatter(ax,df):\n",
    "    for i, text in enumerate(df.index):\n",
    "        ax.text(df['PC 1'].iloc[i],df['PC 2'].iloc[i], text)\n",
    "        \n",
    "def variance_explained(df,pca):\n",
    "    pca.fit(df.values)\n",
    "    for i in range(min(*df.shape)):\n",
    "        print(\"PC %d explains %.3g%% of the variance\" % (i+1,100*pca.explained_variance_ratio_[i]))\n",
    "        \n",
    "def pc_report(pca,df):\n",
    "    pca.fit(df.values)\n",
    "    pca_df = pd.DataFrame(pca.components_.T,\n",
    "                          index=df.columns,\n",
    "                          columns=['PC %d' % (i+1) for i in range(min(*df.shape))])\n",
    "    pca_df = pca_df.applymap(lambda x:'%.3g' % x)\n",
    "    return pca_df\n",
    "\n",
    "def plot_transformed_data(pca,df,figsize=None):\n",
    "    pca.fit(df.values)\n",
    "    pca_df = pd.DataFrame(pca.transform(df.values),\n",
    "                      index=df.index,\n",
    "                      columns=['PC %d' % (i+1) for i in range(min(*df.shape))])\n",
    "    ax = pca_df.plot.scatter('PC 1','PC 2',figsize=figsize)\n",
    "    annotate_scatter(ax,pca_df)\n",
    "\n",
    "my_fake_data = np.random.rand(100,3)\n",
    "my_fake_data[:,2] = (my_fake_data[:,0] + my_fake_data[:,1])/np.sqrt(2)"
   ]
  },
  {
   "cell_type": "code",
   "execution_count": 3,
   "metadata": {
    "slideshow": {
     "slide_type": "slide"
    }
   },
   "outputs": [
    {
     "data": {
      "image/jpeg": "[encoded data removed]",
      "text/html": [
       "\n",
       "        <iframe\n",
       "            width=\"400\"\n",
       "            height=\"300\"\n",
       "            src=\"https://www.youtube.com/embed/MhXMYw1lXY0\"\n",
       "            frameborder=\"0\"\n",
       "            allowfullscreen\n",
       "        ></iframe>\n",
       "        "
      ],
      "text/plain": [
       "<IPython.lib.display.YouTubeVideo at 0x7f9aef51f3c8>"
      ]
     },
     "execution_count": 3,
     "metadata": {},
     "output_type": "execute_result"
    }
   ],
   "source": [
    "YouTubeVideo('MhXMYw1lXY0')"
   ]
  },
  {
   "cell_type": "markdown",
   "metadata": {
    "slideshow": {
     "slide_type": "slide"
    }
   },
   "source": [
    "## Pitfall #1: Data has no structure to extract"
   ]
  },
  {
   "cell_type": "code",
   "execution_count": 4,
   "metadata": {
    "slideshow": {
     "slide_type": "slide"
    }
   },
   "outputs": [
    {
     "data": {
      "application/vnd.jupyter.widget-view+json": {
       "model_id": "8669a65829a1426cbc75e183d60fe2ab",
       "version_major": 2,
       "version_minor": 0
      },
      "text/plain": [
       "VBox(children=(Figure(camera=PerspectiveCamera(fov=46.0, position=(0.0, 0.0, 2.0), quaternion=(0.0, 0.0, 0.0, …"
      ]
     },
     "metadata": {},
     "output_type": "display_data"
    }
   ],
   "source": [
    "df = pd.DataFrame(np.random.randn(500,3)) # Random data\n",
    "plot3d_live(df.values) # Won't look interesting no matter what axes you use!"
   ]
  },
  {
   "cell_type": "code",
   "execution_count": 5,
   "metadata": {
    "slideshow": {
     "slide_type": "fragment"
    }
   },
   "outputs": [
    {
     "name": "stdout",
     "output_type": "stream",
     "text": [
      "PC 1 explains 37.3% of the variance\n",
      "PC 2 explains 33.3% of the variance\n",
      "PC 3 explains 29.4% of the variance\n"
     ]
    }
   ],
   "source": [
    "pca.fit(df.values)\n",
    "variance_explained(df,pca)"
   ]
  },
  {
   "cell_type": "markdown",
   "metadata": {
    "slideshow": {
     "slide_type": "slide"
    }
   },
   "source": [
    "## Potential solution: Use more interesting data"
   ]
  },
  {
   "cell_type": "markdown",
   "metadata": {
    "slideshow": {
     "slide_type": "slide"
    }
   },
   "source": [
    "## Pitfall #2: Dimensions have *very* unequal variances"
   ]
  },
  {
   "cell_type": "code",
   "execution_count": 6,
   "metadata": {
    "slideshow": {
     "slide_type": "fragment"
    }
   },
   "outputs": [],
   "source": [
    "df = pd.read_csv('data/crimedata.csv',delimiter='\\t',thousands=',')"
   ]
  },
  {
   "cell_type": "code",
   "execution_count": 7,
   "metadata": {
    "slideshow": {
     "slide_type": "skip"
    }
   },
   "outputs": [],
   "source": [
    "df = df.rename(columns=lambda x:x.replace('\\n',' ').replace('  ',' '))\n",
    "df = df.replace(20013,2001)\n",
    "df = df.replace(20124,2012)\n",
    "df = df.set_index('Year')"
   ]
  },
  {
   "cell_type": "code",
   "execution_count": 8,
   "metadata": {
    "slideshow": {
     "slide_type": "fragment"
    }
   },
   "outputs": [
    {
     "data": {
      "text/html": [
       "<div>\n",
       "<style scoped>\n",
       "    .dataframe tbody tr th:only-of-type {\n",
       "        vertical-align: middle;\n",
       "    }\n",
       "\n",
       "    .dataframe tbody tr th {\n",
       "        vertical-align: top;\n",
       "    }\n",
       "\n",
       "    .dataframe thead th {\n",
       "        text-align: right;\n",
       "    }\n",
       "</style>\n",
       "<table border=\"1\" class=\"dataframe\">\n",
       "  <thead>\n",
       "    <tr style=\"text-align: right;\">\n",
       "      <th></th>\n",
       "      <th>Population1</th>\n",
       "      <th>Violent crime</th>\n",
       "      <th>Violent crime rate</th>\n",
       "      <th>Murder and nonnegligent manslaughter</th>\n",
       "      <th>Murder and nonnegligent manslaughter rate</th>\n",
       "    </tr>\n",
       "    <tr>\n",
       "      <th>Year</th>\n",
       "      <th></th>\n",
       "      <th></th>\n",
       "      <th></th>\n",
       "      <th></th>\n",
       "      <th></th>\n",
       "    </tr>\n",
       "  </thead>\n",
       "  <tbody>\n",
       "    <tr>\n",
       "      <th>1994</th>\n",
       "      <td>260327021</td>\n",
       "      <td>1857670</td>\n",
       "      <td>713.6</td>\n",
       "      <td>23326</td>\n",
       "      <td>9.0</td>\n",
       "    </tr>\n",
       "    <tr>\n",
       "      <th>1995</th>\n",
       "      <td>262803276</td>\n",
       "      <td>1798792</td>\n",
       "      <td>684.5</td>\n",
       "      <td>21606</td>\n",
       "      <td>8.2</td>\n",
       "    </tr>\n",
       "    <tr>\n",
       "      <th>1996</th>\n",
       "      <td>265228572</td>\n",
       "      <td>1688540</td>\n",
       "      <td>636.6</td>\n",
       "      <td>19645</td>\n",
       "      <td>7.4</td>\n",
       "    </tr>\n",
       "    <tr>\n",
       "      <th>1997</th>\n",
       "      <td>267783607</td>\n",
       "      <td>1636096</td>\n",
       "      <td>611.0</td>\n",
       "      <td>18208</td>\n",
       "      <td>6.8</td>\n",
       "    </tr>\n",
       "    <tr>\n",
       "      <th>1998</th>\n",
       "      <td>270248003</td>\n",
       "      <td>1533887</td>\n",
       "      <td>567.6</td>\n",
       "      <td>16974</td>\n",
       "      <td>6.3</td>\n",
       "    </tr>\n",
       "  </tbody>\n",
       "</table>\n",
       "</div>"
      ],
      "text/plain": [
       "      Population1  Violent crime  Violent crime rate   \\\n",
       "Year                                                    \n",
       "1994    260327021        1857670                713.6   \n",
       "1995    262803276        1798792                684.5   \n",
       "1996    265228572        1688540                636.6   \n",
       "1997    267783607        1636096                611.0   \n",
       "1998    270248003        1533887                567.6   \n",
       "\n",
       "      Murder and nonnegligent manslaughter  \\\n",
       "Year                                         \n",
       "1994                                 23326   \n",
       "1995                                 21606   \n",
       "1996                                 19645   \n",
       "1997                                 18208   \n",
       "1998                                 16974   \n",
       "\n",
       "      Murder and nonnegligent manslaughter rate   \n",
       "Year                                              \n",
       "1994                                         9.0  \n",
       "1995                                         8.2  \n",
       "1996                                         7.4  \n",
       "1997                                         6.8  \n",
       "1998                                         6.3  "
      ]
     },
     "execution_count": 8,
     "metadata": {},
     "output_type": "execute_result"
    }
   ],
   "source": [
    "df.head()"
   ]
  },
  {
   "cell_type": "code",
   "execution_count": 9,
   "metadata": {
    "slideshow": {
     "slide_type": "slide"
    }
   },
   "outputs": [
    {
     "data": {
      "text/plain": [
       "Population1                                   3.355489e+14\n",
       "Violent crime                                 3.457880e+10\n",
       "Violent crime rate                            9.376104e+03\n",
       "Murder and nonnegligent manslaughter          5.374923e+06\n",
       "Murder and nonnegligent manslaughter rate     1.365132e+00\n",
       "dtype: float64"
      ]
     },
     "execution_count": 9,
     "metadata": {},
     "output_type": "execute_result"
    }
   ],
   "source": [
    "df.var()"
   ]
  },
  {
   "cell_type": "code",
   "execution_count": 10,
   "metadata": {
    "slideshow": {
     "slide_type": "fragment"
    }
   },
   "outputs": [
    {
     "data": {
      "image/png": "[encoded data removed]",
      "text/plain": [
       "<Figure size 1440x144 with 1 Axes>"
      ]
     },
     "metadata": {
      "needs_background": "light"
     },
     "output_type": "display_data"
    }
   ],
   "source": [
    "df.plot.scatter('Population1','Violent crime rate ',figsize=(20,2));"
   ]
  },
  {
   "cell_type": "code",
   "execution_count": 11,
   "metadata": {
    "slideshow": {
     "slide_type": "fragment"
    }
   },
   "outputs": [
    {
     "name": "stdout",
     "output_type": "stream",
     "text": [
      "PC 1 explains 100% of the variance\n",
      "PC 2 explains 0.00178% of the variance\n",
      "PC 3 explains 6.28e-08% of the variance\n",
      "PC 4 explains 5.7e-12% of the variance\n",
      "PC 5 explains 1.97e-16% of the variance\n"
     ]
    }
   ],
   "source": [
    "pca.fit(df.values)\n",
    "variance_explained(df,pca)"
   ]
  },
  {
   "cell_type": "code",
   "execution_count": 12,
   "metadata": {},
   "outputs": [
    {
     "data": {
      "text/plain": [
       "Population1                                   260327021.0\n",
       "Violent crime                                   1163146.0\n",
       "Violent crime rate                                  367.9\n",
       "Murder and nonnegligent manslaughter              14196.0\n",
       "Murder and nonnegligent manslaughter rate             4.5\n",
       "dtype: float64"
      ]
     },
     "execution_count": 12,
     "metadata": {},
     "output_type": "execute_result"
    }
   ],
   "source": [
    "df.min()"
   ]
  },
  {
   "cell_type": "markdown",
   "metadata": {
    "slideshow": {
     "slide_type": "slide"
    }
   },
   "source": [
    "## Potential solution: normalize each column to have values between 0 and 1"
   ]
  },
  {
   "cell_type": "code",
   "execution_count": 13,
   "metadata": {
    "slideshow": {
     "slide_type": "fragment"
    }
   },
   "outputs": [
    {
     "data": {
      "text/html": [
       "<div>\n",
       "<style scoped>\n",
       "    .dataframe tbody tr th:only-of-type {\n",
       "        vertical-align: middle;\n",
       "    }\n",
       "\n",
       "    .dataframe tbody tr th {\n",
       "        vertical-align: top;\n",
       "    }\n",
       "\n",
       "    .dataframe thead th {\n",
       "        text-align: right;\n",
       "    }\n",
       "</style>\n",
       "<table border=\"1\" class=\"dataframe\">\n",
       "  <thead>\n",
       "    <tr style=\"text-align: right;\">\n",
       "      <th></th>\n",
       "      <th>Population1</th>\n",
       "      <th>Violent crime</th>\n",
       "      <th>Violent crime rate</th>\n",
       "      <th>Murder and nonnegligent manslaughter</th>\n",
       "      <th>Murder and nonnegligent manslaughter rate</th>\n",
       "    </tr>\n",
       "    <tr>\n",
       "      <th>Year</th>\n",
       "      <th></th>\n",
       "      <th></th>\n",
       "      <th></th>\n",
       "      <th></th>\n",
       "      <th></th>\n",
       "    </tr>\n",
       "  </thead>\n",
       "  <tbody>\n",
       "    <tr>\n",
       "      <th>1994</th>\n",
       "      <td>0.000000</td>\n",
       "      <td>1.000000</td>\n",
       "      <td>1.000000</td>\n",
       "      <td>1.000000</td>\n",
       "      <td>1.000000</td>\n",
       "    </tr>\n",
       "    <tr>\n",
       "      <th>1995</th>\n",
       "      <td>0.044376</td>\n",
       "      <td>0.915225</td>\n",
       "      <td>0.915823</td>\n",
       "      <td>0.811610</td>\n",
       "      <td>0.822222</td>\n",
       "    </tr>\n",
       "    <tr>\n",
       "      <th>1996</th>\n",
       "      <td>0.087839</td>\n",
       "      <td>0.756481</td>\n",
       "      <td>0.777264</td>\n",
       "      <td>0.596824</td>\n",
       "      <td>0.644444</td>\n",
       "    </tr>\n",
       "    <tr>\n",
       "      <th>1997</th>\n",
       "      <td>0.133626</td>\n",
       "      <td>0.680970</td>\n",
       "      <td>0.703211</td>\n",
       "      <td>0.439430</td>\n",
       "      <td>0.511111</td>\n",
       "    </tr>\n",
       "    <tr>\n",
       "      <th>1998</th>\n",
       "      <td>0.177790</td>\n",
       "      <td>0.533806</td>\n",
       "      <td>0.577668</td>\n",
       "      <td>0.304272</td>\n",
       "      <td>0.400000</td>\n",
       "    </tr>\n",
       "  </tbody>\n",
       "</table>\n",
       "</div>"
      ],
      "text/plain": [
       "      Population1  Violent crime  Violent crime rate   \\\n",
       "Year                                                    \n",
       "1994     0.000000       1.000000             1.000000   \n",
       "1995     0.044376       0.915225             0.915823   \n",
       "1996     0.087839       0.756481             0.777264   \n",
       "1997     0.133626       0.680970             0.703211   \n",
       "1998     0.177790       0.533806             0.577668   \n",
       "\n",
       "      Murder and nonnegligent manslaughter  \\\n",
       "Year                                         \n",
       "1994                              1.000000   \n",
       "1995                              0.811610   \n",
       "1996                              0.596824   \n",
       "1997                              0.439430   \n",
       "1998                              0.304272   \n",
       "\n",
       "      Murder and nonnegligent manslaughter rate   \n",
       "Year                                              \n",
       "1994                                    1.000000  \n",
       "1995                                    0.822222  \n",
       "1996                                    0.644444  \n",
       "1997                                    0.511111  \n",
       "1998                                    0.400000  "
      ]
     },
     "execution_count": 13,
     "metadata": {},
     "output_type": "execute_result"
    }
   ],
   "source": [
    "df_norm = (df - df.min())/(df.max() - df.min())\n",
    "\n",
    "# OR\n",
    "\n",
    "df_norm = df.copy()\n",
    "df_norm[:] = MinMaxScaler().fit_transform(df.astype(float))\n",
    "\n",
    "df_norm.head()"
   ]
  },
  {
   "cell_type": "code",
   "execution_count": 14,
   "metadata": {
    "slideshow": {
     "slide_type": "fragment"
    }
   },
   "outputs": [
    {
     "data": {
      "image/png": "[encoded data removed]",
      "text/plain": [
       "<Figure size 432x288 with 1 Axes>"
      ]
     },
     "metadata": {
      "needs_background": "light"
     },
     "output_type": "display_data"
    }
   ],
   "source": [
    "df_norm.plot.scatter(x='Population1',y='Violent crime rate ');"
   ]
  },
  {
   "cell_type": "code",
   "execution_count": 15,
   "metadata": {
    "slideshow": {
     "slide_type": "slide"
    }
   },
   "outputs": [
    {
     "name": "stdout",
     "output_type": "stream",
     "text": [
      "PC 1 explains 93.8% of the variance\n",
      "PC 2 explains 5.82% of the variance\n",
      "PC 3 explains 0.289% of the variance\n",
      "PC 4 explains 0.0443% of the variance\n",
      "PC 5 explains 0.00281% of the variance\n"
     ]
    }
   ],
   "source": [
    "pca.fit(df_norm.values)\n",
    "variance_explained(df_norm,pca)"
   ]
  },
  {
   "cell_type": "code",
   "execution_count": 16,
   "metadata": {
    "slideshow": {
     "slide_type": "fragment"
    }
   },
   "outputs": [
    {
     "data": {
      "text/html": [
       "<div>\n",
       "<style scoped>\n",
       "    .dataframe tbody tr th:only-of-type {\n",
       "        vertical-align: middle;\n",
       "    }\n",
       "\n",
       "    .dataframe tbody tr th {\n",
       "        vertical-align: top;\n",
       "    }\n",
       "\n",
       "    .dataframe thead th {\n",
       "        text-align: right;\n",
       "    }\n",
       "</style>\n",
       "<table border=\"1\" class=\"dataframe\">\n",
       "  <thead>\n",
       "    <tr style=\"text-align: right;\">\n",
       "      <th></th>\n",
       "      <th>PC 1</th>\n",
       "      <th>PC 2</th>\n",
       "      <th>PC 3</th>\n",
       "      <th>PC 4</th>\n",
       "      <th>PC 5</th>\n",
       "    </tr>\n",
       "  </thead>\n",
       "  <tbody>\n",
       "    <tr>\n",
       "      <th>Population1</th>\n",
       "      <td>-0.51</td>\n",
       "      <td>-0.738</td>\n",
       "      <td>0.296</td>\n",
       "      <td>-0.328</td>\n",
       "      <td>-0.00958</td>\n",
       "    </tr>\n",
       "    <tr>\n",
       "      <th>Violent crime</th>\n",
       "      <td>0.44</td>\n",
       "      <td>-0.116</td>\n",
       "      <td>0.748</td>\n",
       "      <td>0.238</td>\n",
       "      <td>0.421</td>\n",
       "    </tr>\n",
       "    <tr>\n",
       "      <th>Violent crime rate</th>\n",
       "      <td>0.462</td>\n",
       "      <td>0.0712</td>\n",
       "      <td>0.257</td>\n",
       "      <td>-0.63</td>\n",
       "      <td>-0.564</td>\n",
       "    </tr>\n",
       "    <tr>\n",
       "      <th>Murder and nonnegligent manslaughter</th>\n",
       "      <td>0.393</td>\n",
       "      <td>-0.589</td>\n",
       "      <td>-0.242</td>\n",
       "      <td>0.506</td>\n",
       "      <td>-0.428</td>\n",
       "    </tr>\n",
       "    <tr>\n",
       "      <th>Murder and nonnegligent manslaughter rate</th>\n",
       "      <td>0.422</td>\n",
       "      <td>-0.301</td>\n",
       "      <td>-0.478</td>\n",
       "      <td>-0.427</td>\n",
       "      <td>0.567</td>\n",
       "    </tr>\n",
       "  </tbody>\n",
       "</table>\n",
       "</div>"
      ],
      "text/plain": [
       "                                             PC 1    PC 2    PC 3    PC 4  \\\n",
       "Population1                                 -0.51  -0.738   0.296  -0.328   \n",
       "Violent crime                                0.44  -0.116   0.748   0.238   \n",
       "Violent crime rate                          0.462  0.0712   0.257   -0.63   \n",
       "Murder and nonnegligent manslaughter        0.393  -0.589  -0.242   0.506   \n",
       "Murder and nonnegligent manslaughter rate   0.422  -0.301  -0.478  -0.427   \n",
       "\n",
       "                                                PC 5  \n",
       "Population1                                 -0.00958  \n",
       "Violent crime                                  0.421  \n",
       "Violent crime rate                            -0.564  \n",
       "Murder and nonnegligent manslaughter          -0.428  \n",
       "Murder and nonnegligent manslaughter rate      0.567  "
      ]
     },
     "execution_count": 16,
     "metadata": {},
     "output_type": "execute_result"
    }
   ],
   "source": [
    "pc_report(pca,df_norm)"
   ]
  },
  {
   "cell_type": "code",
   "execution_count": 17,
   "metadata": {
    "slideshow": {
     "slide_type": "slide"
    }
   },
   "outputs": [
    {
     "data": {
      "image/png": "[encoded data removed]",
      "text/plain": [
       "<Figure size 432x288 with 1 Axes>"
      ]
     },
     "metadata": {
      "needs_background": "light"
     },
     "output_type": "display_data"
    }
   ],
   "source": [
    "plot_transformed_data(pca, df_norm)"
   ]
  },
  {
   "cell_type": "markdown",
   "metadata": {
    "slideshow": {
     "slide_type": "slide"
    }
   },
   "source": [
    "## Pitfall #3: Treating independent variables as measurements of interest"
   ]
  },
  {
   "cell_type": "code",
   "execution_count": 18,
   "metadata": {
    "slideshow": {
     "slide_type": "fragment"
    }
   },
   "outputs": [
    {
     "data": {
      "text/html": [
       "<div>\n",
       "<style scoped>\n",
       "    .dataframe tbody tr th:only-of-type {\n",
       "        vertical-align: middle;\n",
       "    }\n",
       "\n",
       "    .dataframe tbody tr th {\n",
       "        vertical-align: top;\n",
       "    }\n",
       "\n",
       "    .dataframe thead th {\n",
       "        text-align: right;\n",
       "    }\n",
       "</style>\n",
       "<table border=\"1\" class=\"dataframe\">\n",
       "  <thead>\n",
       "    <tr style=\"text-align: right;\">\n",
       "      <th></th>\n",
       "      <th>Year</th>\n",
       "      <th>Population1</th>\n",
       "      <th>Violent crime</th>\n",
       "      <th>Violent crime rate</th>\n",
       "      <th>Murder and nonnegligent manslaughter</th>\n",
       "      <th>Murder and nonnegligent manslaughter rate</th>\n",
       "    </tr>\n",
       "  </thead>\n",
       "  <tbody>\n",
       "    <tr>\n",
       "      <th>0</th>\n",
       "      <td>1994</td>\n",
       "      <td>260327021</td>\n",
       "      <td>1857670</td>\n",
       "      <td>713.6</td>\n",
       "      <td>23326</td>\n",
       "      <td>9.0</td>\n",
       "    </tr>\n",
       "    <tr>\n",
       "      <th>1</th>\n",
       "      <td>1995</td>\n",
       "      <td>262803276</td>\n",
       "      <td>1798792</td>\n",
       "      <td>684.5</td>\n",
       "      <td>21606</td>\n",
       "      <td>8.2</td>\n",
       "    </tr>\n",
       "    <tr>\n",
       "      <th>2</th>\n",
       "      <td>1996</td>\n",
       "      <td>265228572</td>\n",
       "      <td>1688540</td>\n",
       "      <td>636.6</td>\n",
       "      <td>19645</td>\n",
       "      <td>7.4</td>\n",
       "    </tr>\n",
       "    <tr>\n",
       "      <th>3</th>\n",
       "      <td>1997</td>\n",
       "      <td>267783607</td>\n",
       "      <td>1636096</td>\n",
       "      <td>611.0</td>\n",
       "      <td>18208</td>\n",
       "      <td>6.8</td>\n",
       "    </tr>\n",
       "    <tr>\n",
       "      <th>4</th>\n",
       "      <td>1998</td>\n",
       "      <td>270248003</td>\n",
       "      <td>1533887</td>\n",
       "      <td>567.6</td>\n",
       "      <td>16974</td>\n",
       "      <td>6.3</td>\n",
       "    </tr>\n",
       "  </tbody>\n",
       "</table>\n",
       "</div>"
      ],
      "text/plain": [
       "   Year  Population1  Violent crime  Violent crime rate   \\\n",
       "0  1994    260327021        1857670                713.6   \n",
       "1  1995    262803276        1798792                684.5   \n",
       "2  1996    265228572        1688540                636.6   \n",
       "3  1997    267783607        1636096                611.0   \n",
       "4  1998    270248003        1533887                567.6   \n",
       "\n",
       "   Murder and nonnegligent manslaughter  \\\n",
       "0                                 23326   \n",
       "1                                 21606   \n",
       "2                                 19645   \n",
       "3                                 18208   \n",
       "4                                 16974   \n",
       "\n",
       "   Murder and nonnegligent manslaughter rate   \n",
       "0                                         9.0  \n",
       "1                                         8.2  \n",
       "2                                         7.4  \n",
       "3                                         6.8  \n",
       "4                                         6.3  "
      ]
     },
     "execution_count": 18,
     "metadata": {},
     "output_type": "execute_result"
    }
   ],
   "source": [
    "df = df.reset_index()\n",
    "df.head()"
   ]
  },
  {
   "cell_type": "markdown",
   "metadata": {
    "slideshow": {
     "slide_type": "slide"
    }
   },
   "source": [
    "## Potential solution: Move independent variables to the index"
   ]
  },
  {
   "cell_type": "code",
   "execution_count": 19,
   "metadata": {
    "slideshow": {
     "slide_type": "fragment"
    }
   },
   "outputs": [
    {
     "data": {
      "text/html": [
       "<div>\n",
       "<style scoped>\n",
       "    .dataframe tbody tr th:only-of-type {\n",
       "        vertical-align: middle;\n",
       "    }\n",
       "\n",
       "    .dataframe tbody tr th {\n",
       "        vertical-align: top;\n",
       "    }\n",
       "\n",
       "    .dataframe thead th {\n",
       "        text-align: right;\n",
       "    }\n",
       "</style>\n",
       "<table border=\"1\" class=\"dataframe\">\n",
       "  <thead>\n",
       "    <tr style=\"text-align: right;\">\n",
       "      <th></th>\n",
       "      <th>Population1</th>\n",
       "      <th>Violent crime</th>\n",
       "      <th>Violent crime rate</th>\n",
       "      <th>Murder and nonnegligent manslaughter</th>\n",
       "      <th>Murder and nonnegligent manslaughter rate</th>\n",
       "    </tr>\n",
       "    <tr>\n",
       "      <th>Year</th>\n",
       "      <th></th>\n",
       "      <th></th>\n",
       "      <th></th>\n",
       "      <th></th>\n",
       "      <th></th>\n",
       "    </tr>\n",
       "  </thead>\n",
       "  <tbody>\n",
       "    <tr>\n",
       "      <th>1994</th>\n",
       "      <td>260327021</td>\n",
       "      <td>1857670</td>\n",
       "      <td>713.6</td>\n",
       "      <td>23326</td>\n",
       "      <td>9.0</td>\n",
       "    </tr>\n",
       "    <tr>\n",
       "      <th>1995</th>\n",
       "      <td>262803276</td>\n",
       "      <td>1798792</td>\n",
       "      <td>684.5</td>\n",
       "      <td>21606</td>\n",
       "      <td>8.2</td>\n",
       "    </tr>\n",
       "    <tr>\n",
       "      <th>1996</th>\n",
       "      <td>265228572</td>\n",
       "      <td>1688540</td>\n",
       "      <td>636.6</td>\n",
       "      <td>19645</td>\n",
       "      <td>7.4</td>\n",
       "    </tr>\n",
       "    <tr>\n",
       "      <th>1997</th>\n",
       "      <td>267783607</td>\n",
       "      <td>1636096</td>\n",
       "      <td>611.0</td>\n",
       "      <td>18208</td>\n",
       "      <td>6.8</td>\n",
       "    </tr>\n",
       "    <tr>\n",
       "      <th>1998</th>\n",
       "      <td>270248003</td>\n",
       "      <td>1533887</td>\n",
       "      <td>567.6</td>\n",
       "      <td>16974</td>\n",
       "      <td>6.3</td>\n",
       "    </tr>\n",
       "  </tbody>\n",
       "</table>\n",
       "</div>"
      ],
      "text/plain": [
       "      Population1  Violent crime  Violent crime rate   \\\n",
       "Year                                                    \n",
       "1994    260327021        1857670                713.6   \n",
       "1995    262803276        1798792                684.5   \n",
       "1996    265228572        1688540                636.6   \n",
       "1997    267783607        1636096                611.0   \n",
       "1998    270248003        1533887                567.6   \n",
       "\n",
       "      Murder and nonnegligent manslaughter  \\\n",
       "Year                                         \n",
       "1994                                 23326   \n",
       "1995                                 21606   \n",
       "1996                                 19645   \n",
       "1997                                 18208   \n",
       "1998                                 16974   \n",
       "\n",
       "      Murder and nonnegligent manslaughter rate   \n",
       "Year                                              \n",
       "1994                                         9.0  \n",
       "1995                                         8.2  \n",
       "1996                                         7.4  \n",
       "1997                                         6.8  \n",
       "1998                                         6.3  "
      ]
     },
     "execution_count": 19,
     "metadata": {},
     "output_type": "execute_result"
    }
   ],
   "source": [
    "df = df.set_index('Year')\n",
    "df.head()"
   ]
  },
  {
   "cell_type": "markdown",
   "metadata": {
    "slideshow": {
     "slide_type": "slide"
    }
   },
   "source": [
    "## Pitfall #4: Observations are highly correlated"
   ]
  },
  {
   "cell_type": "code",
   "execution_count": 20,
   "metadata": {
    "slideshow": {
     "slide_type": "fragment"
    }
   },
   "outputs": [
    {
     "data": {
      "text/html": [
       "<div>\n",
       "<style scoped>\n",
       "    .dataframe tbody tr th:only-of-type {\n",
       "        vertical-align: middle;\n",
       "    }\n",
       "\n",
       "    .dataframe tbody tr th {\n",
       "        vertical-align: top;\n",
       "    }\n",
       "\n",
       "    .dataframe thead th {\n",
       "        text-align: right;\n",
       "    }\n",
       "</style>\n",
       "<table border=\"1\" class=\"dataframe\">\n",
       "  <thead>\n",
       "    <tr style=\"text-align: right;\">\n",
       "      <th></th>\n",
       "      <th>Population1</th>\n",
       "      <th>Violent crime</th>\n",
       "      <th>Violent crime rate</th>\n",
       "      <th>Murder and nonnegligent manslaughter</th>\n",
       "      <th>Murder and nonnegligent manslaughter rate</th>\n",
       "    </tr>\n",
       "  </thead>\n",
       "  <tbody>\n",
       "    <tr>\n",
       "      <th>Population1</th>\n",
       "      <td>1.00</td>\n",
       "      <td>-0.91</td>\n",
       "      <td>-0.95</td>\n",
       "      <td>-0.76</td>\n",
       "      <td>-0.87</td>\n",
       "    </tr>\n",
       "    <tr>\n",
       "      <th>Violent crime</th>\n",
       "      <td>-0.91</td>\n",
       "      <td>1.00</td>\n",
       "      <td>0.99</td>\n",
       "      <td>0.95</td>\n",
       "      <td>0.98</td>\n",
       "    </tr>\n",
       "    <tr>\n",
       "      <th>Violent crime rate</th>\n",
       "      <td>-0.95</td>\n",
       "      <td>0.99</td>\n",
       "      <td>1.00</td>\n",
       "      <td>0.92</td>\n",
       "      <td>0.97</td>\n",
       "    </tr>\n",
       "    <tr>\n",
       "      <th>Murder and nonnegligent manslaughter</th>\n",
       "      <td>-0.76</td>\n",
       "      <td>0.95</td>\n",
       "      <td>0.92</td>\n",
       "      <td>1.00</td>\n",
       "      <td>0.98</td>\n",
       "    </tr>\n",
       "    <tr>\n",
       "      <th>Murder and nonnegligent manslaughter rate</th>\n",
       "      <td>-0.87</td>\n",
       "      <td>0.98</td>\n",
       "      <td>0.97</td>\n",
       "      <td>0.98</td>\n",
       "      <td>1.00</td>\n",
       "    </tr>\n",
       "  </tbody>\n",
       "</table>\n",
       "</div>"
      ],
      "text/plain": [
       "                                            Population1  Violent crime  \\\n",
       "Population1                                        1.00          -0.91   \n",
       "Violent crime                                     -0.91           1.00   \n",
       "Violent crime rate                                -0.95           0.99   \n",
       "Murder and nonnegligent manslaughter              -0.76           0.95   \n",
       "Murder and nonnegligent manslaughter rate         -0.87           0.98   \n",
       "\n",
       "                                            Violent crime rate   \\\n",
       "Population1                                               -0.95   \n",
       "Violent crime                                              0.99   \n",
       "Violent crime rate                                         1.00   \n",
       "Murder and nonnegligent manslaughter                       0.92   \n",
       "Murder and nonnegligent manslaughter rate                  0.97   \n",
       "\n",
       "                                            Murder and nonnegligent manslaughter  \\\n",
       "Population1                                                                -0.76   \n",
       "Violent crime                                                               0.95   \n",
       "Violent crime rate                                                          0.92   \n",
       "Murder and nonnegligent manslaughter                                        1.00   \n",
       "Murder and nonnegligent manslaughter rate                                   0.98   \n",
       "\n",
       "                                            Murder and nonnegligent manslaughter rate   \n",
       "Population1                                                                      -0.87  \n",
       "Violent crime                                                                     0.98  \n",
       "Violent crime rate                                                                0.97  \n",
       "Murder and nonnegligent manslaughter                                              0.98  \n",
       "Murder and nonnegligent manslaughter rate                                         1.00  "
      ]
     },
     "execution_count": 20,
     "metadata": {},
     "output_type": "execute_result"
    }
   ],
   "source": [
    "df.corr().round(2)"
   ]
  },
  {
   "cell_type": "markdown",
   "metadata": {
    "slideshow": {
     "slide_type": "slide"
    }
   },
   "source": [
    "## Potential solution: Use changes in values instead of the original values"
   ]
  },
  {
   "cell_type": "code",
   "execution_count": 21,
   "metadata": {
    "slideshow": {
     "slide_type": "fragment"
    }
   },
   "outputs": [
    {
     "data": {
      "text/html": [
       "<div>\n",
       "<style scoped>\n",
       "    .dataframe tbody tr th:only-of-type {\n",
       "        vertical-align: middle;\n",
       "    }\n",
       "\n",
       "    .dataframe tbody tr th {\n",
       "        vertical-align: top;\n",
       "    }\n",
       "\n",
       "    .dataframe thead th {\n",
       "        text-align: right;\n",
       "    }\n",
       "</style>\n",
       "<table border=\"1\" class=\"dataframe\">\n",
       "  <thead>\n",
       "    <tr style=\"text-align: right;\">\n",
       "      <th></th>\n",
       "      <th>Population1</th>\n",
       "      <th>Violent crime</th>\n",
       "      <th>Violent crime rate</th>\n",
       "      <th>Murder and nonnegligent manslaughter</th>\n",
       "      <th>Murder and nonnegligent manslaughter rate</th>\n",
       "    </tr>\n",
       "    <tr>\n",
       "      <th>Year</th>\n",
       "      <th></th>\n",
       "      <th></th>\n",
       "      <th></th>\n",
       "      <th></th>\n",
       "      <th></th>\n",
       "    </tr>\n",
       "  </thead>\n",
       "  <tbody>\n",
       "    <tr>\n",
       "      <th>1995</th>\n",
       "      <td>2476255.0</td>\n",
       "      <td>-58878.0</td>\n",
       "      <td>-29.1</td>\n",
       "      <td>-1720.0</td>\n",
       "      <td>-0.8</td>\n",
       "    </tr>\n",
       "    <tr>\n",
       "      <th>1996</th>\n",
       "      <td>2425296.0</td>\n",
       "      <td>-110252.0</td>\n",
       "      <td>-47.9</td>\n",
       "      <td>-1961.0</td>\n",
       "      <td>-0.8</td>\n",
       "    </tr>\n",
       "    <tr>\n",
       "      <th>1997</th>\n",
       "      <td>2555035.0</td>\n",
       "      <td>-52444.0</td>\n",
       "      <td>-25.6</td>\n",
       "      <td>-1437.0</td>\n",
       "      <td>-0.6</td>\n",
       "    </tr>\n",
       "    <tr>\n",
       "      <th>1998</th>\n",
       "      <td>2464396.0</td>\n",
       "      <td>-102209.0</td>\n",
       "      <td>-43.4</td>\n",
       "      <td>-1234.0</td>\n",
       "      <td>-0.5</td>\n",
       "    </tr>\n",
       "    <tr>\n",
       "      <th>1999</th>\n",
       "      <td>2442810.0</td>\n",
       "      <td>-107843.0</td>\n",
       "      <td>-44.6</td>\n",
       "      <td>-1452.0</td>\n",
       "      <td>-0.6</td>\n",
       "    </tr>\n",
       "  </tbody>\n",
       "</table>\n",
       "</div>"
      ],
      "text/plain": [
       "      Population1  Violent crime  Violent crime rate   \\\n",
       "Year                                                    \n",
       "1995    2476255.0       -58878.0                -29.1   \n",
       "1996    2425296.0      -110252.0                -47.9   \n",
       "1997    2555035.0       -52444.0                -25.6   \n",
       "1998    2464396.0      -102209.0                -43.4   \n",
       "1999    2442810.0      -107843.0                -44.6   \n",
       "\n",
       "      Murder and nonnegligent manslaughter  \\\n",
       "Year                                         \n",
       "1995                               -1720.0   \n",
       "1996                               -1961.0   \n",
       "1997                               -1437.0   \n",
       "1998                               -1234.0   \n",
       "1999                               -1452.0   \n",
       "\n",
       "      Murder and nonnegligent manslaughter rate   \n",
       "Year                                              \n",
       "1995                                        -0.8  \n",
       "1996                                        -0.8  \n",
       "1997                                        -0.6  \n",
       "1998                                        -0.5  \n",
       "1999                                        -0.6  "
      ]
     },
     "execution_count": 21,
     "metadata": {},
     "output_type": "execute_result"
    }
   ],
   "source": [
    "df_diff = df.diff().dropna()\n",
    "df_diff.head()"
   ]
  },
  {
   "cell_type": "code",
   "execution_count": 22,
   "metadata": {
    "slideshow": {
     "slide_type": "slide"
    }
   },
   "outputs": [
    {
     "data": {
      "text/html": [
       "<div>\n",
       "<style scoped>\n",
       "    .dataframe tbody tr th:only-of-type {\n",
       "        vertical-align: middle;\n",
       "    }\n",
       "\n",
       "    .dataframe tbody tr th {\n",
       "        vertical-align: top;\n",
       "    }\n",
       "\n",
       "    .dataframe thead th {\n",
       "        text-align: right;\n",
       "    }\n",
       "</style>\n",
       "<table border=\"1\" class=\"dataframe\">\n",
       "  <thead>\n",
       "    <tr style=\"text-align: right;\">\n",
       "      <th></th>\n",
       "      <th>Population1</th>\n",
       "      <th>Violent crime</th>\n",
       "      <th>Violent crime rate</th>\n",
       "      <th>Murder and nonnegligent manslaughter</th>\n",
       "      <th>Murder and nonnegligent manslaughter rate</th>\n",
       "    </tr>\n",
       "  </thead>\n",
       "  <tbody>\n",
       "    <tr>\n",
       "      <th>Population1</th>\n",
       "      <td>1.00</td>\n",
       "      <td>0.29</td>\n",
       "      <td>0.12</td>\n",
       "      <td>0.26</td>\n",
       "      <td>0.13</td>\n",
       "    </tr>\n",
       "    <tr>\n",
       "      <th>Violent crime</th>\n",
       "      <td>0.29</td>\n",
       "      <td>1.00</td>\n",
       "      <td>0.98</td>\n",
       "      <td>0.86</td>\n",
       "      <td>0.80</td>\n",
       "    </tr>\n",
       "    <tr>\n",
       "      <th>Violent crime rate</th>\n",
       "      <td>0.12</td>\n",
       "      <td>0.98</td>\n",
       "      <td>1.00</td>\n",
       "      <td>0.88</td>\n",
       "      <td>0.85</td>\n",
       "    </tr>\n",
       "    <tr>\n",
       "      <th>Murder and nonnegligent manslaughter</th>\n",
       "      <td>0.26</td>\n",
       "      <td>0.86</td>\n",
       "      <td>0.88</td>\n",
       "      <td>1.00</td>\n",
       "      <td>0.98</td>\n",
       "    </tr>\n",
       "    <tr>\n",
       "      <th>Murder and nonnegligent manslaughter rate</th>\n",
       "      <td>0.13</td>\n",
       "      <td>0.80</td>\n",
       "      <td>0.85</td>\n",
       "      <td>0.98</td>\n",
       "      <td>1.00</td>\n",
       "    </tr>\n",
       "  </tbody>\n",
       "</table>\n",
       "</div>"
      ],
      "text/plain": [
       "                                            Population1  Violent crime  \\\n",
       "Population1                                        1.00           0.29   \n",
       "Violent crime                                      0.29           1.00   \n",
       "Violent crime rate                                 0.12           0.98   \n",
       "Murder and nonnegligent manslaughter               0.26           0.86   \n",
       "Murder and nonnegligent manslaughter rate          0.13           0.80   \n",
       "\n",
       "                                            Violent crime rate   \\\n",
       "Population1                                                0.12   \n",
       "Violent crime                                              0.98   \n",
       "Violent crime rate                                         1.00   \n",
       "Murder and nonnegligent manslaughter                       0.88   \n",
       "Murder and nonnegligent manslaughter rate                  0.85   \n",
       "\n",
       "                                            Murder and nonnegligent manslaughter  \\\n",
       "Population1                                                                 0.26   \n",
       "Violent crime                                                               0.86   \n",
       "Violent crime rate                                                          0.88   \n",
       "Murder and nonnegligent manslaughter                                        1.00   \n",
       "Murder and nonnegligent manslaughter rate                                   0.98   \n",
       "\n",
       "                                            Murder and nonnegligent manslaughter rate   \n",
       "Population1                                                                       0.13  \n",
       "Violent crime                                                                     0.80  \n",
       "Violent crime rate                                                                0.85  \n",
       "Murder and nonnegligent manslaughter                                              0.98  \n",
       "Murder and nonnegligent manslaughter rate                                         1.00  "
      ]
     },
     "execution_count": 22,
     "metadata": {},
     "output_type": "execute_result"
    }
   ],
   "source": [
    "df_diff.corr().round(2)"
   ]
  },
  {
   "cell_type": "code",
   "execution_count": 23,
   "metadata": {
    "slideshow": {
     "slide_type": "fragment"
    }
   },
   "outputs": [
    {
     "name": "stdout",
     "output_type": "stream",
     "text": [
      "PC 1 explains 81.3% of the variance\n",
      "PC 2 explains 12.2% of the variance\n",
      "PC 3 explains 6.13% of the variance\n",
      "PC 4 explains 0.264% of the variance\n",
      "PC 5 explains 0.0707% of the variance\n"
     ]
    }
   ],
   "source": [
    "df_diff_norm = (df_diff - df_diff.min())/(df_diff.max() - df_diff.min())\n",
    "\n",
    "variance_explained(df_diff_norm,pca)"
   ]
  },
  {
   "cell_type": "markdown",
   "metadata": {
    "slideshow": {
     "slide_type": "slide"
    }
   },
   "source": [
    "## Pitfall #5: Including other non-measurements in the \"data\""
   ]
  },
  {
   "cell_type": "code",
   "execution_count": 24,
   "metadata": {
    "slideshow": {
     "slide_type": "fragment"
    }
   },
   "outputs": [
    {
     "data": {
      "text/html": [
       "<div>\n",
       "<style scoped>\n",
       "    .dataframe tbody tr th:only-of-type {\n",
       "        vertical-align: middle;\n",
       "    }\n",
       "\n",
       "    .dataframe tbody tr th {\n",
       "        vertical-align: top;\n",
       "    }\n",
       "\n",
       "    .dataframe thead th {\n",
       "        text-align: right;\n",
       "    }\n",
       "</style>\n",
       "<table border=\"1\" class=\"dataframe\">\n",
       "  <thead>\n",
       "    <tr style=\"text-align: right;\">\n",
       "      <th></th>\n",
       "      <th>RK</th>\n",
       "      <th>PTS</th>\n",
       "      <th>FGM</th>\n",
       "      <th>FGA</th>\n",
       "      <th>FG%</th>\n",
       "      <th>3PM</th>\n",
       "      <th>3PA</th>\n",
       "      <th>3P%</th>\n",
       "      <th>FTM</th>\n",
       "      <th>FTA</th>\n",
       "      <th>FT%</th>\n",
       "      <th>PPS</th>\n",
       "      <th>AFG%</th>\n",
       "    </tr>\n",
       "  </thead>\n",
       "  <tbody>\n",
       "    <tr>\n",
       "      <th>0</th>\n",
       "      <td>1</td>\n",
       "      <td>114.4</td>\n",
       "      <td>39.4</td>\n",
       "      <td>85.6</td>\n",
       "      <td>0.460</td>\n",
       "      <td>15.7</td>\n",
       "      <td>43.2</td>\n",
       "      <td>0.364</td>\n",
       "      <td>19.9</td>\n",
       "      <td>25.2</td>\n",
       "      <td>0.792</td>\n",
       "      <td>1.34</td>\n",
       "      <td>0.552</td>\n",
       "    </tr>\n",
       "    <tr>\n",
       "      <th>1</th>\n",
       "      <td>2</td>\n",
       "      <td>105.7</td>\n",
       "      <td>37.8</td>\n",
       "      <td>86.7</td>\n",
       "      <td>0.436</td>\n",
       "      <td>11.9</td>\n",
       "      <td>34.0</td>\n",
       "      <td>0.348</td>\n",
       "      <td>18.2</td>\n",
       "      <td>23.9</td>\n",
       "      <td>0.761</td>\n",
       "      <td>1.22</td>\n",
       "      <td>0.504</td>\n",
       "    </tr>\n",
       "    <tr>\n",
       "      <th>2</th>\n",
       "      <td>3</td>\n",
       "      <td>109.7</td>\n",
       "      <td>39.6</td>\n",
       "      <td>83.9</td>\n",
       "      <td>0.472</td>\n",
       "      <td>12.0</td>\n",
       "      <td>32.8</td>\n",
       "      <td>0.365</td>\n",
       "      <td>18.6</td>\n",
       "      <td>23.2</td>\n",
       "      <td>0.801</td>\n",
       "      <td>1.31</td>\n",
       "      <td>0.543</td>\n",
       "    </tr>\n",
       "    <tr>\n",
       "      <th>3</th>\n",
       "      <td>4</td>\n",
       "      <td>102.5</td>\n",
       "      <td>38.1</td>\n",
       "      <td>84.5</td>\n",
       "      <td>0.451</td>\n",
       "      <td>11.6</td>\n",
       "      <td>31.9</td>\n",
       "      <td>0.365</td>\n",
       "      <td>14.7</td>\n",
       "      <td>19.0</td>\n",
       "      <td>0.774</td>\n",
       "      <td>1.21</td>\n",
       "      <td>0.520</td>\n",
       "    </tr>\n",
       "    <tr>\n",
       "      <th>4</th>\n",
       "      <td>5</td>\n",
       "      <td>111.3</td>\n",
       "      <td>40.9</td>\n",
       "      <td>87.4</td>\n",
       "      <td>0.468</td>\n",
       "      <td>11.2</td>\n",
       "      <td>31.8</td>\n",
       "      <td>0.351</td>\n",
       "      <td>18.4</td>\n",
       "      <td>22.9</td>\n",
       "      <td>0.804</td>\n",
       "      <td>1.27</td>\n",
       "      <td>0.532</td>\n",
       "    </tr>\n",
       "  </tbody>\n",
       "</table>\n",
       "</div>"
      ],
      "text/plain": [
       "   RK    PTS   FGM   FGA    FG%   3PM   3PA    3P%   FTM   FTA    FT%   PPS  \\\n",
       "0   1  114.4  39.4  85.6  0.460  15.7  43.2  0.364  19.9  25.2  0.792  1.34   \n",
       "1   2  105.7  37.8  86.7  0.436  11.9  34.0  0.348  18.2  23.9  0.761  1.22   \n",
       "2   3  109.7  39.6  83.9  0.472  12.0  32.8  0.365  18.6  23.2  0.801  1.31   \n",
       "3   4  102.5  38.1  84.5  0.451  11.6  31.9  0.365  14.7  19.0  0.774  1.21   \n",
       "4   5  111.3  40.9  87.4  0.468  11.2  31.8  0.351  18.4  22.9  0.804  1.27   \n",
       "\n",
       "    AFG%  \n",
       "0  0.552  \n",
       "1  0.504  \n",
       "2  0.543  \n",
       "3  0.520  \n",
       "4  0.532  "
      ]
     },
     "execution_count": 24,
     "metadata": {},
     "output_type": "execute_result"
    }
   ],
   "source": [
    "df = pd.read_csv('data/2017shooting.csv')\n",
    "df.head()"
   ]
  },
  {
   "cell_type": "markdown",
   "metadata": {
    "slideshow": {
     "slide_type": "slide"
    }
   },
   "source": [
    "## Potential solution: Get rid of those non-measurements"
   ]
  },
  {
   "cell_type": "code",
   "execution_count": 25,
   "metadata": {
    "slideshow": {
     "slide_type": "fragment"
    }
   },
   "outputs": [
    {
     "data": {
      "text/html": [
       "<div>\n",
       "<style scoped>\n",
       "    .dataframe tbody tr th:only-of-type {\n",
       "        vertical-align: middle;\n",
       "    }\n",
       "\n",
       "    .dataframe tbody tr th {\n",
       "        vertical-align: top;\n",
       "    }\n",
       "\n",
       "    .dataframe thead th {\n",
       "        text-align: right;\n",
       "    }\n",
       "</style>\n",
       "<table border=\"1\" class=\"dataframe\">\n",
       "  <thead>\n",
       "    <tr style=\"text-align: right;\">\n",
       "      <th></th>\n",
       "      <th>PTS</th>\n",
       "      <th>FGM</th>\n",
       "      <th>FGA</th>\n",
       "      <th>FG%</th>\n",
       "      <th>3PM</th>\n",
       "      <th>3PA</th>\n",
       "      <th>3P%</th>\n",
       "      <th>FTM</th>\n",
       "      <th>FTA</th>\n",
       "      <th>FT%</th>\n",
       "      <th>PPS</th>\n",
       "      <th>AFG%</th>\n",
       "    </tr>\n",
       "  </thead>\n",
       "  <tbody>\n",
       "    <tr>\n",
       "      <th>0</th>\n",
       "      <td>114.4</td>\n",
       "      <td>39.4</td>\n",
       "      <td>85.6</td>\n",
       "      <td>0.460</td>\n",
       "      <td>15.7</td>\n",
       "      <td>43.2</td>\n",
       "      <td>0.364</td>\n",
       "      <td>19.9</td>\n",
       "      <td>25.2</td>\n",
       "      <td>0.792</td>\n",
       "      <td>1.34</td>\n",
       "      <td>0.552</td>\n",
       "    </tr>\n",
       "    <tr>\n",
       "      <th>1</th>\n",
       "      <td>105.7</td>\n",
       "      <td>37.8</td>\n",
       "      <td>86.7</td>\n",
       "      <td>0.436</td>\n",
       "      <td>11.9</td>\n",
       "      <td>34.0</td>\n",
       "      <td>0.348</td>\n",
       "      <td>18.2</td>\n",
       "      <td>23.9</td>\n",
       "      <td>0.761</td>\n",
       "      <td>1.22</td>\n",
       "      <td>0.504</td>\n",
       "    </tr>\n",
       "    <tr>\n",
       "      <th>2</th>\n",
       "      <td>109.7</td>\n",
       "      <td>39.6</td>\n",
       "      <td>83.9</td>\n",
       "      <td>0.472</td>\n",
       "      <td>12.0</td>\n",
       "      <td>32.8</td>\n",
       "      <td>0.365</td>\n",
       "      <td>18.6</td>\n",
       "      <td>23.2</td>\n",
       "      <td>0.801</td>\n",
       "      <td>1.31</td>\n",
       "      <td>0.543</td>\n",
       "    </tr>\n",
       "    <tr>\n",
       "      <th>3</th>\n",
       "      <td>102.5</td>\n",
       "      <td>38.1</td>\n",
       "      <td>84.5</td>\n",
       "      <td>0.451</td>\n",
       "      <td>11.6</td>\n",
       "      <td>31.9</td>\n",
       "      <td>0.365</td>\n",
       "      <td>14.7</td>\n",
       "      <td>19.0</td>\n",
       "      <td>0.774</td>\n",
       "      <td>1.21</td>\n",
       "      <td>0.520</td>\n",
       "    </tr>\n",
       "    <tr>\n",
       "      <th>4</th>\n",
       "      <td>111.3</td>\n",
       "      <td>40.9</td>\n",
       "      <td>87.4</td>\n",
       "      <td>0.468</td>\n",
       "      <td>11.2</td>\n",
       "      <td>31.8</td>\n",
       "      <td>0.351</td>\n",
       "      <td>18.4</td>\n",
       "      <td>22.9</td>\n",
       "      <td>0.804</td>\n",
       "      <td>1.27</td>\n",
       "      <td>0.532</td>\n",
       "    </tr>\n",
       "  </tbody>\n",
       "</table>\n",
       "</div>"
      ],
      "text/plain": [
       "     PTS   FGM   FGA    FG%   3PM   3PA    3P%   FTM   FTA    FT%   PPS   AFG%\n",
       "0  114.4  39.4  85.6  0.460  15.7  43.2  0.364  19.9  25.2  0.792  1.34  0.552\n",
       "1  105.7  37.8  86.7  0.436  11.9  34.0  0.348  18.2  23.9  0.761  1.22  0.504\n",
       "2  109.7  39.6  83.9  0.472  12.0  32.8  0.365  18.6  23.2  0.801  1.31  0.543\n",
       "3  102.5  38.1  84.5  0.451  11.6  31.9  0.365  14.7  19.0  0.774  1.21  0.520\n",
       "4  111.3  40.9  87.4  0.468  11.2  31.8  0.351  18.4  22.9  0.804  1.27  0.532"
      ]
     },
     "execution_count": 25,
     "metadata": {},
     "output_type": "execute_result"
    }
   ],
   "source": [
    "df = df.drop('RK', axis=1)\n",
    "df.head()"
   ]
  },
  {
   "cell_type": "markdown",
   "metadata": {
    "slideshow": {
     "slide_type": "slide"
    }
   },
   "source": [
    "## Pitfall #6: Unlabeled data"
   ]
  },
  {
   "cell_type": "code",
   "execution_count": 26,
   "metadata": {},
   "outputs": [
    {
     "data": {
      "text/html": [
       "<div>\n",
       "<style scoped>\n",
       "    .dataframe tbody tr th:only-of-type {\n",
       "        vertical-align: middle;\n",
       "    }\n",
       "\n",
       "    .dataframe tbody tr th {\n",
       "        vertical-align: top;\n",
       "    }\n",
       "\n",
       "    .dataframe thead th {\n",
       "        text-align: right;\n",
       "    }\n",
       "</style>\n",
       "<table border=\"1\" class=\"dataframe\">\n",
       "  <thead>\n",
       "    <tr style=\"text-align: right;\">\n",
       "      <th></th>\n",
       "      <th>Rk</th>\n",
       "      <th>Player</th>\n",
       "      <th>Pos</th>\n",
       "      <th>Age</th>\n",
       "      <th>Tm</th>\n",
       "      <th>G</th>\n",
       "      <th>GS</th>\n",
       "      <th>MP</th>\n",
       "      <th>FG</th>\n",
       "      <th>FGA</th>\n",
       "      <th>...</th>\n",
       "      <th>FT%</th>\n",
       "      <th>ORB</th>\n",
       "      <th>DRB</th>\n",
       "      <th>TRB</th>\n",
       "      <th>AST</th>\n",
       "      <th>STL</th>\n",
       "      <th>BLK</th>\n",
       "      <th>TOV</th>\n",
       "      <th>PF</th>\n",
       "      <th>PS/G</th>\n",
       "    </tr>\n",
       "  </thead>\n",
       "  <tbody>\n",
       "    <tr>\n",
       "      <th>0</th>\n",
       "      <td>1</td>\n",
       "      <td>Alex Abrines</td>\n",
       "      <td>SG</td>\n",
       "      <td>24.0</td>\n",
       "      <td>OKC</td>\n",
       "      <td>56</td>\n",
       "      <td>8</td>\n",
       "      <td>16.0</td>\n",
       "      <td>1.6</td>\n",
       "      <td>4.1</td>\n",
       "      <td>...</td>\n",
       "      <td>0.872</td>\n",
       "      <td>0.4</td>\n",
       "      <td>1.3</td>\n",
       "      <td>1.7</td>\n",
       "      <td>0.4</td>\n",
       "      <td>0.5</td>\n",
       "      <td>0.1</td>\n",
       "      <td>0.4</td>\n",
       "      <td>1.7</td>\n",
       "      <td>4.9</td>\n",
       "    </tr>\n",
       "    <tr>\n",
       "      <th>1</th>\n",
       "      <td>2</td>\n",
       "      <td>Quincy Acy</td>\n",
       "      <td>PF</td>\n",
       "      <td>27.0</td>\n",
       "      <td>BRK</td>\n",
       "      <td>54</td>\n",
       "      <td>8</td>\n",
       "      <td>20.7</td>\n",
       "      <td>1.8</td>\n",
       "      <td>5.3</td>\n",
       "      <td>...</td>\n",
       "      <td>0.821</td>\n",
       "      <td>0.7</td>\n",
       "      <td>3.5</td>\n",
       "      <td>4.1</td>\n",
       "      <td>0.8</td>\n",
       "      <td>0.5</td>\n",
       "      <td>0.4</td>\n",
       "      <td>1.0</td>\n",
       "      <td>2.1</td>\n",
       "      <td>5.8</td>\n",
       "    </tr>\n",
       "    <tr>\n",
       "      <th>2</th>\n",
       "      <td>3</td>\n",
       "      <td>Steven Adams</td>\n",
       "      <td>C</td>\n",
       "      <td>24.0</td>\n",
       "      <td>OKC</td>\n",
       "      <td>57</td>\n",
       "      <td>57</td>\n",
       "      <td>32.6</td>\n",
       "      <td>6.0</td>\n",
       "      <td>9.5</td>\n",
       "      <td>...</td>\n",
       "      <td>0.571</td>\n",
       "      <td>5.1</td>\n",
       "      <td>3.9</td>\n",
       "      <td>9.1</td>\n",
       "      <td>1.0</td>\n",
       "      <td>1.2</td>\n",
       "      <td>1.1</td>\n",
       "      <td>1.5</td>\n",
       "      <td>2.9</td>\n",
       "      <td>14.0</td>\n",
       "    </tr>\n",
       "    <tr>\n",
       "      <th>3</th>\n",
       "      <td>4</td>\n",
       "      <td>Bam Adebayo</td>\n",
       "      <td>C</td>\n",
       "      <td>20.0</td>\n",
       "      <td>MIA</td>\n",
       "      <td>51</td>\n",
       "      <td>11</td>\n",
       "      <td>20.5</td>\n",
       "      <td>2.7</td>\n",
       "      <td>4.8</td>\n",
       "      <td>...</td>\n",
       "      <td>0.732</td>\n",
       "      <td>1.6</td>\n",
       "      <td>3.8</td>\n",
       "      <td>5.4</td>\n",
       "      <td>1.6</td>\n",
       "      <td>0.5</td>\n",
       "      <td>0.6</td>\n",
       "      <td>0.9</td>\n",
       "      <td>2.1</td>\n",
       "      <td>7.4</td>\n",
       "    </tr>\n",
       "    <tr>\n",
       "      <th>4</th>\n",
       "      <td>5</td>\n",
       "      <td>Arron Afflalo</td>\n",
       "      <td>SG</td>\n",
       "      <td>32.0</td>\n",
       "      <td>ORL</td>\n",
       "      <td>45</td>\n",
       "      <td>2</td>\n",
       "      <td>12.8</td>\n",
       "      <td>1.2</td>\n",
       "      <td>3.0</td>\n",
       "      <td>...</td>\n",
       "      <td>0.833</td>\n",
       "      <td>0.1</td>\n",
       "      <td>1.3</td>\n",
       "      <td>1.4</td>\n",
       "      <td>0.6</td>\n",
       "      <td>0.0</td>\n",
       "      <td>0.2</td>\n",
       "      <td>0.4</td>\n",
       "      <td>1.1</td>\n",
       "      <td>3.2</td>\n",
       "    </tr>\n",
       "  </tbody>\n",
       "</table>\n",
       "<p>5 rows × 30 columns</p>\n",
       "</div>"
      ],
      "text/plain": [
       "   Rk         Player Pos   Age   Tm   G  GS    MP   FG  FGA  ...    FT%  ORB  \\\n",
       "0   1   Alex Abrines  SG  24.0  OKC  56   8  16.0  1.6  4.1  ...  0.872  0.4   \n",
       "1   2     Quincy Acy  PF  27.0  BRK  54   8  20.7  1.8  5.3  ...  0.821  0.7   \n",
       "2   3   Steven Adams   C  24.0  OKC  57  57  32.6  6.0  9.5  ...  0.571  5.1   \n",
       "3   4    Bam Adebayo   C  20.0  MIA  51  11  20.5  2.7  4.8  ...  0.732  1.6   \n",
       "4   5  Arron Afflalo  SG  32.0  ORL  45   2  12.8  1.2  3.0  ...  0.833  0.1   \n",
       "\n",
       "   DRB  TRB  AST  STL  BLK  TOV   PF  PS/G  \n",
       "0  1.3  1.7  0.4  0.5  0.1  0.4  1.7   4.9  \n",
       "1  3.5  4.1  0.8  0.5  0.4  1.0  2.1   5.8  \n",
       "2  3.9  9.1  1.0  1.2  1.1  1.5  2.9  14.0  \n",
       "3  3.8  5.4  1.6  0.5  0.6  0.9  2.1   7.4  \n",
       "4  1.3  1.4  0.6  0.0  0.2  0.4  1.1   3.2  \n",
       "\n",
       "[5 rows x 30 columns]"
      ]
     },
     "execution_count": 26,
     "metadata": {},
     "output_type": "execute_result"
    }
   ],
   "source": [
    "df = pd.read_csv('data/basketball.csv')\n",
    "df['Player'] = df['Player'].map(lambda x:x.split('\\\\')[0]) # Cleanup player names\n",
    "df.head()"
   ]
  },
  {
   "cell_type": "markdown",
   "metadata": {
    "slideshow": {
     "slide_type": "slide"
    }
   },
   "source": [
    "## Potential solution: Labeled data"
   ]
  },
  {
   "cell_type": "code",
   "execution_count": 27,
   "metadata": {
    "slideshow": {
     "slide_type": "fragment"
    }
   },
   "outputs": [
    {
     "data": {
      "text/html": [
       "<div>\n",
       "<style scoped>\n",
       "    .dataframe tbody tr th:only-of-type {\n",
       "        vertical-align: middle;\n",
       "    }\n",
       "\n",
       "    .dataframe tbody tr th {\n",
       "        vertical-align: top;\n",
       "    }\n",
       "\n",
       "    .dataframe thead th {\n",
       "        text-align: right;\n",
       "    }\n",
       "</style>\n",
       "<table border=\"1\" class=\"dataframe\">\n",
       "  <thead>\n",
       "    <tr style=\"text-align: right;\">\n",
       "      <th></th>\n",
       "      <th>G</th>\n",
       "      <th>GS</th>\n",
       "      <th>MP</th>\n",
       "      <th>FG</th>\n",
       "      <th>FGA</th>\n",
       "      <th>FG%</th>\n",
       "      <th>3P</th>\n",
       "      <th>3PA</th>\n",
       "      <th>3P%</th>\n",
       "      <th>2P</th>\n",
       "      <th>...</th>\n",
       "      <th>FT%</th>\n",
       "      <th>ORB</th>\n",
       "      <th>DRB</th>\n",
       "      <th>TRB</th>\n",
       "      <th>AST</th>\n",
       "      <th>STL</th>\n",
       "      <th>BLK</th>\n",
       "      <th>TOV</th>\n",
       "      <th>PF</th>\n",
       "      <th>PS/G</th>\n",
       "    </tr>\n",
       "    <tr>\n",
       "      <th>Pos</th>\n",
       "      <th></th>\n",
       "      <th></th>\n",
       "      <th></th>\n",
       "      <th></th>\n",
       "      <th></th>\n",
       "      <th></th>\n",
       "      <th></th>\n",
       "      <th></th>\n",
       "      <th></th>\n",
       "      <th></th>\n",
       "      <th></th>\n",
       "      <th></th>\n",
       "      <th></th>\n",
       "      <th></th>\n",
       "      <th></th>\n",
       "      <th></th>\n",
       "      <th></th>\n",
       "      <th></th>\n",
       "      <th></th>\n",
       "      <th></th>\n",
       "      <th></th>\n",
       "    </tr>\n",
       "  </thead>\n",
       "  <tbody>\n",
       "    <tr>\n",
       "      <th>SG</th>\n",
       "      <td>56</td>\n",
       "      <td>8</td>\n",
       "      <td>16.0</td>\n",
       "      <td>1.6</td>\n",
       "      <td>4.1</td>\n",
       "      <td>0.384</td>\n",
       "      <td>1.1</td>\n",
       "      <td>3.0</td>\n",
       "      <td>0.367</td>\n",
       "      <td>0.5</td>\n",
       "      <td>...</td>\n",
       "      <td>0.872</td>\n",
       "      <td>0.4</td>\n",
       "      <td>1.3</td>\n",
       "      <td>1.7</td>\n",
       "      <td>0.4</td>\n",
       "      <td>0.5</td>\n",
       "      <td>0.1</td>\n",
       "      <td>0.4</td>\n",
       "      <td>1.7</td>\n",
       "      <td>4.9</td>\n",
       "    </tr>\n",
       "    <tr>\n",
       "      <th>PF</th>\n",
       "      <td>54</td>\n",
       "      <td>8</td>\n",
       "      <td>20.7</td>\n",
       "      <td>1.8</td>\n",
       "      <td>5.3</td>\n",
       "      <td>0.336</td>\n",
       "      <td>1.4</td>\n",
       "      <td>4.2</td>\n",
       "      <td>0.329</td>\n",
       "      <td>0.4</td>\n",
       "      <td>...</td>\n",
       "      <td>0.821</td>\n",
       "      <td>0.7</td>\n",
       "      <td>3.5</td>\n",
       "      <td>4.1</td>\n",
       "      <td>0.8</td>\n",
       "      <td>0.5</td>\n",
       "      <td>0.4</td>\n",
       "      <td>1.0</td>\n",
       "      <td>2.1</td>\n",
       "      <td>5.8</td>\n",
       "    </tr>\n",
       "    <tr>\n",
       "      <th>C</th>\n",
       "      <td>57</td>\n",
       "      <td>57</td>\n",
       "      <td>32.6</td>\n",
       "      <td>6.0</td>\n",
       "      <td>9.5</td>\n",
       "      <td>0.631</td>\n",
       "      <td>0.0</td>\n",
       "      <td>0.0</td>\n",
       "      <td>0.000</td>\n",
       "      <td>6.0</td>\n",
       "      <td>...</td>\n",
       "      <td>0.571</td>\n",
       "      <td>5.1</td>\n",
       "      <td>3.9</td>\n",
       "      <td>9.1</td>\n",
       "      <td>1.0</td>\n",
       "      <td>1.2</td>\n",
       "      <td>1.1</td>\n",
       "      <td>1.5</td>\n",
       "      <td>2.9</td>\n",
       "      <td>14.0</td>\n",
       "    </tr>\n",
       "    <tr>\n",
       "      <th>C</th>\n",
       "      <td>51</td>\n",
       "      <td>11</td>\n",
       "      <td>20.5</td>\n",
       "      <td>2.7</td>\n",
       "      <td>4.8</td>\n",
       "      <td>0.551</td>\n",
       "      <td>0.0</td>\n",
       "      <td>0.1</td>\n",
       "      <td>0.000</td>\n",
       "      <td>2.7</td>\n",
       "      <td>...</td>\n",
       "      <td>0.732</td>\n",
       "      <td>1.6</td>\n",
       "      <td>3.8</td>\n",
       "      <td>5.4</td>\n",
       "      <td>1.6</td>\n",
       "      <td>0.5</td>\n",
       "      <td>0.6</td>\n",
       "      <td>0.9</td>\n",
       "      <td>2.1</td>\n",
       "      <td>7.4</td>\n",
       "    </tr>\n",
       "    <tr>\n",
       "      <th>SG</th>\n",
       "      <td>45</td>\n",
       "      <td>2</td>\n",
       "      <td>12.8</td>\n",
       "      <td>1.2</td>\n",
       "      <td>3.0</td>\n",
       "      <td>0.388</td>\n",
       "      <td>0.5</td>\n",
       "      <td>1.3</td>\n",
       "      <td>0.386</td>\n",
       "      <td>0.7</td>\n",
       "      <td>...</td>\n",
       "      <td>0.833</td>\n",
       "      <td>0.1</td>\n",
       "      <td>1.3</td>\n",
       "      <td>1.4</td>\n",
       "      <td>0.6</td>\n",
       "      <td>0.0</td>\n",
       "      <td>0.2</td>\n",
       "      <td>0.4</td>\n",
       "      <td>1.1</td>\n",
       "      <td>3.2</td>\n",
       "    </tr>\n",
       "  </tbody>\n",
       "</table>\n",
       "<p>5 rows × 25 columns</p>\n",
       "</div>"
      ],
      "text/plain": [
       "      G  GS    MP   FG  FGA    FG%   3P  3PA    3P%   2P  ...    FT%  ORB  \\\n",
       "Pos                                                       ...               \n",
       "SG   56   8  16.0  1.6  4.1  0.384  1.1  3.0  0.367  0.5  ...  0.872  0.4   \n",
       "PF   54   8  20.7  1.8  5.3  0.336  1.4  4.2  0.329  0.4  ...  0.821  0.7   \n",
       "C    57  57  32.6  6.0  9.5  0.631  0.0  0.0  0.000  6.0  ...  0.571  5.1   \n",
       "C    51  11  20.5  2.7  4.8  0.551  0.0  0.1  0.000  2.7  ...  0.732  1.6   \n",
       "SG   45   2  12.8  1.2  3.0  0.388  0.5  1.3  0.386  0.7  ...  0.833  0.1   \n",
       "\n",
       "     DRB  TRB  AST  STL  BLK  TOV   PF  PS/G  \n",
       "Pos                                           \n",
       "SG   1.3  1.7  0.4  0.5  0.1  0.4  1.7   4.9  \n",
       "PF   3.5  4.1  0.8  0.5  0.4  1.0  2.1   5.8  \n",
       "C    3.9  9.1  1.0  1.2  1.1  1.5  2.9  14.0  \n",
       "C    3.8  5.4  1.6  0.5  0.6  0.9  2.1   7.4  \n",
       "SG   1.3  1.4  0.6  0.0  0.2  0.4  1.1   3.2  \n",
       "\n",
       "[5 rows x 25 columns]"
      ]
     },
     "execution_count": 27,
     "metadata": {},
     "output_type": "execute_result"
    }
   ],
   "source": [
    "df = df.drop(['Player', 'Rk', 'Tm', 'Age'], axis=1).set_index(['Pos']).fillna(0)\n",
    "df.head()"
   ]
  },
  {
   "cell_type": "code",
   "execution_count": 28,
   "metadata": {
    "slideshow": {
     "slide_type": "slide"
    }
   },
   "outputs": [
    {
     "data": {
      "text/html": [
       "<div>\n",
       "<style scoped>\n",
       "    .dataframe tbody tr th:only-of-type {\n",
       "        vertical-align: middle;\n",
       "    }\n",
       "\n",
       "    .dataframe tbody tr th {\n",
       "        vertical-align: top;\n",
       "    }\n",
       "\n",
       "    .dataframe thead th {\n",
       "        text-align: right;\n",
       "    }\n",
       "</style>\n",
       "<table border=\"1\" class=\"dataframe\">\n",
       "  <thead>\n",
       "    <tr style=\"text-align: right;\">\n",
       "      <th></th>\n",
       "      <th>G</th>\n",
       "      <th>GS</th>\n",
       "      <th>MP</th>\n",
       "      <th>FG</th>\n",
       "      <th>FGA</th>\n",
       "      <th>FG%</th>\n",
       "      <th>3P</th>\n",
       "      <th>3PA</th>\n",
       "      <th>3P%</th>\n",
       "      <th>2P</th>\n",
       "      <th>...</th>\n",
       "      <th>FT%</th>\n",
       "      <th>ORB</th>\n",
       "      <th>DRB</th>\n",
       "      <th>TRB</th>\n",
       "      <th>AST</th>\n",
       "      <th>STL</th>\n",
       "      <th>BLK</th>\n",
       "      <th>TOV</th>\n",
       "      <th>PF</th>\n",
       "      <th>PS/G</th>\n",
       "    </tr>\n",
       "    <tr>\n",
       "      <th>Pos</th>\n",
       "      <th></th>\n",
       "      <th></th>\n",
       "      <th></th>\n",
       "      <th></th>\n",
       "      <th></th>\n",
       "      <th></th>\n",
       "      <th></th>\n",
       "      <th></th>\n",
       "      <th></th>\n",
       "      <th></th>\n",
       "      <th></th>\n",
       "      <th></th>\n",
       "      <th></th>\n",
       "      <th></th>\n",
       "      <th></th>\n",
       "      <th></th>\n",
       "      <th></th>\n",
       "      <th></th>\n",
       "      <th></th>\n",
       "      <th></th>\n",
       "      <th></th>\n",
       "    </tr>\n",
       "  </thead>\n",
       "  <tbody>\n",
       "    <tr>\n",
       "      <th>SG</th>\n",
       "      <td>0.873016</td>\n",
       "      <td>0.125000</td>\n",
       "      <td>0.422343</td>\n",
       "      <td>0.155340</td>\n",
       "      <td>0.194313</td>\n",
       "      <td>0.384</td>\n",
       "      <td>0.261905</td>\n",
       "      <td>0.283019</td>\n",
       "      <td>0.367</td>\n",
       "      <td>0.051546</td>\n",
       "      <td>...</td>\n",
       "      <td>0.872</td>\n",
       "      <td>0.078431</td>\n",
       "      <td>0.120370</td>\n",
       "      <td>0.108280</td>\n",
       "      <td>0.038462</td>\n",
       "      <td>0.227273</td>\n",
       "      <td>0.041667</td>\n",
       "      <td>0.08</td>\n",
       "      <td>0.447368</td>\n",
       "      <td>0.156051</td>\n",
       "    </tr>\n",
       "    <tr>\n",
       "      <th>PF</th>\n",
       "      <td>0.841270</td>\n",
       "      <td>0.125000</td>\n",
       "      <td>0.550409</td>\n",
       "      <td>0.174757</td>\n",
       "      <td>0.251185</td>\n",
       "      <td>0.336</td>\n",
       "      <td>0.333333</td>\n",
       "      <td>0.396226</td>\n",
       "      <td>0.329</td>\n",
       "      <td>0.041237</td>\n",
       "      <td>...</td>\n",
       "      <td>0.821</td>\n",
       "      <td>0.137255</td>\n",
       "      <td>0.324074</td>\n",
       "      <td>0.261146</td>\n",
       "      <td>0.076923</td>\n",
       "      <td>0.227273</td>\n",
       "      <td>0.166667</td>\n",
       "      <td>0.20</td>\n",
       "      <td>0.552632</td>\n",
       "      <td>0.184713</td>\n",
       "    </tr>\n",
       "    <tr>\n",
       "      <th>C</th>\n",
       "      <td>0.888889</td>\n",
       "      <td>0.890625</td>\n",
       "      <td>0.874659</td>\n",
       "      <td>0.582524</td>\n",
       "      <td>0.450237</td>\n",
       "      <td>0.631</td>\n",
       "      <td>0.000000</td>\n",
       "      <td>0.000000</td>\n",
       "      <td>0.000</td>\n",
       "      <td>0.618557</td>\n",
       "      <td>...</td>\n",
       "      <td>0.571</td>\n",
       "      <td>1.000000</td>\n",
       "      <td>0.361111</td>\n",
       "      <td>0.579618</td>\n",
       "      <td>0.096154</td>\n",
       "      <td>0.545455</td>\n",
       "      <td>0.458333</td>\n",
       "      <td>0.30</td>\n",
       "      <td>0.763158</td>\n",
       "      <td>0.445860</td>\n",
       "    </tr>\n",
       "    <tr>\n",
       "      <th>C</th>\n",
       "      <td>0.793651</td>\n",
       "      <td>0.171875</td>\n",
       "      <td>0.544959</td>\n",
       "      <td>0.262136</td>\n",
       "      <td>0.227488</td>\n",
       "      <td>0.551</td>\n",
       "      <td>0.000000</td>\n",
       "      <td>0.009434</td>\n",
       "      <td>0.000</td>\n",
       "      <td>0.278351</td>\n",
       "      <td>...</td>\n",
       "      <td>0.732</td>\n",
       "      <td>0.313725</td>\n",
       "      <td>0.351852</td>\n",
       "      <td>0.343949</td>\n",
       "      <td>0.153846</td>\n",
       "      <td>0.227273</td>\n",
       "      <td>0.250000</td>\n",
       "      <td>0.18</td>\n",
       "      <td>0.552632</td>\n",
       "      <td>0.235669</td>\n",
       "    </tr>\n",
       "    <tr>\n",
       "      <th>SG</th>\n",
       "      <td>0.698413</td>\n",
       "      <td>0.031250</td>\n",
       "      <td>0.335150</td>\n",
       "      <td>0.116505</td>\n",
       "      <td>0.142180</td>\n",
       "      <td>0.388</td>\n",
       "      <td>0.119048</td>\n",
       "      <td>0.122642</td>\n",
       "      <td>0.386</td>\n",
       "      <td>0.072165</td>\n",
       "      <td>...</td>\n",
       "      <td>0.833</td>\n",
       "      <td>0.019608</td>\n",
       "      <td>0.120370</td>\n",
       "      <td>0.089172</td>\n",
       "      <td>0.057692</td>\n",
       "      <td>0.000000</td>\n",
       "      <td>0.083333</td>\n",
       "      <td>0.08</td>\n",
       "      <td>0.289474</td>\n",
       "      <td>0.101911</td>\n",
       "    </tr>\n",
       "  </tbody>\n",
       "</table>\n",
       "<p>5 rows × 25 columns</p>\n",
       "</div>"
      ],
      "text/plain": [
       "            G        GS        MP        FG       FGA    FG%        3P  \\\n",
       "Pos                                                                      \n",
       "SG   0.873016  0.125000  0.422343  0.155340  0.194313  0.384  0.261905   \n",
       "PF   0.841270  0.125000  0.550409  0.174757  0.251185  0.336  0.333333   \n",
       "C    0.888889  0.890625  0.874659  0.582524  0.450237  0.631  0.000000   \n",
       "C    0.793651  0.171875  0.544959  0.262136  0.227488  0.551  0.000000   \n",
       "SG   0.698413  0.031250  0.335150  0.116505  0.142180  0.388  0.119048   \n",
       "\n",
       "          3PA    3P%        2P  ...    FT%       ORB       DRB       TRB  \\\n",
       "Pos                             ...                                        \n",
       "SG   0.283019  0.367  0.051546  ...  0.872  0.078431  0.120370  0.108280   \n",
       "PF   0.396226  0.329  0.041237  ...  0.821  0.137255  0.324074  0.261146   \n",
       "C    0.000000  0.000  0.618557  ...  0.571  1.000000  0.361111  0.579618   \n",
       "C    0.009434  0.000  0.278351  ...  0.732  0.313725  0.351852  0.343949   \n",
       "SG   0.122642  0.386  0.072165  ...  0.833  0.019608  0.120370  0.089172   \n",
       "\n",
       "          AST       STL       BLK   TOV        PF      PS/G  \n",
       "Pos                                                          \n",
       "SG   0.038462  0.227273  0.041667  0.08  0.447368  0.156051  \n",
       "PF   0.076923  0.227273  0.166667  0.20  0.552632  0.184713  \n",
       "C    0.096154  0.545455  0.458333  0.30  0.763158  0.445860  \n",
       "C    0.153846  0.227273  0.250000  0.18  0.552632  0.235669  \n",
       "SG   0.057692  0.000000  0.083333  0.08  0.289474  0.101911  \n",
       "\n",
       "[5 rows x 25 columns]"
      ]
     },
     "execution_count": 28,
     "metadata": {},
     "output_type": "execute_result"
    }
   ],
   "source": [
    "df_norm = (df - df.min())/(df.max() - df.min())\n",
    "df_norm.head()"
   ]
  },
  {
   "cell_type": "code",
   "execution_count": 29,
   "metadata": {
    "slideshow": {
     "slide_type": "slide"
    }
   },
   "outputs": [
    {
     "data": {
      "image/png": "[encoded data removed]",
      "text/plain": [
       "<Figure size 720x720 with 1 Axes>"
      ]
     },
     "metadata": {
      "needs_background": "light"
     },
     "output_type": "display_data"
    }
   ],
   "source": [
    "plot_transformed_data(pca, df_norm, figsize=(10,10))"
   ]
  },
  {
   "cell_type": "markdown",
   "metadata": {
    "slideshow": {
     "slide_type": "slide"
    }
   },
   "source": [
    "## Pitfall #7: Too much data!"
   ]
  },
  {
   "cell_type": "markdown",
   "metadata": {
    "slideshow": {
     "slide_type": "fragment"
    }
   },
   "source": [
    "## Potential solution: Sparsen your data!"
   ]
  },
  {
   "cell_type": "code",
   "execution_count": 30,
   "metadata": {
    "slideshow": {
     "slide_type": "fragment"
    }
   },
   "outputs": [
    {
     "data": {
      "text/plain": [
       "(55, 25)"
      ]
     },
     "execution_count": 30,
     "metadata": {},
     "output_type": "execute_result"
    }
   ],
   "source": [
    "df = df[df['GS']>55] # Only consider players who have started at least 55 games\n",
    "df.shape"
   ]
  },
  {
   "cell_type": "code",
   "execution_count": 31,
   "metadata": {
    "slideshow": {
     "slide_type": "slide"
    }
   },
   "outputs": [
    {
     "data": {
      "image/png": "[encoded data removed]",
      "text/plain": [
       "<Figure size 720x720 with 1 Axes>"
      ]
     },
     "metadata": {
      "needs_background": "light"
     },
     "output_type": "display_data"
    }
   ],
   "source": [
    "df_norm = (df - df.min())/(df.max() - df.min())\n",
    "plot_transformed_data(pca, df_norm, figsize=(10,10))"
   ]
  }
 ],
 "metadata": {
  "celltoolbar": "Slideshow",
  "kernelspec": {
   "display_name": "Python 3",
   "language": "python",
   "name": "python3"
  },
  "language_info": {
   "codemirror_mode": {
    "name": "ipython",
    "version": 3
   },
   "file_extension": ".py",
   "mimetype": "text/x-python",
   "name": "python",
   "nbconvert_exporter": "python",
   "pygments_lexer": "ipython3",
   "version": "3.7.1"
  }
 },
 "nbformat": 4,
 "nbformat_minor": 2
}
